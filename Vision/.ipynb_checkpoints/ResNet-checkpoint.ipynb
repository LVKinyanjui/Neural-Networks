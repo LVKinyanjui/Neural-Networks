{
 "cells": [
  {
   "cell_type": "code",
   "execution_count": 3,
   "id": "30b58419-26e9-4472-8ee1-1d677d8b4cea",
   "metadata": {
    "tags": []
   },
   "outputs": [],
   "source": [
    "import tensorflow as tf\n",
    "from tensorflow.keras.applications.resnet50 import ResNet50\n",
    "from tensorflow.keras.preprocessing import image\n",
    "from tensorflow.keras.applications.resnet50 import preprocess_input, decode_predictions\n",
    "import numpy as np"
   ]
  },
  {
   "cell_type": "markdown",
   "id": "3b5a9070-3f43-435e-84cb-6138dcdcba9d",
   "metadata": {},
   "source": [
    "## ResNet"
   ]
  },
  {
   "cell_type": "code",
   "execution_count": 2,
   "id": "1b74ce2c-94f9-40c3-b223-95c14a32d7a7",
   "metadata": {
    "tags": []
   },
   "outputs": [
    {
     "name": "stdout",
     "output_type": "stream",
     "text": [
      "Downloading data from https://storage.googleapis.com/tensorflow/keras-applications/resnet/resnet50_weights_tf_dim_ordering_tf_kernels.h5\n",
      "102967424/102967424 [==============================] - 109s 1us/step\n"
     ]
    },
    {
     "data": {
      "text/plain": [
       "<keras.engine.functional.Functional at 0x25eb2105570>"
      ]
     },
     "execution_count": 2,
     "metadata": {},
     "output_type": "execute_result"
    }
   ],
   "source": [
    "# tf.keras.applications.ResNet50(\n",
    "#     include_top=True,\n",
    "#     weights='imagenet',\n",
    "#     input_tensor=None,\n",
    "#     input_shape=None,\n",
    "#     pooling=None,\n",
    "#     classes=1000\n",
    "# )"
   ]
  },
  {
   "cell_type": "markdown",
   "id": "ebb4f4ca-f714-489b-bf61-cb6f1d486da4",
   "metadata": {},
   "source": [
    "### Load the pre-trained ResNet50 model"
   ]
  },
  {
   "cell_type": "code",
   "execution_count": 4,
   "id": "a4b7278a-542b-4811-b1ab-9407536fa70e",
   "metadata": {
    "tags": []
   },
   "outputs": [],
   "source": [
    "model = ResNet50(weights='imagenet')"
   ]
  },
  {
   "cell_type": "markdown",
   "id": "4502082a-e7b8-458c-a1d6-dd463f1080a8",
   "metadata": {},
   "source": [
    "### Load and preprocess an image"
   ]
  },
  {
   "cell_type": "code",
   "execution_count": 12,
   "id": "f554dcea-1319-4f3d-8c24-9e58e789adca",
   "metadata": {
    "tags": []
   },
   "outputs": [],
   "source": [
    "from PIL import Image"
   ]
  },
  {
   "cell_type": "code",
   "execution_count": 13,
   "id": "6a7e1fc5-01e5-4536-be99-40416e7336ce",
   "metadata": {},
   "outputs": [],
   "source": [
    "img_path = './data/cat.png'  # Replace with the path to your image file\n",
    "img = Image.open(img_path)\n",
    "img = img.resize((224, 224))  # Resize the image to the desired input shape\n",
    "x = image.img_to_array(img)\n",
    "x = np.expand_dims(x, axis=0)\n",
    "x = preprocess_input(x)"
   ]
  },
  {
   "cell_type": "markdown",
   "id": "7633e9f1-d9b8-411e-b0f5-f0c70e2ed590",
   "metadata": {},
   "source": [
    "### Prediction and Inference"
   ]
  },
  {
   "cell_type": "code",
   "execution_count": 14,
   "id": "391c19b6-eef3-43f2-b340-bb44a73f99b6",
   "metadata": {
    "tags": []
   },
   "outputs": [
    {
     "name": "stdout",
     "output_type": "stream",
     "text": [
      "1/1 [==============================] - 5s 5s/step\n",
      "Downloading data from https://storage.googleapis.com/download.tensorflow.org/data/imagenet_class_index.json\n",
      "35363/35363 [==============================] - 0s 1us/step\n",
      "Predicted: [('n02123045', 'tabby', 0.35606322), ('n02124075', 'Egyptian_cat', 0.10938444), ('n02123394', 'Persian_cat', 0.08866521)]\n"
     ]
    }
   ],
   "source": [
    "preds = model.predict(x)\n",
    "decoded_preds = decode_predictions(preds, top=3)[0]\n",
    "\n",
    "print('Predicted:', decoded_preds)"
   ]
  },
  {
   "cell_type": "markdown",
   "id": "207a7a4d-fc70-4252-a906-251bc091735a",
   "metadata": {},
   "source": [
    "### Remarks\n",
    "\n",
    "This pretrained model is astounding. It has completely blown my expectations out of the water, with its detailed inference from just a single image and without any fine tuning."
   ]
  },
  {
   "cell_type": "code",
   "execution_count": null,
   "id": "9a0029af-b701-4788-98bd-df4abff10a96",
   "metadata": {},
   "outputs": [],
   "source": []
  }
 ],
 "metadata": {
  "kernelspec": {
   "display_name": "DeepLearning",
   "language": "python",
   "name": "deeplearning"
  },
  "language_info": {
   "codemirror_mode": {
    "name": "ipython",
    "version": 3
   },
   "file_extension": ".py",
   "mimetype": "text/x-python",
   "name": "python",
   "nbconvert_exporter": "python",
   "pygments_lexer": "ipython3",
   "version": "3.10.4"
  }
 },
 "nbformat": 4,
 "nbformat_minor": 5
}
