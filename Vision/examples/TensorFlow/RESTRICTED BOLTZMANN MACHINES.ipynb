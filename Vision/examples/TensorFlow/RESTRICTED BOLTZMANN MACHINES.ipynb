{
 "cells": [
  {
   "cell_type": "markdown",
   "metadata": {},
   "source": [
    "<img src=\"https://cf-courses-data.s3.us.cloud-object-storage.appdomain.cloud/IBMDeveloperSkillsNetwork-DL0120EN-SkillsNetwork/images/IDSN-logo.png\" width=\"300\" alt=\"cognitiveclass.ai logo\">\n",
    "\n",
    "<h1 align=\"center\"><font size=\"5\">RESTRICTED BOLTZMANN MACHINES</font></h1>\n"
   ]
  },
  {
   "cell_type": "markdown",
   "metadata": {},
   "source": [
    "Estimated time needed: **25** minutes\n"
   ]
  },
  {
   "cell_type": "markdown",
   "metadata": {},
   "source": [
    "<h3>Introduction</h3>\n",
    "<b>Restricted Boltzmann Machine (RBM):</b>  RBMs are shallow neural nets that learn to reconstruct data by themselves in an unsupervised fashion.  \n",
    "\n",
    "\n",
    "<h4>Why are RBMs important?</h4>\n",
    "An RBM are a basic form of autoencoder.  It can automatically extract <b>meaningful</b> features from a given input.\n",
    "\n",
    "\n",
    "<h4>How does it work?</h4>\n",
    "RBM is a 2 layer neural network. Simply, RBM takes the inputs and translates those into a set of binary values that represents them in the hidden layer. Then, these numbers can be translated back to reconstruct the inputs. Through several forward and backward passes, the RBM will be trained, and a trained RBM can reveal which features are the most important ones when detecting patterns.   \n",
    "\n",
    "\n",
    "<h4>What are the applications of an RBM?</h4>\n",
    "RBM is useful for <a href='http://www.cs.utoronto.ca/~hinton/absps/netflixICML.pdf?utm_medium=Exinfluencer&utm_source=Exinfluencer&utm_content=000026UJ&utm_term=10006555&utm_id=NA-SkillsNetwork-Channel-SkillsNetworkCoursesIBMDeveloperSkillsNetworkDL0120ENSkillsNetwork954-2023-01-01'>  Collaborative Filtering</a>, dimensionality reduction, classification, regression, feature learning, topic modeling and even <b>Deep Belief Networks</b>.\n",
    "\n",
    "<h4>Is RBM a generative or Discriminative model?</h4>\n",
    "RBM is a generative model. Let me explain it by first, see what is different between discriminative and generative models: \n",
    "\n",
    "<b>Discriminative:</b> Consider a classification problem where we want to learn to distinguish between Sedan cars (y = 1) and SUV cars (y = 0), based on some features of cars. Given a training set, an algorithm like logistic regression tries to find a straight line, or <i>decision boundary</i>, that separates the suv and sedan.  \n",
    "\n",
    "<b>Generative:</b> looking at cars, we can build a model of what Sedan cars look like. Then, looking at SUVs, we can build a separate model of what SUV cars look like. Finally, to classify a new car, we can match the new car against the Sedan model, and match it against the SUV model, to see whether the new car looks more like the SUV or Sedan. \n",
    "\n",
    "Generative Models specify a probability distribution over a dataset of input vectors. We can carry out both supervised and unsupervised tasks with generative models:\n",
    "<ul>\n",
    "    <li>In an unsupervised task, we try to form a model for $P(x)$, where $P$ is the probability given $x$ as an input vector.</li>\n",
    "    <li>In the supervised task, we first form a model for $P(x|y)$, where $P$ is the probability of $x$ given $y$(the label for $x$). For example, if $y = 0$ indicates that a car is an SUV, and $y = 1$ indicates that a car is a sedan, then $p(x|y = 0)$ models the distribution of SUV features, and $p(x|y = 1)$ models the distribution of sedan features. If we manage to find $P(x|y)$ and $P(y)$, then we can use <b>Bayes rule</b> to estimate $P(y|x)$, because:   \n",
    "        $$p(y|x) = \\frac{p(x|y)p(y)}{p(x)}$$</li>\n",
    "</ul>\n",
    "Now the question is, can we build a generative model, and then use it to create synthetic data by directly sampling from the modeled probability distributions? Lets see. \n"
   ]
  },
  {
   "cell_type": "markdown",
   "metadata": {},
   "source": [
    "<h2>Table of Contents</h2>\n",
    "<ol>\n",
    "    <li><a href=\"#ref1\">Initialization</a></li>\n",
    "    <li><a href=\"#ref2\">RBM layers</a></li>\n",
    "    <li><a href=\"#ref3\">What RBM can do after training?</a></li>\n",
    "    <li><a href=\"#ref4\">How to train the model?</a></li>\n",
    "    <li><a href=\"#ref5\">Learned features</a></li>\n",
    "</ol>\n",
    "<p></p>\n",
    "</div>\n",
    "<br>\n",
    "\n",
    "<hr>\n"
   ]
  },
  {
   "cell_type": "markdown",
   "metadata": {},
   "source": [
    "<a id=\"ref1\"></a>\n",
    "<h3>Initialization</h3>\n",
    "\n",
    "First, we have to load the utility file which contains different utility functions that are not connected\n",
    "in any way to the networks presented in the tutorials, but rather help in\n",
    "processing the outputs into a more understandable way.\n"
   ]
  },
  {
   "cell_type": "code",
   "execution_count": 1,
   "metadata": {},
   "outputs": [],
   "source": [
    "import urllib.request\n",
    "with urllib.request.urlopen(\"https://cf-courses-data.s3.us.cloud-object-storage.appdomain.cloud/IBMDeveloperSkillsNetwork-DL0120EN-SkillsNetwork/labs/Week4/data/utils.py\") as url:\n",
    "    response = url.read()\n",
    "target = open('utils.py', 'w')\n",
    "target.write(response.decode('utf-8'))\n",
    "target.close()"
   ]
  },
  {
   "cell_type": "markdown",
   "metadata": {},
   "source": [
    "<h2>Installing TensorFlow </h2>\n",
    "\n",
    "We will installing TensorFlow version 2.9.0 and its required prerequistes.  Also installing pillow...\n"
   ]
  },
  {
   "cell_type": "code",
   "execution_count": 2,
   "metadata": {
    "scrolled": true,
    "tags": []
   },
   "outputs": [
    {
     "name": "stdout",
     "output_type": "stream",
     "text": [
      "Requirement already satisfied: grpcio==1.24.3 in /home/jupyterlab/conda/envs/python/lib/python3.7/site-packages (1.24.3)\n",
      "Requirement already satisfied: six>=1.5.2 in /home/jupyterlab/conda/envs/python/lib/python3.7/site-packages (from grpcio==1.24.3) (1.16.0)\n",
      "Requirement already satisfied: tensorflow==2.9.0 in /home/jupyterlab/conda/envs/python/lib/python3.7/site-packages (2.9.0)\n",
      "Requirement already satisfied: absl-py>=1.0.0 in /home/jupyterlab/conda/envs/python/lib/python3.7/site-packages (from tensorflow==2.9.0) (1.4.0)\n",
      "Requirement already satisfied: astunparse>=1.6.0 in /home/jupyterlab/conda/envs/python/lib/python3.7/site-packages (from tensorflow==2.9.0) (1.6.3)\n",
      "Requirement already satisfied: flatbuffers<2,>=1.12 in /home/jupyterlab/conda/envs/python/lib/python3.7/site-packages (from tensorflow==2.9.0) (1.12)\n",
      "Requirement already satisfied: gast<=0.4.0,>=0.2.1 in /home/jupyterlab/conda/envs/python/lib/python3.7/site-packages (from tensorflow==2.9.0) (0.4.0)\n",
      "Requirement already satisfied: google-pasta>=0.1.1 in /home/jupyterlab/conda/envs/python/lib/python3.7/site-packages (from tensorflow==2.9.0) (0.2.0)\n",
      "Requirement already satisfied: grpcio<2.0,>=1.24.3 in /home/jupyterlab/conda/envs/python/lib/python3.7/site-packages (from tensorflow==2.9.0) (1.24.3)\n",
      "Requirement already satisfied: h5py>=2.9.0 in /home/jupyterlab/conda/envs/python/lib/python3.7/site-packages (from tensorflow==2.9.0) (3.8.0)\n",
      "Requirement already satisfied: keras<2.10.0,>=2.9.0rc0 in /home/jupyterlab/conda/envs/python/lib/python3.7/site-packages (from tensorflow==2.9.0) (2.9.0)\n",
      "Requirement already satisfied: keras-preprocessing>=1.1.1 in /home/jupyterlab/conda/envs/python/lib/python3.7/site-packages (from tensorflow==2.9.0) (1.1.2)\n",
      "Requirement already satisfied: libclang>=13.0.0 in /home/jupyterlab/conda/envs/python/lib/python3.7/site-packages (from tensorflow==2.9.0) (16.0.6)\n",
      "Requirement already satisfied: numpy>=1.20 in /home/jupyterlab/conda/envs/python/lib/python3.7/site-packages (from tensorflow==2.9.0) (1.21.6)\n",
      "Requirement already satisfied: opt-einsum>=2.3.2 in /home/jupyterlab/conda/envs/python/lib/python3.7/site-packages (from tensorflow==2.9.0) (3.3.0)\n",
      "Requirement already satisfied: packaging in /home/jupyterlab/conda/envs/python/lib/python3.7/site-packages (from tensorflow==2.9.0) (23.1)\n",
      "Requirement already satisfied: protobuf>=3.9.2 in /home/jupyterlab/conda/envs/python/lib/python3.7/site-packages (from tensorflow==2.9.0) (3.19.6)\n",
      "Requirement already satisfied: setuptools in /home/jupyterlab/conda/envs/python/lib/python3.7/site-packages (from tensorflow==2.9.0) (67.7.2)\n",
      "Requirement already satisfied: six>=1.12.0 in /home/jupyterlab/conda/envs/python/lib/python3.7/site-packages (from tensorflow==2.9.0) (1.16.0)\n",
      "Requirement already satisfied: tensorboard<2.10,>=2.9 in /home/jupyterlab/conda/envs/python/lib/python3.7/site-packages (from tensorflow==2.9.0) (2.9.1)\n",
      "Requirement already satisfied: tensorflow-io-gcs-filesystem>=0.23.1 in /home/jupyterlab/conda/envs/python/lib/python3.7/site-packages (from tensorflow==2.9.0) (0.33.0)\n",
      "Requirement already satisfied: tensorflow-estimator<2.10.0,>=2.9.0rc0 in /home/jupyterlab/conda/envs/python/lib/python3.7/site-packages (from tensorflow==2.9.0) (2.9.0)\n",
      "Requirement already satisfied: termcolor>=1.1.0 in /home/jupyterlab/conda/envs/python/lib/python3.7/site-packages (from tensorflow==2.9.0) (2.3.0)\n",
      "Requirement already satisfied: typing-extensions>=3.6.6 in /home/jupyterlab/conda/envs/python/lib/python3.7/site-packages (from tensorflow==2.9.0) (4.5.0)\n",
      "Requirement already satisfied: wrapt>=1.11.0 in /home/jupyterlab/conda/envs/python/lib/python3.7/site-packages (from tensorflow==2.9.0) (1.14.1)\n",
      "Requirement already satisfied: wheel<1.0,>=0.23.0 in /home/jupyterlab/conda/envs/python/lib/python3.7/site-packages (from astunparse>=1.6.0->tensorflow==2.9.0) (0.40.0)\n",
      "Requirement already satisfied: google-auth<3,>=1.6.3 in /home/jupyterlab/conda/envs/python/lib/python3.7/site-packages (from tensorboard<2.10,>=2.9->tensorflow==2.9.0) (2.22.0)\n",
      "Requirement already satisfied: google-auth-oauthlib<0.5,>=0.4.1 in /home/jupyterlab/conda/envs/python/lib/python3.7/site-packages (from tensorboard<2.10,>=2.9->tensorflow==2.9.0) (0.4.6)\n",
      "Requirement already satisfied: markdown>=2.6.8 in /home/jupyterlab/conda/envs/python/lib/python3.7/site-packages (from tensorboard<2.10,>=2.9->tensorflow==2.9.0) (3.4.3)\n",
      "Requirement already satisfied: requests<3,>=2.21.0 in /home/jupyterlab/conda/envs/python/lib/python3.7/site-packages (from tensorboard<2.10,>=2.9->tensorflow==2.9.0) (2.29.0)\n",
      "Requirement already satisfied: tensorboard-data-server<0.7.0,>=0.6.0 in /home/jupyterlab/conda/envs/python/lib/python3.7/site-packages (from tensorboard<2.10,>=2.9->tensorflow==2.9.0) (0.6.1)\n",
      "Requirement already satisfied: tensorboard-plugin-wit>=1.6.0 in /home/jupyterlab/conda/envs/python/lib/python3.7/site-packages (from tensorboard<2.10,>=2.9->tensorflow==2.9.0) (1.8.1)\n",
      "Requirement already satisfied: werkzeug>=1.0.1 in /home/jupyterlab/conda/envs/python/lib/python3.7/site-packages (from tensorboard<2.10,>=2.9->tensorflow==2.9.0) (2.2.3)\n",
      "Requirement already satisfied: cachetools<6.0,>=2.0.0 in /home/jupyterlab/conda/envs/python/lib/python3.7/site-packages (from google-auth<3,>=1.6.3->tensorboard<2.10,>=2.9->tensorflow==2.9.0) (5.3.1)\n",
      "Requirement already satisfied: pyasn1-modules>=0.2.1 in /home/jupyterlab/conda/envs/python/lib/python3.7/site-packages (from google-auth<3,>=1.6.3->tensorboard<2.10,>=2.9->tensorflow==2.9.0) (0.3.0)\n",
      "Requirement already satisfied: rsa<5,>=3.1.4 in /home/jupyterlab/conda/envs/python/lib/python3.7/site-packages (from google-auth<3,>=1.6.3->tensorboard<2.10,>=2.9->tensorflow==2.9.0) (4.9)\n",
      "Requirement already satisfied: urllib3<2.0 in /home/jupyterlab/conda/envs/python/lib/python3.7/site-packages (from google-auth<3,>=1.6.3->tensorboard<2.10,>=2.9->tensorflow==2.9.0) (1.26.15)\n",
      "Requirement already satisfied: requests-oauthlib>=0.7.0 in /home/jupyterlab/conda/envs/python/lib/python3.7/site-packages (from google-auth-oauthlib<0.5,>=0.4.1->tensorboard<2.10,>=2.9->tensorflow==2.9.0) (1.3.1)\n",
      "Requirement already satisfied: importlib-metadata>=4.4 in /home/jupyterlab/conda/envs/python/lib/python3.7/site-packages (from markdown>=2.6.8->tensorboard<2.10,>=2.9->tensorflow==2.9.0) (4.11.4)\n",
      "Requirement already satisfied: charset-normalizer<4,>=2 in /home/jupyterlab/conda/envs/python/lib/python3.7/site-packages (from requests<3,>=2.21.0->tensorboard<2.10,>=2.9->tensorflow==2.9.0) (3.1.0)\n",
      "Requirement already satisfied: idna<4,>=2.5 in /home/jupyterlab/conda/envs/python/lib/python3.7/site-packages (from requests<3,>=2.21.0->tensorboard<2.10,>=2.9->tensorflow==2.9.0) (3.4)\n",
      "Requirement already satisfied: certifi>=2017.4.17 in /home/jupyterlab/conda/envs/python/lib/python3.7/site-packages (from requests<3,>=2.21.0->tensorboard<2.10,>=2.9->tensorflow==2.9.0) (2023.5.7)\n",
      "Requirement already satisfied: MarkupSafe>=2.1.1 in /home/jupyterlab/conda/envs/python/lib/python3.7/site-packages (from werkzeug>=1.0.1->tensorboard<2.10,>=2.9->tensorflow==2.9.0) (2.1.1)\n",
      "Requirement already satisfied: zipp>=0.5 in /home/jupyterlab/conda/envs/python/lib/python3.7/site-packages (from importlib-metadata>=4.4->markdown>=2.6.8->tensorboard<2.10,>=2.9->tensorflow==2.9.0) (3.15.0)\n",
      "Requirement already satisfied: pyasn1<0.6.0,>=0.4.6 in /home/jupyterlab/conda/envs/python/lib/python3.7/site-packages (from pyasn1-modules>=0.2.1->google-auth<3,>=1.6.3->tensorboard<2.10,>=2.9->tensorflow==2.9.0) (0.5.0)\n",
      "Requirement already satisfied: oauthlib>=3.0.0 in /home/jupyterlab/conda/envs/python/lib/python3.7/site-packages (from requests-oauthlib>=0.7.0->google-auth-oauthlib<0.5,>=0.4.1->tensorboard<2.10,>=2.9->tensorflow==2.9.0) (3.2.2)\n",
      "Requirement already satisfied: pillow==8.1.0 in /home/jupyterlab/conda/envs/python/lib/python3.7/site-packages (8.1.0)\n"
     ]
    }
   ],
   "source": [
    "!pip install grpcio==1.24.3\n",
    "!pip install tensorflow==2.9.0\n",
    "!pip install pillow==8.1.0"
   ]
  },
  {
   "cell_type": "markdown",
   "metadata": {},
   "source": [
    "<b>Notice:</b> This notebook has been created with TensorFlow version 2.9.0, and might not work with other versions. Therefore we check:\n"
   ]
  },
  {
   "cell_type": "code",
   "execution_count": 3,
   "metadata": {},
   "outputs": [
    {
     "name": "stderr",
     "output_type": "stream",
     "text": [
      "2023-08-23 09:09:42.510840: I tensorflow/core/util/util.cc:169] oneDNN custom operations are on. You may see slightly different numerical results due to floating-point round-off errors from different computation orders. To turn them off, set the environment variable `TF_ENABLE_ONEDNN_OPTS=0`.\n",
      "2023-08-23 09:09:42.516619: W tensorflow/stream_executor/platform/default/dso_loader.cc:64] Could not load dynamic library 'libcudart.so.11.0'; dlerror: libcudart.so.11.0: cannot open shared object file: No such file or directory\n",
      "2023-08-23 09:09:42.516653: I tensorflow/stream_executor/cuda/cudart_stub.cc:29] Ignore above cudart dlerror if you do not have a GPU set up on your machine.\n"
     ]
    }
   ],
   "source": [
    "import tensorflow as tf\n",
    "from IPython.display import Markdown, display\n",
    "\n",
    "def printmd(string):\n",
    "    display(Markdown('# <span style=\"color:red\">'+string+'</span>'))\n",
    "\n",
    "\n",
    "if not tf.__version__ == '2.9.0':\n",
    "    printmd('<<<<<!!!!! ERROR !!!! please upgrade to TensorFlow 2.9.0, or restart your Kernel (Kernel->Restart & Clear Output)>>>>>')"
   ]
  },
  {
   "cell_type": "markdown",
   "metadata": {},
   "source": [
    "Now, we load in all the packages that we use to create the net including the TensorFlow package:\n"
   ]
  },
  {
   "cell_type": "code",
   "execution_count": 4,
   "metadata": {
    "tags": []
   },
   "outputs": [],
   "source": [
    "!export PYTHONPATH=/resources/labs/ML0120EN"
   ]
  },
  {
   "cell_type": "code",
   "execution_count": 5,
   "metadata": {},
   "outputs": [],
   "source": [
    "import tensorflow as tf\n",
    "import numpy as np\n",
    "\n",
    "from PIL import Image\n",
    "# from utils import tile_raster_images\n",
    "import matplotlib.pyplot as plt\n",
    "%matplotlib inline"
   ]
  },
  {
   "cell_type": "markdown",
   "metadata": {},
   "source": [
    "### Helper Functions"
   ]
  },
  {
   "cell_type": "code",
   "execution_count": 6,
   "metadata": {
    "tags": []
   },
   "outputs": [],
   "source": [
    "\"\"\" This file contains different utility functions that are not connected\n",
    "in anyway to the networks presented in the tutorials, but rather help in\n",
    "processing the outputs into a more understandable way.\n",
    "\n",
    "For example ``tile_raster_images`` helps in generating a easy to grasp\n",
    "image from a set of samples or weights.\n",
    "\"\"\"\n",
    "\n",
    "import numpy\n",
    "\n",
    "\n",
    "def scale_to_unit_interval(ndar, eps=1e-8):\n",
    "    \"\"\" Scales all values in the ndarray ndar to be between 0 and 1 \"\"\"\n",
    "    ndar = ndar.copy()\n",
    "    ndar -= ndar.min()\n",
    "    ndar *= 1.0 / (ndar.max() + eps)\n",
    "    return ndar\n",
    "\n",
    "\n",
    "def tile_raster_images(X, img_shape, tile_shape, tile_spacing=(0, 0),\n",
    "                       scale_rows_to_unit_interval=True,\n",
    "                       output_pixel_vals=True):\n",
    "    \"\"\"\n",
    "    Transform an array with one flattened image per row, into an array in\n",
    "    which images are reshaped and layed out like tiles on a floor.\n",
    "\n",
    "    This function is useful for visualizing datasets whose rows are images,\n",
    "    and also columns of matrices for transforming those rows\n",
    "    (such as the first layer of a neural net).\n",
    "\n",
    "    :type X: a 2-D ndarray or a tuple of 4 channels, elements of which can\n",
    "    be 2-D ndarrays or None;\n",
    "    :param X: a 2-D array in which every row is a flattened image.\n",
    "\n",
    "    :type img_shape: tuple; (height, width)\n",
    "    :param img_shape: the original shape of each image\n",
    "\n",
    "    :type tile_shape: tuple; (rows, cols)\n",
    "    :param tile_shape: the number of images to tile (rows, cols)\n",
    "\n",
    "    :param output_pixel_vals: if output should be pixel values (i.e. int8\n",
    "    values) or floats\n",
    "\n",
    "    :param scale_rows_to_unit_interval: if the values need to be scaled before\n",
    "    being plotted to [0,1] or not\n",
    "\n",
    "\n",
    "    :returns: array suitable for viewing as an image.\n",
    "    (See:`Image.fromarray`.)\n",
    "    :rtype: a 2-d array with same dtype as X.\n",
    "\n",
    "    \"\"\"\n",
    "\n",
    "    assert len(img_shape) == 2\n",
    "    assert len(tile_shape) == 2\n",
    "    assert len(tile_spacing) == 2\n",
    "\n",
    "    # The expression below can be re-written in a more C style as\n",
    "    # follows :\n",
    "    #\n",
    "    # out_shape    = [0,0]\n",
    "    # out_shape[0] = (img_shape[0]+tile_spacing[0])*tile_shape[0] -\n",
    "    #                tile_spacing[0]\n",
    "    # out_shape[1] = (img_shape[1]+tile_spacing[1])*tile_shape[1] -\n",
    "    #                tile_spacing[1]\n",
    "    out_shape = [\n",
    "        (ishp + tsp) * tshp - tsp\n",
    "        for ishp, tshp, tsp in zip(img_shape, tile_shape, tile_spacing)\n",
    "    ]\n",
    "\n",
    "    if isinstance(X, tuple):\n",
    "        assert len(X) == 4\n",
    "        # Create an output numpy ndarray to store the image\n",
    "        if output_pixel_vals:\n",
    "            out_array = numpy.zeros((out_shape[0], out_shape[1], 4),\n",
    "                                    dtype='uint8')\n",
    "        else:\n",
    "            out_array = numpy.zeros((out_shape[0], out_shape[1], 4),\n",
    "                                    dtype=X.dtype)\n",
    "\n",
    "        #colors default to 0, alpha defaults to 1 (opaque)\n",
    "        if output_pixel_vals:\n",
    "            channel_defaults = [0, 0, 0, 255]\n",
    "        else:\n",
    "            channel_defaults = [0., 0., 0., 1.]\n",
    "\n",
    "        for i in range(4):\n",
    "            if X[i] is None:\n",
    "                # if channel is None, fill it with zeros of the correct\n",
    "                # dtype\n",
    "                dt = out_array.dtype\n",
    "                if output_pixel_vals:\n",
    "                    dt = 'uint8'\n",
    "                out_array[:, :, i] = numpy.zeros(\n",
    "                    out_shape,\n",
    "                    dtype=dt\n",
    "                ) + channel_defaults[i]\n",
    "            else:\n",
    "                # use a recurrent call to compute the channel and store it\n",
    "                # in the output\n",
    "                out_array[:, :, i] = tile_raster_images(\n",
    "                    X[i], img_shape, tile_shape, tile_spacing,\n",
    "                    scale_rows_to_unit_interval, output_pixel_vals)\n",
    "        return out_array\n",
    "\n",
    "    else:\n",
    "        # if we are dealing with only one channel\n",
    "        H, W = img_shape\n",
    "        Hs, Ws = tile_spacing\n",
    "\n",
    "        # generate a matrix to store the output\n",
    "        dt = X.dtype\n",
    "        if output_pixel_vals:\n",
    "            dt = 'uint8'\n",
    "        out_array = numpy.zeros(out_shape, dtype=dt)\n",
    "\n",
    "        for tile_row in range(tile_shape[0]):\n",
    "            for tile_col in range(tile_shape[1]):\n",
    "                if tile_row * tile_shape[1] + tile_col < X.shape[0]:\n",
    "                    this_x = X[tile_row * tile_shape[1] + tile_col]\n",
    "                    if scale_rows_to_unit_interval:\n",
    "                        # if we should scale values to be between 0 and 1\n",
    "                        # do this by calling the `scale_to_unit_interval`\n",
    "                        # function\n",
    "                        this_img = scale_to_unit_interval(\n",
    "                            this_x.reshape(img_shape))\n",
    "                    else:\n",
    "                        this_img = this_x.reshape(img_shape)\n",
    "                    # add the slice to the corresponding position in the\n",
    "                    # output array\n",
    "                    c = 1\n",
    "                    if output_pixel_vals:\n",
    "                        c = 255\n",
    "                    out_array[\n",
    "                        tile_row * (H + Hs): tile_row * (H + Hs) + H,\n",
    "                        tile_col * (W + Ws): tile_col * (W + Ws) + W\n",
    "                    ] = this_img * c\n",
    "        return out_array\n"
   ]
  },
  {
   "cell_type": "markdown",
   "metadata": {},
   "source": [
    "<hr>\n"
   ]
  },
  {
   "cell_type": "markdown",
   "metadata": {},
   "source": [
    "<a id=\"ref2\"></a>\n",
    "<h3>RBM layers</h3>\n",
    "\n",
    "An RBM has two layers. The first layer of the RBM is called the <b>visible</b> (or input layer). Imagine that our toy example, has only vectors with 7 values, so the visible layer must have $V=7$ input nodes. \n",
    "The second layer is the <b>hidden</b> layer, which has $H$ neurons in our case. Each hidden node takes on values of either 0 or 1 (i.e., $h_i = 1$ or $h_i$ = 0), with a probability that is a logistic function of the inputs it receives from the other $V$ visible units, called for example, $p(h_i = 1)$. For our toy sample, we'll use 2 nodes in the hidden layer, so $H = 2$.\n",
    "\n",
    "<center><img src=\"https://ibm.box.com/shared/static/eu26opvcefgls6vnwuo29uwp0nudmokh.png\" alt=\"RBM Model\" style=\"width: 400px;\"></center>\n"
   ]
  },
  {
   "cell_type": "markdown",
   "metadata": {},
   "source": [
    "     \n",
    "\n",
    "Each node in the first layer also has a <b>bias</b>. We will denote the bias as $v_{bias}$, and this single value is shared among the $V$ visible units.\n",
    "\n",
    "The <b>bias</b> of the second is defined similarly as $h_{bias}$, and this single value among the $H$ hidden units.\n"
   ]
  },
  {
   "cell_type": "code",
   "execution_count": 7,
   "metadata": {},
   "outputs": [
    {
     "name": "stderr",
     "output_type": "stream",
     "text": [
      "2023-08-23 09:09:45.803226: W tensorflow/stream_executor/platform/default/dso_loader.cc:64] Could not load dynamic library 'libcuda.so.1'; dlerror: libcuda.so.1: cannot open shared object file: No such file or directory\n",
      "2023-08-23 09:09:45.803319: W tensorflow/stream_executor/cuda/cuda_driver.cc:269] failed call to cuInit: UNKNOWN ERROR (303)\n",
      "2023-08-23 09:09:45.803372: I tensorflow/stream_executor/cuda/cuda_diagnostics.cc:156] kernel driver does not appear to be running on this host (jupyterlab-leslievictor): /proc/driver/nvidia/version does not exist\n",
      "2023-08-23 09:09:45.803943: I tensorflow/core/platform/cpu_feature_guard.cc:193] This TensorFlow binary is optimized with oneAPI Deep Neural Network Library (oneDNN) to use the following CPU instructions in performance-critical operations:  AVX2 AVX512F AVX512_VNNI FMA\n",
      "To enable them in other operations, rebuild TensorFlow with the appropriate compiler flags.\n"
     ]
    }
   ],
   "source": [
    "v_bias = tf.Variable(tf.zeros([7]), tf.float32)\n",
    "h_bias = tf.Variable(tf.zeros([2]), tf.float32)"
   ]
  },
  {
   "cell_type": "markdown",
   "metadata": {},
   "source": [
    "We have to define weights among the input layer and hidden layer nodes. In the weight matrix, the number of rows are equal to the input nodes, and the number of columns are equal to the output nodes. We define a tensor $\\mathbf{W}$ of shape = (7,2), where the number of visible neurons = 7, and the number of hidden neurons = 2. \n"
   ]
  },
  {
   "cell_type": "code",
   "execution_count": 8,
   "metadata": {},
   "outputs": [],
   "source": [
    "W = tf.constant(np.random.normal(loc=0.0, scale=1.0, size=(7, 2)).astype(np.float32))"
   ]
  },
  {
   "cell_type": "markdown",
   "metadata": {},
   "source": [
    "<hr>\n"
   ]
  },
  {
   "cell_type": "markdown",
   "metadata": {},
   "source": [
    "<a id=\"ref3\"></a>\n",
    "<h3>What RBM can do after training?</h3>\n",
    "Think of RBM as a model that has been trained based on images of a dataset of many SUV and sedan cars. Also, imagine that the RBM network has only two hidden nodes, where one node encodes the weight and, and the other encodes the size.  \n",
    "In a sense, the different configurations represent different cars, where one is an SUV and the other is Sedan.  In a training process, through many forward and backward passes, the RBM adjust its weights to send a stronger signal to either the SUV node (0, 1) or the sedan node (1, 0) in the hidden layer, given the pixels of images. Now, given an SUV in hidden layer, which distribution of pixels should we expect? RBM can give you 2 things. First, it encodes your images in hidden layer. Second, it gives you the probability of observing a case, given some hidden values.\n",
    "\n",
    "\n",
    "<h3>The Inference Process</h3>\n",
    "\n",
    "RBM has two phases:\n",
    "<ul>\n",
    "    <li>Forward Pass</li>  \n",
    "    <li>Backward Pass or Reconstruction</li>\n",
    "</ul>\n",
    "\n",
    "<b>Phase 1) Forward pass:</b>  \n",
    "\n",
    "Input one training sample (one image) $\\mathbf{x}$ through all visible nodes, and pass it to all hidden nodes. Processing happens in each node in the hidden layer. This computation begins by making stochastic decisions about whether to transmit that input or not (i.e. to determine the state of each hidden layer).  First, the probability vector is computed using the input feature vector $\\mathbf{x}$, the weight matrix $\\mathbf{W}$, and the bias term $h_{bias}$, as \n",
    "\n",
    "\n",
    "$$p({h_j}|\\mathbf x)= \\sigma( \\sum_{i=1}^V W_{ij} x_i + h_{bias} )$$, \n",
    "\n",
    "where $\\sigma(z) = (1+e^{-z})^{-1}$ is the logistic function.\n",
    "\n",
    "\n",
    "So, what does $p({h_j})$ represent? It is the <b>probability distribution</b> of the hidden units. That is, RBM uses inputs $x_i$ to make predictions about hidden node activations. For example, imagine that the hidden node activation values are [0.51 0.84] for the first training item. It tells you that the conditional probability for each hidden neuron for Phase 1 is: \n",
    "\n",
    "$$p(h_{1} = 1|\\mathbf{v}) = 0.51$$\n",
    "$$p(h_{2} = 1|\\mathbf{v}) = 0.84$$\n",
    "\n",
    "As a result, for each row in the training set, vector of probabilities is generated.  In TensorFlow, this is referred to as a `tensor` with a shape of (1,2). \n",
    "\n",
    "We then turn unit $j$ with probability $p(h_{j}|\\mathbf{v})$, and turn it off with probability $1 - p(h_{j}|\\mathbf{v})$ by generating a uniform random number vector $\\mathbf{\\xi}$, and comparing it to the activation probability as \n",
    "\n",
    "<center>If $\\xi_j>p(h_{j}|\\mathbf{v})$, then $h_j=1$, else $h_j=0$.</center>\n",
    "\n",
    "\n",
    "Therefore, the conditional probability of a configuration of $\\mathbf{h}$ given $\\mathbf{v}$ (for a training sample) is:\n",
    "\n",
    "$$p(\\mathbf{h} \\mid \\mathbf{v}) = \\prod_{j=1}^H p(h_j \\mid \\mathbf{v})$$\n",
    "\n",
    "\n",
    "where $H$ is the number of hidden units.\n",
    "\n"
   ]
  },
  {
   "cell_type": "markdown",
   "metadata": {},
   "source": [
    "Before we go further, let's look at a toy example for one case out of all input. Assume that we have a trained RBM, and a very simple input vector, such as [1.0, 0.0, 0.0, 1.0, 0.0, 0.0, 0.0].   \n",
    "Let's see what the output of forward pass would look like:\n"
   ]
  },
  {
   "cell_type": "code",
   "execution_count": 9,
   "metadata": {},
   "outputs": [
    {
     "name": "stdout",
     "output_type": "stream",
     "text": [
      "Input:  tf.Tensor([[1. 0. 0. 1. 0. 0. 0.]], shape=(1, 7), dtype=float32)\n",
      "hb:  tf.Tensor([0.1 0.1], shape=(2,), dtype=float32)\n",
      "w:  tf.Tensor(\n",
      "[[-1.970221   -0.6544985 ]\n",
      " [-0.8750896  -1.0906335 ]\n",
      " [ 0.04004476  0.90777236]\n",
      " [ 1.4063538  -0.11608012]\n",
      " [ 0.44867828  0.13410343]\n",
      " [-0.7337445   0.7867249 ]\n",
      " [-0.49579635  0.15148878]], shape=(7, 2), dtype=float32)\n",
      "p(h|v):  tf.Tensor([[0.3860688  0.33836728]], shape=(1, 2), dtype=float32)\n",
      "h0 states: tf.Tensor([[0. 0.]], shape=(1, 2), dtype=float32)\n"
     ]
    }
   ],
   "source": [
    "X = tf.constant([[1.0, 0.0, 0.0, 1.0, 0.0, 0.0, 0.0]], tf.float32)\n",
    "\n",
    "v_state = X\n",
    "print (\"Input: \", v_state)\n",
    "\n",
    "h_bias = tf.constant([0.1, 0.1])\n",
    "print (\"hb: \", h_bias)\n",
    "print (\"w: \", W)\n",
    "\n",
    "# Calculate the probabilities of turning the hidden units on:\n",
    "h_prob = tf.nn.sigmoid(tf.matmul(v_state, W) + h_bias)  #probabilities of the hidden units\n",
    "print (\"p(h|v): \", h_prob)\n",
    "\n",
    "# Draw samples from the distribution:\n",
    "h_state = tf.nn.relu(tf.sign(h_prob - tf.random.uniform(tf.shape(h_prob)))) #states\n",
    "print (\"h0 states:\", h_state)"
   ]
  },
  {
   "cell_type": "markdown",
   "metadata": {},
   "source": [
    "<b>Phase 2) Backward Pass (Reconstruction):</b>\n",
    "The RBM reconstructs data by making several forward and backward passes between the visible and hidden layers.\n",
    "\n",
    "So, in the second phase (i.e. reconstruction phase), the samples from the hidden layer (i.e. $\\mathbf h$) becomes the input in the backward pass. The same weight matrix and visible layer biases are used to passed to the sigmoid function. The reproduced output is a reconstruction which is an approximation of the original input.\n"
   ]
  },
  {
   "cell_type": "code",
   "execution_count": 10,
   "metadata": {},
   "outputs": [
    {
     "name": "stdout",
     "output_type": "stream",
     "text": [
      "b:  tf.Tensor([0.1 0.2 0.1 0.1 0.1 0.2 0.1], shape=(7,), dtype=float32)\n",
      "p(vi∣h):  tf.Tensor([[0.5249792 0.549834  0.5249792 0.5249792 0.5249792 0.549834  0.5249792]], shape=(1, 7), dtype=float32)\n",
      "v probability states:  tf.Tensor([[0. 0. 0. 0. 0. 0. 1.]], shape=(1, 7), dtype=float32)\n"
     ]
    }
   ],
   "source": [
    "vb = tf.constant([0.1, 0.2, 0.1, 0.1, 0.1, 0.2, 0.1])\n",
    "print (\"b: \", vb)\n",
    "v_prob = tf.nn.sigmoid(tf.matmul(h_state, tf.transpose(W)) + vb)\n",
    "print (\"p(vi∣h): \", v_prob)\n",
    "v_state = tf.nn.relu(tf.sign(v_prob - tf.random.uniform(tf.shape(v_prob))))\n",
    "print (\"v probability states: \", v_state)"
   ]
  },
  {
   "cell_type": "markdown",
   "metadata": {},
   "source": [
    "RBM learns a probability distribution over the input, and then, after being trained, the RBM can generate new samples from the learned probability distribution. As you know, <b>probability distribution</b>, is a mathematical function that provides the probabilities of occurrence of different possible outcomes in an experiment.\n",
    "\n",
    "The (conditional) probability distribution over the visible units v is given by\n",
    "\n",
    "$$p(\\mathbf{v} \\mid \\mathbf{h}) = \\prod_{i=1}^V p(v_i \\mid \\mathbf{h}),$$\n",
    "\n",
    "\n",
    "where,\n",
    "\n",
    "$$p(v_i \\mid \\mathbf{h}) = \\sigma\\left(\\sum_{j=1}^H W_{ji} h_j + v_{bias} \\right)$$\n",
    "\n",
    "so, given current state of hidden units and weights, what is the probability of generating [1. 0. 0. 1. 0. 0. 0.] in reconstruction phase, based on the above <b>probability distribution</b> function?\n"
   ]
  },
  {
   "cell_type": "code",
   "execution_count": 11,
   "metadata": {},
   "outputs": [
    {
     "name": "stdout",
     "output_type": "stream",
     "text": [
      "input X: [[1. 0. 0. 1. 0. 0. 0.]]\n",
      "probablity vector: [0.5249792 0.549834  0.5249792 0.5249792 0.5249792 0.549834  0.5249792]\n",
      "probability of generating X:  0.005986424\n"
     ]
    }
   ],
   "source": [
    "inp = X\n",
    "print(\"input X:\" , inp.numpy())\n",
    "\n",
    "print(\"probablity vector:\" , v_prob[0].numpy())\n",
    "v_probability = 1\n",
    "\n",
    "for elm, p in zip(inp[0],v_prob[0]) :\n",
    "    if elm ==1:\n",
    "        v_probability *= p\n",
    "    else:\n",
    "        v_probability *= (1-p)\n",
    "\n",
    "print(\"probability of generating X: \" , v_probability.numpy())"
   ]
  },
  {
   "cell_type": "markdown",
   "metadata": {},
   "source": [
    "How similar are vectors $\\mathbf{x}$ and $\\mathbf{v}$? Of course, the reconstructed values most likely will not look anything like the input vector, because our network has not been trained yet. Our objective is to train the model in such a way that the input vector and reconstructed vector to be same. Therefore, based on how different the input values look to the ones that we just reconstructed, the weights are adjusted. \n"
   ]
  },
  {
   "cell_type": "markdown",
   "metadata": {},
   "source": [
    "<hr>\n"
   ]
  },
  {
   "cell_type": "markdown",
   "metadata": {},
   "source": [
    "\n",
    "<h2>MNIST</h2>\n"
   ]
  },
  {
   "cell_type": "markdown",
   "metadata": {},
   "source": [
    "We will be using the MNIST dataset to practice the usage of RBMs. The following cell loads the MNIST dataset.\n"
   ]
  },
  {
   "cell_type": "code",
   "execution_count": 12,
   "metadata": {},
   "outputs": [],
   "source": [
    "#loading training and test data\n",
    "mnist = tf.keras.datasets.mnist\n",
    "(trX, trY), (teX, teY) = mnist.load_data()\n",
    "\n",
    "# showing an example of the Flatten class and operation\n",
    "from tensorflow.keras.layers import Flatten\n",
    "flatten = Flatten(dtype='float32')\n",
    "trX = flatten(trX/255.0)\n",
    "trY = flatten(trY/255.0)"
   ]
  },
  {
   "cell_type": "markdown",
   "metadata": {},
   "source": [
    "Lets look at the dimension of the images.\n"
   ]
  },
  {
   "cell_type": "markdown",
   "metadata": {},
   "source": [
    "MNIST images have 784 pixels, so the visible layer must have 784 input nodes.  For our case, we'll use 50 nodes in the hidden layer, so i = 50.\n"
   ]
  },
  {
   "cell_type": "code",
   "execution_count": 13,
   "metadata": {},
   "outputs": [],
   "source": [
    "vb = tf.Variable(tf.zeros([784]), tf.float32)\n",
    "hb = tf.Variable(tf.zeros([50]), tf.float32)"
   ]
  },
  {
   "cell_type": "markdown",
   "metadata": {},
   "source": [
    "Let $\\mathbf W$ be the Tensor of 784x50 (784 - number of visible neurons, 50 - number of hidden neurons) that represents weights between the neurons. \n"
   ]
  },
  {
   "cell_type": "code",
   "execution_count": 14,
   "metadata": {},
   "outputs": [],
   "source": [
    "W = tf.Variable(tf.zeros([784,50]), tf.float32)"
   ]
  },
  {
   "cell_type": "markdown",
   "metadata": {},
   "source": [
    "Lets define the visible layer:\n"
   ]
  },
  {
   "cell_type": "code",
   "execution_count": 15,
   "metadata": {},
   "outputs": [
    {
     "data": {
      "text/plain": [
       "<tf.Tensor: shape=(1, 50), dtype=float32, numpy=\n",
       "array([[0., 0., 0., 0., 0., 0., 0., 0., 0., 0., 0., 0., 0., 0., 0., 0.,\n",
       "        0., 0., 0., 0., 0., 0., 0., 0., 0., 0., 0., 0., 0., 0., 0., 0.,\n",
       "        0., 0., 0., 0., 0., 0., 0., 0., 0., 0., 0., 0., 0., 0., 0., 0.,\n",
       "        0., 0.]], dtype=float32)>"
      ]
     },
     "execution_count": 15,
     "metadata": {},
     "output_type": "execute_result"
    }
   ],
   "source": [
    "v0_state = tf.Variable(tf.zeros([784]), tf.float32)\n",
    "\n",
    "#testing to see if the matrix product works\n",
    "tf.matmul( [v0_state], W)"
   ]
  },
  {
   "cell_type": "markdown",
   "metadata": {},
   "source": [
    "Now, we can define hidden layer:\n"
   ]
  },
  {
   "cell_type": "code",
   "execution_count": 16,
   "metadata": {},
   "outputs": [
    {
     "name": "stdout",
     "output_type": "stream",
     "text": [
      "h0_state shape:  tf.Tensor([ 1 50], shape=(2,), dtype=int32)\n",
      "first 15 hidden states:  tf.Tensor([0. 0. 0. 0. 0. 0. 1. 1. 0. 0. 1. 1. 0. 1. 1.], shape=(15,), dtype=float32)\n"
     ]
    }
   ],
   "source": [
    "#computing the hidden nodes probability vector and checking shape\n",
    "h0_prob = tf.nn.sigmoid(tf.matmul([v0_state], W) + hb)  #probabilities of the hidden units\n",
    "print(\"h0_state shape: \" , tf.shape(h0_prob))\n",
    "\n",
    "#defining a function to return only the generated hidden states \n",
    "def hidden_layer(v0_state, W, hb):\n",
    "    h0_prob = tf.nn.sigmoid(tf.matmul([v0_state], W) + hb)  #probabilities of the hidden units\n",
    "    h0_state = tf.nn.relu(tf.sign(h0_prob - tf.random.uniform(tf.shape(h0_prob)))) #sample_h_given_X\n",
    "    return h0_state\n",
    "\n",
    "\n",
    "h0_state = hidden_layer(v0_state, W, hb)\n",
    "print(\"first 15 hidden states: \", h0_state[0][0:15])"
   ]
  },
  {
   "cell_type": "markdown",
   "metadata": {},
   "source": [
    "Now, we define reconstruction part:\n"
   ]
  },
  {
   "cell_type": "code",
   "execution_count": 17,
   "metadata": {},
   "outputs": [
    {
     "name": "stdout",
     "output_type": "stream",
     "text": [
      "hidden state shape:  (1, 50)\n",
      "v0 state shape:   (784,)\n",
      "v1 state shape:   (784,)\n"
     ]
    }
   ],
   "source": [
    "def reconstructed_output(h0_state, W, vb):\n",
    "    v1_prob = tf.nn.sigmoid(tf.matmul(h0_state, tf.transpose(W)) + vb) \n",
    "    v1_state = tf.nn.relu(tf.sign(v1_prob - tf.random.uniform(tf.shape(v1_prob)))) #sample_v_given_h\n",
    "    return v1_state[0]\n",
    "\n",
    "v1_state = reconstructed_output(h0_state, W, vb)\n",
    "print(\"hidden state shape: \", h0_state.shape)\n",
    "print(\"v0 state shape:  \", v0_state.shape)\n",
    "print(\"v1 state shape:  \", v1_state.shape)"
   ]
  },
  {
   "cell_type": "markdown",
   "metadata": {},
   "source": [
    "<h3>What is the objective function?</h3>\n",
    "\n",
    "<b>Goal</b>: Maximize the likelihood of our data being drawn from that distribution\n",
    "\n",
    "<b>Calculate error:</b>  \n",
    "In each epoch, we compute the \"error\" as a sum of the squared difference between step 1 and step n,\n",
    "e.g the error shows the difference between the data and its reconstruction.\n",
    "\n",
    "<b>Note:</b> tf.reduce_mean computes the mean of elements across dimensions of a tensor.\n"
   ]
  },
  {
   "cell_type": "code",
   "execution_count": 18,
   "metadata": {},
   "outputs": [
    {
     "name": "stdout",
     "output_type": "stream",
     "text": [
      "error 0.46938777\n"
     ]
    }
   ],
   "source": [
    "def error(v0_state, v1_state):\n",
    "    return tf.reduce_mean(tf.square(v0_state - v1_state))\n",
    "\n",
    "err = tf.reduce_mean(tf.square(v0_state - v1_state))\n",
    "print(\"error\" , err.numpy())"
   ]
  },
  {
   "cell_type": "markdown",
   "metadata": {},
   "source": [
    "<a id=\"ref4\"></a>\n",
    "<h3>Training the Model</h3>\n",
    "<b>Warning...</b> The following part is math-heavy, but you can skip it if you just want to run the cells in the next section.\n",
    "\n",
    "As mentioned, we want to give a high probability to the input data we train on. So, in order to train an RBM, we have to maximize the product of probabilities assigned to all rows $\\mathbf{v}$ (images) in the training set $\\mathbf{V}$ (a matrix, where each row of it is treated as a visible vector $\\mathbf{v}$)\n",
    "\n",
    "$$\\arg \\max_W \\prod_{\\mathbf{v}\\in\\mathbf{V}_T} p(\\mathbf{v})$$\n",
    "\n",
    "\n",
    "which is equivalent to maximizing the expectation of the log probability, given as\n",
    "\n",
    "$$\\arg\\max_W\\left[ \\mathbb{E} \\left(\\prod_{\\mathbf v\\in \\mathbf V}\\text{log} \\left(p(\\mathbf v)\\right) \\right) \\right].$$\n",
    "\n",
    "\n",
    "So, we have to update the weights $W_{ij}$  to increase $p(\\mathbf{v})$ for all $\\mathbf{v}$ in our training data during training. So we have to calculate the derivative:\n",
    "\n",
    "\n",
    "$$\\frac{\\partial \\log p(\\mathbf v)}{\\partial W_{ij}}$$\n",
    "\n",
    "This cannot be easily done by typical <b>gradient descent (SGD)</b>, so we can use another approach, which has 2 steps:\n",
    "<ol>\n",
    "    <li>Gibbs Sampling</li>\n",
    "    <li>Contrastive Divergence</li>\n",
    "</ol>    \n",
    "    \n",
    "<h3>Gibbs Sampling</h3>   \n",
    "\n",
    "<h4>Gibbs Sampling Step 1</h4> \n",
    "Given an input vector $\\mathbf{v}$, we are using $p(\\mathbf{h}|\\mathbf{v})$ to predict the hidden values $\\mathbf{h}$. \n",
    "  $$p({h_j}|\\mathbf v)= \\sigma\\left(\\sum_{i=1}^V W_{ij} v_i + h_{bias} \\right)$$\n",
    "The samples are generated from this distribution by generating the uniform random variate vector $\\mathbf{\\xi} \\sim U[0,1]$ of length $H$ and comparing to the computed probabilities as\n",
    "\n",
    "\n",
    "<center>If $\\xi_j>p(h_{j}|\\mathbf{v})$, then $h_j=1$, else $h_j=0$.</center>\n",
    "\n",
    "\n",
    "<h4>Gibbs Sampling Step 2</h4> \n",
    "Then, knowing the hidden values, we use $p(\\mathbf v| \\mathbf h)$ for reconstructing of new input values v. \n",
    "\n",
    "   $$p({v_i}|\\mathbf h)= \\sigma\\left(\\sum_{j=1}^H W^{T}_{ij} h_j + v_{bias} \\right)$$\n",
    "\n",
    "\n",
    "The samples are generated from this distribution by generating a uniform random variate vector $\\mathbf{\\xi} \\sim U[0,1]$ of length $V$ and comparing to the computed probabilities as\n",
    "\n",
    "<center>If $\\xi_i>p(v_{i}|\\mathbf{h})$, then $v_i=1$, else $v_i=0$.</center>\n",
    "\n",
    "Let vectors $\\mathbf v_k$ and $\\mathbf h_k$ be for the $k$th iteration.  In general, the $kth$ state is generrated as: \n",
    "\n",
    "\n",
    "    \n",
    "<b>Iteration</b> $k$: \n",
    "\n",
    "$$\\mathbf v_{k-1} \\Rightarrow p(\\mathbf h_{k-1}|\\mathbf v_{k-1})\\Rightarrow \\mathbf h_{k-1}\\Rightarrow p(\\mathbf v_{k}|\\mathbf h_{k-1})\\Rightarrow \\mathbf v_k$$       \n",
    "    \n",
    "<h3>Contrastive Divergence (CD-k)</h3>\n",
    "The update of the weight matrix is done during the Contrastive Divergence step. \n",
    "\n",
    "Vectors v0 and vk are used to calculate the activation probabilities for hidden values h0 and hk. The difference between the outer products of those probabilities with input vectors v0 and vk results in the update matrix:\n",
    "\n",
    "\n",
    "$$\\Delta \\mathbf W_k =\\mathbf v_k \\otimes \\mathbf h_k - \\mathbf v_{k-1} \\otimes \\mathbf h_{k-1}$$\n",
    "\n",
    "Contrastive Divergence is actually matrix of values that is computed and used to adjust values of the $\\mathbf W$ matrix. Changing $\\mathbf W$ incrementally leads to training of the  $\\mathbf W$ values. Then, on each step (epoch), $\\mathbf W$ is updated using the following:\n",
    "\n",
    "$$\\mathbf W_k = \\mathbf W_{k-1} + \\alpha * \\Delta \\mathbf W_k$$\n",
    "\n",
    "\n",
    "\n",
    "Reconstruction steps:\n",
    "<ul>\n",
    "    <li> Get one data point from data set, like <i>x</i>, and pass it through the following steps:</li>\n",
    "    \n",
    "<b>Iteration</b> $k=1$: \n",
    "    \n",
    "Sampling (starting with input image)\n",
    "    $$\\mathbf x = \\mathbf v_0 \\Rightarrow p(\\mathbf h_0|\\mathbf v_0)\\Rightarrow \\mathbf h_0 \\Rightarrow p(\\mathbf v_1|\\mathbf h_0)\\Rightarrow \\mathbf v_1$$   \n",
    "    followed by the CD-k step\n",
    "$$\\Delta \\mathbf W_1 =\\mathbf v_1 \\otimes \\mathbf h_1 - \\mathbf v_{0} \\otimes \\mathbf h_{0}$$     \n",
    "$$\\mathbf W_1 = \\mathbf W_{0} + \\alpha * \\Delta \\mathbf W_1$$ \n",
    " \n",
    "<li> $\\mathbf v_1$ is the reconstruction of $\\mathbf x$ sent to the next iteration).</li>\n",
    "\n",
    "<b>Iteration</b> $k=2$: \n",
    "\n",
    "Sampling (starting with $\\mathbf v_1$)\n",
    "\n",
    "$$\\mathbf v_1 \\Rightarrow p(\\mathbf h_1|\\mathbf v_1)\\Rightarrow \\mathbf h_1\\Rightarrow p(\\mathbf v_2|\\mathbf h_1)\\Rightarrow \\mathbf v_2$$   \n",
    "\n",
    "followed by the CD-k step\n",
    "$$\\Delta \\mathbf W_2 =\\mathbf v_2 \\otimes \\mathbf h_2 - \\mathbf v_{1} \\otimes \\mathbf h_{1}$$     \n",
    "$$\\mathbf W_2 = \\mathbf W_{1} + \\alpha * \\Delta \\mathbf W_2$$ \n",
    "\n",
    "<li> $\\mathbf v_2$ is the reconstruction of $\\mathbf v_1$ sent to the next iteration).</li>    \n",
    "      \n",
    "<b>Iteration</b> $k=K$:\n",
    "    \n",
    "Sampling (starting with $\\mathbf v_{K-1}$)\n",
    "\n",
    "$$\\mathbf v_{K-1} \\Rightarrow p(\\mathbf h_{K-1}|\\mathbf v_{K-1})\\Rightarrow \\mathbf h_{K-1}\\Rightarrow p(\\mathbf v_K|\\mathbf h_{K-1})\\Rightarrow \\mathbf v_K$$   \n",
    "\n",
    "followed by the CD-k step\n",
    "$$\\Delta \\mathbf W_K =\\mathbf v_K \\otimes \\mathbf h_K - \\mathbf v_{K-1} \\otimes \\mathbf h_{K-1}$$     \n",
    "$$\\mathbf W_K = \\mathbf W_{K-1} + \\alpha * \\Delta \\mathbf W_K$$ \n",
    "    \n",
    "<b>What is $\\alpha$?</b>  \n",
    "Here, alpha is some small step size, and is also known as the \"learning rate\".\n"
   ]
  },
  {
   "cell_type": "markdown",
   "metadata": {},
   "source": [
    "$K$ is adjustable, and good performance can be achieved with $K=1$, so that we just take one set of sampling steps per image.\n"
   ]
  },
  {
   "cell_type": "code",
   "execution_count": 19,
   "metadata": {},
   "outputs": [],
   "source": [
    "h1_prob = tf.nn.sigmoid(tf.matmul([v1_state], W) + hb)\n",
    "h1_state = tf.nn.relu(tf.sign(h1_prob - tf.random.uniform(tf.shape(h1_prob)))) #sample_h_given_X"
   ]
  },
  {
   "cell_type": "markdown",
   "metadata": {},
   "source": [
    "Lets look at the error of the first run:\n"
   ]
  },
  {
   "cell_type": "code",
   "execution_count": 20,
   "metadata": {},
   "outputs": [
    {
     "name": "stdout",
     "output_type": "stream",
     "text": [
      "error:  tf.Tensor(0.46938777, shape=(), dtype=float32)\n"
     ]
    }
   ],
   "source": [
    "print(\"error: \", error(v0_state, v1_state))"
   ]
  },
  {
   "cell_type": "code",
   "execution_count": 21,
   "metadata": {
    "scrolled": true,
    "tags": []
   },
   "outputs": [
    {
     "name": "stdout",
     "output_type": "stream",
     "text": [
      "Epoch: 0 batch #: 1  of 300 sample #: 199 reconstruction error: 0.173662\n",
      "Epoch: 0 batch #: 2  of 300 sample #: 199 reconstruction error: 0.212373\n",
      "Epoch: 0 batch #: 3  of 300 sample #: 199 reconstruction error: 0.106059\n",
      "Epoch: 0 batch #: 4  of 300 sample #: 199 reconstruction error: 0.129083\n",
      "Epoch: 0 batch #: 5  of 300 sample #: 199 reconstruction error: 0.101283\n",
      "Epoch: 0 batch #: 6  of 300 sample #: 199 reconstruction error: 0.204481\n",
      "Epoch: 0 batch #: 7  of 300 sample #: 199 reconstruction error: 0.107877\n",
      "Epoch: 0 batch #: 8  of 300 sample #: 199 reconstruction error: 0.103252\n",
      "Epoch: 0 batch #: 9  of 300 sample #: 199 reconstruction error: 0.098677\n",
      "Epoch: 0 batch #: 10  of 300 sample #: 199 reconstruction error: 0.174856\n",
      "Epoch: 0 batch #: 11  of 300 sample #: 199 reconstruction error: 0.105321\n",
      "Epoch: 0 batch #: 12  of 300 sample #: 199 reconstruction error: 0.119509\n",
      "Epoch: 0 batch #: 13  of 300 sample #: 199 reconstruction error: 0.080200\n",
      "Epoch: 0 batch #: 14  of 300 sample #: 199 reconstruction error: 0.125922\n",
      "Epoch: 0 batch #: 15  of 300 sample #: 199 reconstruction error: 0.112116\n",
      "Epoch: 0 batch #: 16  of 300 sample #: 199 reconstruction error: 0.097833\n",
      "Epoch: 0 batch #: 17  of 300 sample #: 199 reconstruction error: 0.077849\n",
      "Epoch: 0 batch #: 18  of 300 sample #: 199 reconstruction error: 0.121710\n",
      "Epoch: 0 batch #: 19  of 300 sample #: 199 reconstruction error: 0.140746\n",
      "Epoch: 0 batch #: 20  of 300 sample #: 199 reconstruction error: 0.100721\n",
      "Epoch: 0 batch #: 21  of 300 sample #: 199 reconstruction error: 0.082456\n",
      "Epoch: 0 batch #: 22  of 300 sample #: 199 reconstruction error: 0.088573\n",
      "Epoch: 0 batch #: 23  of 300 sample #: 199 reconstruction error: 0.106738\n",
      "Epoch: 0 batch #: 24  of 300 sample #: 199 reconstruction error: 0.128220\n",
      "Epoch: 0 batch #: 25  of 300 sample #: 199 reconstruction error: 0.103226\n",
      "Epoch: 0 batch #: 26  of 300 sample #: 199 reconstruction error: 0.099322\n",
      "Epoch: 0 batch #: 27  of 300 sample #: 199 reconstruction error: 0.110579\n",
      "Epoch: 0 batch #: 28  of 300 sample #: 199 reconstruction error: 0.088237\n",
      "Epoch: 0 batch #: 29  of 300 sample #: 199 reconstruction error: 0.104427\n",
      "Epoch: 0 batch #: 30  of 300 sample #: 199 reconstruction error: 0.073352\n",
      "Epoch: 0 batch #: 31  of 300 sample #: 199 reconstruction error: 0.086436\n",
      "Epoch: 0 batch #: 32  of 300 sample #: 199 reconstruction error: 0.119884\n",
      "Epoch: 0 batch #: 33  of 300 sample #: 199 reconstruction error: 0.057062\n",
      "Epoch: 0 batch #: 34  of 300 sample #: 199 reconstruction error: 0.077041\n",
      "Epoch: 0 batch #: 35  of 300 sample #: 199 reconstruction error: 0.083334\n",
      "Epoch: 0 batch #: 36  of 300 sample #: 199 reconstruction error: 0.092142\n",
      "Epoch: 0 batch #: 37  of 300 sample #: 199 reconstruction error: 0.059377\n",
      "Epoch: 0 batch #: 38  of 300 sample #: 199 reconstruction error: 0.072399\n",
      "Epoch: 0 batch #: 39  of 300 sample #: 199 reconstruction error: 0.096989\n",
      "Epoch: 0 batch #: 40  of 300 sample #: 199 reconstruction error: 0.105581\n",
      "Epoch: 0 batch #: 41  of 300 sample #: 199 reconstruction error: 0.079188\n",
      "Epoch: 0 batch #: 42  of 300 sample #: 199 reconstruction error: 0.073933\n",
      "Epoch: 0 batch #: 43  of 300 sample #: 199 reconstruction error: 0.102689\n",
      "Epoch: 0 batch #: 44  of 300 sample #: 199 reconstruction error: 0.077928\n",
      "Epoch: 0 batch #: 45  of 300 sample #: 199 reconstruction error: 0.055390\n",
      "Epoch: 0 batch #: 46  of 300 sample #: 199 reconstruction error: 0.038064\n",
      "Epoch: 0 batch #: 47  of 300 sample #: 199 reconstruction error: 0.037164\n",
      "Epoch: 0 batch #: 48  of 300 sample #: 199 reconstruction error: 0.047299\n",
      "Epoch: 0 batch #: 49  of 300 sample #: 199 reconstruction error: 0.127089\n",
      "Epoch: 0 batch #: 50  of 300 sample #: 199 reconstruction error: 0.041669\n",
      "Epoch: 0 batch #: 51  of 300 sample #: 199 reconstruction error: 0.065382\n",
      "Epoch: 0 batch #: 52  of 300 sample #: 199 reconstruction error: 0.033204\n",
      "Epoch: 0 batch #: 53  of 300 sample #: 199 reconstruction error: 0.092091\n",
      "Epoch: 0 batch #: 54  of 300 sample #: 199 reconstruction error: 0.041175\n",
      "Epoch: 0 batch #: 55  of 300 sample #: 199 reconstruction error: 0.111675\n",
      "Epoch: 0 batch #: 56  of 300 sample #: 199 reconstruction error: 0.056431\n",
      "Epoch: 0 batch #: 57  of 300 sample #: 199 reconstruction error: 0.043192\n",
      "Epoch: 0 batch #: 58  of 300 sample #: 199 reconstruction error: 0.067764\n",
      "Epoch: 0 batch #: 59  of 300 sample #: 199 reconstruction error: 0.060072\n",
      "Epoch: 0 batch #: 60  of 300 sample #: 199 reconstruction error: 0.089913\n",
      "Epoch: 0 batch #: 61  of 300 sample #: 199 reconstruction error: 0.097779\n",
      "Epoch: 0 batch #: 62  of 300 sample #: 199 reconstruction error: 0.063737\n",
      "Epoch: 0 batch #: 63  of 300 sample #: 199 reconstruction error: 0.053475\n",
      "Epoch: 0 batch #: 64  of 300 sample #: 199 reconstruction error: 0.079310\n",
      "Epoch: 0 batch #: 65  of 300 sample #: 199 reconstruction error: 0.088466\n",
      "Epoch: 0 batch #: 66  of 300 sample #: 199 reconstruction error: 0.059725\n",
      "Epoch: 0 batch #: 67  of 300 sample #: 199 reconstruction error: 0.051996\n",
      "Epoch: 0 batch #: 68  of 300 sample #: 199 reconstruction error: 0.056226\n",
      "Epoch: 0 batch #: 69  of 300 sample #: 199 reconstruction error: 0.089805\n",
      "Epoch: 0 batch #: 70  of 300 sample #: 199 reconstruction error: 0.102186\n",
      "Epoch: 0 batch #: 71  of 300 sample #: 199 reconstruction error: 0.080132\n",
      "Epoch: 0 batch #: 72  of 300 sample #: 199 reconstruction error: 0.064637\n",
      "Epoch: 0 batch #: 73  of 300 sample #: 199 reconstruction error: 0.086924\n",
      "Epoch: 0 batch #: 74  of 300 sample #: 199 reconstruction error: 0.093409\n",
      "Epoch: 0 batch #: 75  of 300 sample #: 199 reconstruction error: 0.045432\n",
      "Epoch: 0 batch #: 76  of 300 sample #: 199 reconstruction error: 0.077866\n",
      "Epoch: 0 batch #: 77  of 300 sample #: 199 reconstruction error: 0.105501\n",
      "Epoch: 0 batch #: 78  of 300 sample #: 199 reconstruction error: 0.104249\n",
      "Epoch: 0 batch #: 79  of 300 sample #: 199 reconstruction error: 0.101619\n",
      "Epoch: 0 batch #: 80  of 300 sample #: 199 reconstruction error: 0.035537\n",
      "Epoch: 0 batch #: 81  of 300 sample #: 199 reconstruction error: 0.069087\n",
      "Epoch: 0 batch #: 82  of 300 sample #: 199 reconstruction error: 0.035263\n",
      "Epoch: 0 batch #: 83  of 300 sample #: 199 reconstruction error: 0.086409\n",
      "Epoch: 0 batch #: 84  of 300 sample #: 199 reconstruction error: 0.080954\n",
      "Epoch: 0 batch #: 85  of 300 sample #: 199 reconstruction error: 0.044718\n",
      "Epoch: 0 batch #: 86  of 300 sample #: 199 reconstruction error: 0.084253\n",
      "Epoch: 0 batch #: 87  of 300 sample #: 199 reconstruction error: 0.067987\n",
      "Epoch: 0 batch #: 88  of 300 sample #: 199 reconstruction error: 0.031948\n",
      "Epoch: 0 batch #: 89  of 300 sample #: 199 reconstruction error: 0.062565\n",
      "Epoch: 0 batch #: 90  of 300 sample #: 199 reconstruction error: 0.083803\n",
      "Epoch: 0 batch #: 91  of 300 sample #: 199 reconstruction error: 0.051162\n",
      "Epoch: 0 batch #: 92  of 300 sample #: 199 reconstruction error: 0.067694\n",
      "Epoch: 0 batch #: 93  of 300 sample #: 199 reconstruction error: 0.105869\n",
      "Epoch: 0 batch #: 94  of 300 sample #: 199 reconstruction error: 0.113275\n",
      "Epoch: 0 batch #: 95  of 300 sample #: 199 reconstruction error: 0.075469\n",
      "Epoch: 0 batch #: 96  of 300 sample #: 199 reconstruction error: 0.067626\n",
      "Epoch: 0 batch #: 97  of 300 sample #: 199 reconstruction error: 0.123567\n",
      "Epoch: 0 batch #: 98  of 300 sample #: 199 reconstruction error: 0.079240\n",
      "Epoch: 0 batch #: 99  of 300 sample #: 199 reconstruction error: 0.054380\n",
      "Epoch: 0 batch #: 100  of 300 sample #: 199 reconstruction error: 0.105156\n",
      "Epoch: 0 batch #: 101  of 300 sample #: 199 reconstruction error: 0.071846\n",
      "Epoch: 0 batch #: 102  of 300 sample #: 199 reconstruction error: 0.087534\n",
      "Epoch: 0 batch #: 103  of 300 sample #: 199 reconstruction error: 0.073457\n",
      "Epoch: 0 batch #: 104  of 300 sample #: 199 reconstruction error: 0.066031\n",
      "Epoch: 0 batch #: 105  of 300 sample #: 199 reconstruction error: 0.065103\n",
      "Epoch: 0 batch #: 106  of 300 sample #: 199 reconstruction error: 0.087129\n",
      "Epoch: 0 batch #: 107  of 300 sample #: 199 reconstruction error: 0.132666\n",
      "Epoch: 0 batch #: 108  of 300 sample #: 199 reconstruction error: 0.065821\n",
      "Epoch: 0 batch #: 109  of 300 sample #: 199 reconstruction error: 0.108434\n",
      "Epoch: 0 batch #: 110  of 300 sample #: 199 reconstruction error: 0.046307\n",
      "Epoch: 0 batch #: 111  of 300 sample #: 199 reconstruction error: 0.110641\n",
      "Epoch: 0 batch #: 112  of 300 sample #: 199 reconstruction error: 0.051630\n",
      "Epoch: 0 batch #: 113  of 300 sample #: 199 reconstruction error: 0.082412\n",
      "Epoch: 0 batch #: 114  of 300 sample #: 199 reconstruction error: 0.077820\n",
      "Epoch: 0 batch #: 115  of 300 sample #: 199 reconstruction error: 0.052098\n",
      "Epoch: 0 batch #: 116  of 300 sample #: 199 reconstruction error: 0.050935\n",
      "Epoch: 0 batch #: 117  of 300 sample #: 199 reconstruction error: 0.047089\n",
      "Epoch: 0 batch #: 118  of 300 sample #: 199 reconstruction error: 0.078207\n",
      "Epoch: 0 batch #: 119  of 300 sample #: 199 reconstruction error: 0.129005\n",
      "Epoch: 0 batch #: 120  of 300 sample #: 199 reconstruction error: 0.073540\n",
      "Epoch: 0 batch #: 121  of 300 sample #: 199 reconstruction error: 0.063086\n",
      "Epoch: 0 batch #: 122  of 300 sample #: 199 reconstruction error: 0.075757\n",
      "Epoch: 0 batch #: 123  of 300 sample #: 199 reconstruction error: 0.070280\n",
      "Epoch: 0 batch #: 124  of 300 sample #: 199 reconstruction error: 0.083908\n",
      "Epoch: 0 batch #: 125  of 300 sample #: 199 reconstruction error: 0.054860\n",
      "Epoch: 0 batch #: 126  of 300 sample #: 199 reconstruction error: 0.074543\n",
      "Epoch: 0 batch #: 127  of 300 sample #: 199 reconstruction error: 0.092396\n",
      "Epoch: 0 batch #: 128  of 300 sample #: 199 reconstruction error: 0.067271\n",
      "Epoch: 0 batch #: 129  of 300 sample #: 199 reconstruction error: 0.056392\n",
      "Epoch: 0 batch #: 130  of 300 sample #: 199 reconstruction error: 0.077215\n",
      "Epoch: 0 batch #: 131  of 300 sample #: 199 reconstruction error: 0.048946\n",
      "Epoch: 0 batch #: 132  of 300 sample #: 199 reconstruction error: 0.053219\n",
      "Epoch: 0 batch #: 133  of 300 sample #: 199 reconstruction error: 0.058641\n",
      "Epoch: 0 batch #: 134  of 300 sample #: 199 reconstruction error: 0.108012\n",
      "Epoch: 0 batch #: 135  of 300 sample #: 199 reconstruction error: 0.086495\n",
      "Epoch: 0 batch #: 136  of 300 sample #: 199 reconstruction error: 0.095622\n",
      "Epoch: 0 batch #: 137  of 300 sample #: 199 reconstruction error: 0.066315\n",
      "Epoch: 0 batch #: 138  of 300 sample #: 199 reconstruction error: 0.087958\n",
      "Epoch: 0 batch #: 139  of 300 sample #: 199 reconstruction error: 0.093688\n",
      "Epoch: 0 batch #: 140  of 300 sample #: 199 reconstruction error: 0.078822\n",
      "Epoch: 0 batch #: 141  of 300 sample #: 199 reconstruction error: 0.087052\n",
      "Epoch: 0 batch #: 142  of 300 sample #: 199 reconstruction error: 0.058355\n",
      "Epoch: 0 batch #: 143  of 300 sample #: 199 reconstruction error: 0.050414\n",
      "Epoch: 0 batch #: 144  of 300 sample #: 199 reconstruction error: 0.068368\n",
      "Epoch: 0 batch #: 145  of 300 sample #: 199 reconstruction error: 0.101145\n",
      "Epoch: 0 batch #: 146  of 300 sample #: 199 reconstruction error: 0.106726\n",
      "Epoch: 0 batch #: 147  of 300 sample #: 199 reconstruction error: 0.064173\n",
      "Epoch: 0 batch #: 148  of 300 sample #: 199 reconstruction error: 0.076190\n",
      "Epoch: 0 batch #: 149  of 300 sample #: 199 reconstruction error: 0.054181\n",
      "Epoch: 0 batch #: 150  of 300 sample #: 199 reconstruction error: 0.046216\n",
      "Epoch: 0 batch #: 151  of 300 sample #: 199 reconstruction error: 0.119362\n",
      "Epoch: 0 batch #: 152  of 300 sample #: 199 reconstruction error: 0.088126\n",
      "Epoch: 0 batch #: 153  of 300 sample #: 199 reconstruction error: 0.055850\n",
      "Epoch: 0 batch #: 154  of 300 sample #: 199 reconstruction error: 0.070766\n",
      "Epoch: 0 batch #: 155  of 300 sample #: 199 reconstruction error: 0.045971\n",
      "Epoch: 0 batch #: 156  of 300 sample #: 199 reconstruction error: 0.074751\n",
      "Epoch: 0 batch #: 157  of 300 sample #: 199 reconstruction error: 0.073641\n",
      "Epoch: 0 batch #: 158  of 300 sample #: 199 reconstruction error: 0.060256\n",
      "Epoch: 0 batch #: 159  of 300 sample #: 199 reconstruction error: 0.060637\n",
      "Epoch: 0 batch #: 160  of 300 sample #: 199 reconstruction error: 0.082248\n",
      "Epoch: 0 batch #: 161  of 300 sample #: 199 reconstruction error: 0.079178\n",
      "Epoch: 0 batch #: 162  of 300 sample #: 199 reconstruction error: 0.115409\n",
      "Epoch: 0 batch #: 163  of 300 sample #: 199 reconstruction error: 0.048125\n",
      "Epoch: 0 batch #: 164  of 300 sample #: 199 reconstruction error: 0.057827\n",
      "Epoch: 0 batch #: 165  of 300 sample #: 199 reconstruction error: 0.077398\n",
      "Epoch: 0 batch #: 166  of 300 sample #: 199 reconstruction error: 0.066323\n",
      "Epoch: 0 batch #: 167  of 300 sample #: 199 reconstruction error: 0.075060\n",
      "Epoch: 0 batch #: 168  of 300 sample #: 199 reconstruction error: 0.058070\n",
      "Epoch: 0 batch #: 169  of 300 sample #: 199 reconstruction error: 0.044984\n",
      "Epoch: 0 batch #: 170  of 300 sample #: 199 reconstruction error: 0.060524\n",
      "Epoch: 0 batch #: 171  of 300 sample #: 199 reconstruction error: 0.028095\n",
      "Epoch: 0 batch #: 172  of 300 sample #: 199 reconstruction error: 0.048321\n",
      "Epoch: 0 batch #: 173  of 300 sample #: 199 reconstruction error: 0.078276\n",
      "Epoch: 0 batch #: 174  of 300 sample #: 199 reconstruction error: 0.106357\n",
      "Epoch: 0 batch #: 175  of 300 sample #: 199 reconstruction error: 0.072913\n",
      "Epoch: 0 batch #: 176  of 300 sample #: 199 reconstruction error: 0.046231\n",
      "Epoch: 0 batch #: 177  of 300 sample #: 199 reconstruction error: 0.036192\n",
      "Epoch: 0 batch #: 178  of 300 sample #: 199 reconstruction error: 0.124273\n",
      "Epoch: 0 batch #: 179  of 300 sample #: 199 reconstruction error: 0.084193\n",
      "Epoch: 0 batch #: 180  of 300 sample #: 199 reconstruction error: 0.096606\n",
      "Epoch: 0 batch #: 181  of 300 sample #: 199 reconstruction error: 0.102250\n",
      "Epoch: 0 batch #: 182  of 300 sample #: 199 reconstruction error: 0.086760\n",
      "Epoch: 0 batch #: 183  of 300 sample #: 199 reconstruction error: 0.109284\n",
      "Epoch: 0 batch #: 184  of 300 sample #: 199 reconstruction error: 0.055110\n",
      "Epoch: 0 batch #: 185  of 300 sample #: 199 reconstruction error: 0.073614\n",
      "Epoch: 0 batch #: 186  of 300 sample #: 199 reconstruction error: 0.106705\n",
      "Epoch: 0 batch #: 187  of 300 sample #: 199 reconstruction error: 0.061580\n",
      "Epoch: 0 batch #: 188  of 300 sample #: 199 reconstruction error: 0.117833\n",
      "Epoch: 0 batch #: 189  of 300 sample #: 199 reconstruction error: 0.074340\n",
      "Epoch: 0 batch #: 190  of 300 sample #: 199 reconstruction error: 0.060587\n",
      "Epoch: 0 batch #: 191  of 300 sample #: 199 reconstruction error: 0.096369\n",
      "Epoch: 0 batch #: 192  of 300 sample #: 199 reconstruction error: 0.123265\n",
      "Epoch: 0 batch #: 193  of 300 sample #: 199 reconstruction error: 0.102068\n",
      "Epoch: 0 batch #: 194  of 300 sample #: 199 reconstruction error: 0.084856\n",
      "Epoch: 0 batch #: 195  of 300 sample #: 199 reconstruction error: 0.049905\n",
      "Epoch: 0 batch #: 196  of 300 sample #: 199 reconstruction error: 0.040971\n",
      "Epoch: 0 batch #: 197  of 300 sample #: 199 reconstruction error: 0.053224\n",
      "Epoch: 0 batch #: 198  of 300 sample #: 199 reconstruction error: 0.104030\n",
      "Epoch: 0 batch #: 199  of 300 sample #: 199 reconstruction error: 0.077343\n",
      "Epoch: 0 batch #: 200  of 300 sample #: 199 reconstruction error: 0.090571\n",
      "Epoch: 0 batch #: 201  of 300 sample #: 199 reconstruction error: 0.093033\n",
      "Epoch: 0 batch #: 202  of 300 sample #: 199 reconstruction error: 0.032030\n",
      "Epoch: 0 batch #: 203  of 300 sample #: 199 reconstruction error: 0.080417\n",
      "Epoch: 0 batch #: 204  of 300 sample #: 199 reconstruction error: 0.055426\n",
      "Epoch: 0 batch #: 205  of 300 sample #: 199 reconstruction error: 0.028283\n",
      "Epoch: 0 batch #: 206  of 300 sample #: 199 reconstruction error: 0.069920\n",
      "Epoch: 0 batch #: 207  of 300 sample #: 199 reconstruction error: 0.071704\n",
      "Epoch: 0 batch #: 208  of 300 sample #: 199 reconstruction error: 0.060768\n",
      "Epoch: 0 batch #: 209  of 300 sample #: 199 reconstruction error: 0.025279\n",
      "Epoch: 0 batch #: 210  of 300 sample #: 199 reconstruction error: 0.098472\n",
      "Epoch: 0 batch #: 211  of 300 sample #: 199 reconstruction error: 0.086632\n",
      "Epoch: 0 batch #: 212  of 300 sample #: 199 reconstruction error: 0.090609\n",
      "Epoch: 0 batch #: 213  of 300 sample #: 199 reconstruction error: 0.101213\n",
      "Epoch: 0 batch #: 214  of 300 sample #: 199 reconstruction error: 0.095876\n",
      "Epoch: 0 batch #: 215  of 300 sample #: 199 reconstruction error: 0.029997\n",
      "Epoch: 0 batch #: 216  of 300 sample #: 199 reconstruction error: 0.093569\n",
      "Epoch: 0 batch #: 217  of 300 sample #: 199 reconstruction error: 0.087113\n",
      "Epoch: 0 batch #: 218  of 300 sample #: 199 reconstruction error: 0.073213\n",
      "Epoch: 0 batch #: 219  of 300 sample #: 199 reconstruction error: 0.071461\n",
      "Epoch: 0 batch #: 220  of 300 sample #: 199 reconstruction error: 0.069159\n",
      "Epoch: 0 batch #: 221  of 300 sample #: 199 reconstruction error: 0.099748\n",
      "Epoch: 0 batch #: 222  of 300 sample #: 199 reconstruction error: 0.078443\n",
      "Epoch: 0 batch #: 223  of 300 sample #: 199 reconstruction error: 0.087049\n",
      "Epoch: 0 batch #: 224  of 300 sample #: 199 reconstruction error: 0.064111\n",
      "Epoch: 0 batch #: 225  of 300 sample #: 199 reconstruction error: 0.065966\n",
      "Epoch: 0 batch #: 226  of 300 sample #: 199 reconstruction error: 0.117788\n",
      "Epoch: 0 batch #: 227  of 300 sample #: 199 reconstruction error: 0.077381\n",
      "Epoch: 0 batch #: 228  of 300 sample #: 199 reconstruction error: 0.061138\n",
      "Epoch: 0 batch #: 229  of 300 sample #: 199 reconstruction error: 0.071463\n",
      "Epoch: 0 batch #: 230  of 300 sample #: 199 reconstruction error: 0.045488\n",
      "Epoch: 0 batch #: 231  of 300 sample #: 199 reconstruction error: 0.028526\n",
      "Epoch: 0 batch #: 232  of 300 sample #: 199 reconstruction error: 0.084145\n",
      "Epoch: 0 batch #: 233  of 300 sample #: 199 reconstruction error: 0.074036\n",
      "Epoch: 0 batch #: 234  of 300 sample #: 199 reconstruction error: 0.077012\n",
      "Epoch: 0 batch #: 235  of 300 sample #: 199 reconstruction error: 0.065743\n",
      "Epoch: 0 batch #: 236  of 300 sample #: 199 reconstruction error: 0.088597\n",
      "Epoch: 0 batch #: 237  of 300 sample #: 199 reconstruction error: 0.081250\n",
      "Epoch: 0 batch #: 238  of 300 sample #: 199 reconstruction error: 0.084953\n",
      "Epoch: 0 batch #: 239  of 300 sample #: 199 reconstruction error: 0.033803\n",
      "Epoch: 0 batch #: 240  of 300 sample #: 199 reconstruction error: 0.122231\n",
      "Epoch: 0 batch #: 241  of 300 sample #: 199 reconstruction error: 0.087838\n",
      "Epoch: 0 batch #: 242  of 300 sample #: 199 reconstruction error: 0.080474\n",
      "Epoch: 0 batch #: 243  of 300 sample #: 199 reconstruction error: 0.052973\n",
      "Epoch: 0 batch #: 244  of 300 sample #: 199 reconstruction error: 0.083714\n",
      "Epoch: 0 batch #: 245  of 300 sample #: 199 reconstruction error: 0.064559\n",
      "Epoch: 0 batch #: 246  of 300 sample #: 199 reconstruction error: 0.082498\n",
      "Epoch: 0 batch #: 247  of 300 sample #: 199 reconstruction error: 0.054603\n",
      "Epoch: 0 batch #: 248  of 300 sample #: 199 reconstruction error: 0.064121\n",
      "Epoch: 0 batch #: 249  of 300 sample #: 199 reconstruction error: 0.050383\n",
      "Epoch: 0 batch #: 250  of 300 sample #: 199 reconstruction error: 0.089472\n",
      "Epoch: 0 batch #: 251  of 300 sample #: 199 reconstruction error: 0.049597\n",
      "Epoch: 0 batch #: 252  of 300 sample #: 199 reconstruction error: 0.075014\n",
      "Epoch: 0 batch #: 253  of 300 sample #: 199 reconstruction error: 0.052889\n",
      "Epoch: 0 batch #: 254  of 300 sample #: 199 reconstruction error: 0.046419\n",
      "Epoch: 0 batch #: 255  of 300 sample #: 199 reconstruction error: 0.055848\n",
      "Epoch: 0 batch #: 256  of 300 sample #: 199 reconstruction error: 0.065370\n",
      "Epoch: 0 batch #: 257  of 300 sample #: 199 reconstruction error: 0.101363\n",
      "Epoch: 0 batch #: 258  of 300 sample #: 199 reconstruction error: 0.077399\n",
      "Epoch: 0 batch #: 259  of 300 sample #: 199 reconstruction error: 0.068891\n",
      "Epoch: 0 batch #: 260  of 300 sample #: 199 reconstruction error: 0.091796\n",
      "Epoch: 0 batch #: 261  of 300 sample #: 199 reconstruction error: 0.038309\n",
      "Epoch: 0 batch #: 262  of 300 sample #: 199 reconstruction error: 0.046900\n",
      "Epoch: 0 batch #: 263  of 300 sample #: 199 reconstruction error: 0.089346\n",
      "Epoch: 0 batch #: 264  of 300 sample #: 199 reconstruction error: 0.094653\n",
      "Epoch: 0 batch #: 265  of 300 sample #: 199 reconstruction error: 0.065137\n",
      "Epoch: 0 batch #: 266  of 300 sample #: 199 reconstruction error: 0.021193\n",
      "Epoch: 0 batch #: 267  of 300 sample #: 199 reconstruction error: 0.065815\n",
      "Epoch: 0 batch #: 268  of 300 sample #: 199 reconstruction error: 0.021349\n",
      "Epoch: 0 batch #: 269  of 300 sample #: 199 reconstruction error: 0.082510\n",
      "Epoch: 0 batch #: 270  of 300 sample #: 199 reconstruction error: 0.077690\n",
      "Epoch: 0 batch #: 271  of 300 sample #: 199 reconstruction error: 0.056353\n",
      "Epoch: 0 batch #: 272  of 300 sample #: 199 reconstruction error: 0.056629\n",
      "Epoch: 0 batch #: 273  of 300 sample #: 199 reconstruction error: 0.049750\n",
      "Epoch: 0 batch #: 274  of 300 sample #: 199 reconstruction error: 0.054406\n",
      "Epoch: 0 batch #: 275  of 300 sample #: 199 reconstruction error: 0.091508\n",
      "Epoch: 0 batch #: 276  of 300 sample #: 199 reconstruction error: 0.079989\n",
      "Epoch: 0 batch #: 277  of 300 sample #: 199 reconstruction error: 0.079982\n",
      "Epoch: 0 batch #: 278  of 300 sample #: 199 reconstruction error: 0.060165\n",
      "Epoch: 0 batch #: 279  of 300 sample #: 199 reconstruction error: 0.056893\n",
      "Epoch: 0 batch #: 280  of 300 sample #: 199 reconstruction error: 0.084902\n",
      "Epoch: 0 batch #: 281  of 300 sample #: 199 reconstruction error: 0.063680\n",
      "Epoch: 0 batch #: 282  of 300 sample #: 199 reconstruction error: 0.107321\n",
      "Epoch: 0 batch #: 283  of 300 sample #: 199 reconstruction error: 0.052919\n",
      "Epoch: 0 batch #: 284  of 300 sample #: 199 reconstruction error: 0.045120\n",
      "Epoch: 0 batch #: 285  of 300 sample #: 199 reconstruction error: 0.063215\n",
      "Epoch: 0 batch #: 286  of 300 sample #: 199 reconstruction error: 0.072294\n",
      "Epoch: 0 batch #: 287  of 300 sample #: 199 reconstruction error: 0.070799\n",
      "Epoch: 0 batch #: 288  of 300 sample #: 199 reconstruction error: 0.023626\n",
      "Epoch: 0 batch #: 289  of 300 sample #: 199 reconstruction error: 0.094396\n",
      "Epoch: 0 batch #: 290  of 300 sample #: 199 reconstruction error: 0.099569\n",
      "Epoch: 0 batch #: 291  of 300 sample #: 199 reconstruction error: 0.092467\n",
      "Epoch: 0 batch #: 292  of 300 sample #: 199 reconstruction error: 0.075324\n",
      "Epoch: 0 batch #: 293  of 300 sample #: 199 reconstruction error: 0.066264\n",
      "Epoch: 0 batch #: 294  of 300 sample #: 199 reconstruction error: 0.086283\n",
      "Epoch: 0 batch #: 295  of 300 sample #: 199 reconstruction error: 0.067849\n",
      "Epoch: 0 batch #: 296  of 300 sample #: 199 reconstruction error: 0.026113\n",
      "Epoch: 0 batch #: 297  of 300 sample #: 199 reconstruction error: 0.106312\n",
      "Epoch: 0 batch #: 298  of 300 sample #: 199 reconstruction error: 0.056189\n",
      "Epoch: 0 batch #: 299  of 300 sample #: 199 reconstruction error: 0.050285\n",
      "Epoch: 0 batch #: 300  of 300 sample #: 199 reconstruction error: 0.073151\n"
     ]
    }
   ],
   "source": [
    "#Parameters\n",
    "alpha = 0.01\n",
    "epochs = 1\n",
    "batchsize = 200\n",
    "weights = []\n",
    "errors = []\n",
    "batch_number = 0\n",
    "K = 1\n",
    "\n",
    "#creating datasets\n",
    "train_ds = \\\n",
    "    tf.data.Dataset.from_tensor_slices((trX, trY)).batch(batchsize)\n",
    "\n",
    "for epoch in range(epochs):\n",
    "    for batch_x, batch_y in train_ds:\n",
    "        batch_number += 1\n",
    "        for i_sample in range(batchsize):           \n",
    "            for k in range(K):\n",
    "                v0_state = batch_x[i_sample]\n",
    "                h0_state = hidden_layer(v0_state, W, hb)\n",
    "                v1_state = reconstructed_output(h0_state, W, vb)\n",
    "                h1_state = hidden_layer(v1_state, W, hb)\n",
    "\n",
    "                delta_W = tf.matmul(tf.transpose([v0_state]), h0_state) - tf.matmul(tf.transpose([v1_state]), h1_state)\n",
    "                W = W + alpha * delta_W\n",
    "\n",
    "                vb = vb + alpha * tf.reduce_mean(v0_state - v1_state, 0)\n",
    "                hb = hb + alpha * tf.reduce_mean(h0_state - h1_state, 0) \n",
    "\n",
    "                v0_state = v1_state\n",
    "\n",
    "            if i_sample == batchsize-1:\n",
    "                err = error(batch_x[i_sample], v1_state)\n",
    "                errors.append(err)\n",
    "                weights.append(W)\n",
    "                print ( 'Epoch: %d' % epoch, \n",
    "                       \"batch #: %i \" % batch_number, \"of %i\" % int(60e3/batchsize), \n",
    "                       \"sample #: %i\" % i_sample,\n",
    "                       'reconstruction error: %f' % err)\n",
    "\n"
   ]
  },
  {
   "cell_type": "markdown",
   "metadata": {},
   "source": [
    "Let's take a look at the errors at the end of each batch:\n"
   ]
  },
  {
   "cell_type": "code",
   "execution_count": 22,
   "metadata": {},
   "outputs": [
    {
     "data": {
      "image/png": "[encoded data removed]",
      "text/plain": [
       "<Figure size 640x480 with 1 Axes>"
      ]
     },
     "metadata": {},
     "output_type": "display_data"
    }
   ],
   "source": [
    "plt.plot(errors)\n",
    "plt.xlabel(\"Batch Number\")\n",
    "plt.ylabel(\"Error\")\n",
    "plt.show()"
   ]
  },
  {
   "cell_type": "markdown",
   "metadata": {},
   "source": [
    "What is the final weight matrix $W$ after training?\n"
   ]
  },
  {
   "cell_type": "code",
   "execution_count": 23,
   "metadata": {},
   "outputs": [
    {
     "name": "stdout",
     "output_type": "stream",
     "text": [
      "[[-0.33999994 -0.46999982 -0.25000003 ... -0.21000002 -0.24000004\n",
      "  -0.29      ]\n",
      " [-0.32999995 -0.42999986 -0.22000003 ... -0.21000002 -0.21000002\n",
      "  -0.28      ]\n",
      " [-0.34999993 -0.5199998  -0.22000003 ... -0.23000003 -0.19000001\n",
      "  -0.28      ]\n",
      " ...\n",
      " [-0.30999997 -0.4999998  -0.29       ... -0.21000002 -0.19000001\n",
      "  -0.29999998]\n",
      " [-0.31999996 -0.45999983 -0.24000004 ... -0.22000003 -0.22000003\n",
      "  -0.30999997]\n",
      " [-0.31999996 -0.4899998  -0.28       ... -0.29999998 -0.23000003\n",
      "  -0.30999997]]\n"
     ]
    }
   ],
   "source": [
    "print(W.numpy()) # a weight matrix of shape (50,784)"
   ]
  },
  {
   "cell_type": "markdown",
   "metadata": {},
   "source": [
    "<a id=\"ref5\"></a>\n",
    "<h3>Learned features</h3> \n"
   ]
  },
  {
   "cell_type": "markdown",
   "metadata": {},
   "source": [
    "We can take each hidden unit and visualize the connections between that hidden unit and each element in the input vector. In our case, we have 50 hidden units. Lets visualize those.\n"
   ]
  },
  {
   "cell_type": "markdown",
   "metadata": {},
   "source": [
    "Let's plot the current weights:\n",
    "<b>tile_raster_images</b> helps in generating an easy to grasp image from a set of samples or weights. It transforms the <b>uw</b> (with one flattened image per row of size 784), into an array (of size $28\\times28$) in which images are reshaped and laid out like tiles on a floor.\n"
   ]
  },
  {
   "cell_type": "code",
   "execution_count": 24,
   "metadata": {},
   "outputs": [
    {
     "data": {
      "image/png": "[encoded data removed]",
      "text/plain": [
       "<Figure size 1800x1800 with 1 Axes>"
      ]
     },
     "metadata": {},
     "output_type": "display_data"
    }
   ],
   "source": [
    "tile_raster_images(X=W.numpy().T, img_shape=(28, 28), tile_shape=(5, 10), tile_spacing=(1, 1))\n",
    "import matplotlib.pyplot as plt\n",
    "from PIL import Image\n",
    "%matplotlib inline\n",
    "image = Image.fromarray(tile_raster_images(X=W.numpy().T, img_shape=(28, 28) ,tile_shape=(5, 10), tile_spacing=(1, 1)))\n",
    "### Plot image\n",
    "plt.rcParams['figure.figsize'] = (18.0, 18.0)\n",
    "imgplot = plt.imshow(image)\n",
    "imgplot.set_cmap('gray')  "
   ]
  },
  {
   "cell_type": "markdown",
   "metadata": {},
   "source": [
    "Each tile in the above visualization corresponds to a vector of connections between a hidden unit and visible layer's units. \n"
   ]
  },
  {
   "cell_type": "markdown",
   "metadata": {},
   "source": [
    "Let's look at one of the learned weights corresponding to one of hidden units for example. In this particular square, the gray color represents weight = 0, and the whiter it is, the more positive the weights are (closer to 1). Conversely, the darker pixels are, the more negative the weights. The positive pixels will increase the probability of activation in hidden units (after multiplying by input/visible pixels), and negative pixels will decrease the probability of a unit hidden to be 1 (activated). So, why is this important?  So we can see that this specific square (hidden unit) can detect a feature (e.g. a \"/\" shape) and if it exists in the input.\n"
   ]
  },
  {
   "cell_type": "code",
   "execution_count": 25,
   "metadata": {},
   "outputs": [
    {
     "data": {
      "image/png": "[encoded data removed]",
      "text/plain": [
       "<Figure size 400x400 with 1 Axes>"
      ]
     },
     "metadata": {},
     "output_type": "display_data"
    }
   ],
   "source": [
    "from PIL import Image\n",
    "image = Image.fromarray(tile_raster_images(X =W.numpy().T[10:11], img_shape=(28, 28),tile_shape=(1, 1), tile_spacing=(1, 1)))\n",
    "### Plot image\n",
    "plt.rcParams['figure.figsize'] = (4.0, 4.0)\n",
    "imgplot = plt.imshow(image)\n",
    "imgplot.set_cmap('gray')  "
   ]
  },
  {
   "cell_type": "markdown",
   "metadata": {},
   "source": [
    "Let's look at the reconstruction of an image now. Imagine that we have a destructed image of figure 3. Lets see if our trained network can fix it:\n",
    "\n",
    "First we plot the image:\n"
   ]
  },
  {
   "cell_type": "code",
   "execution_count": 26,
   "metadata": {},
   "outputs": [
    {
     "name": "stdout",
     "output_type": "stream",
     "text": [
      "--2023-08-23 09:12:59--  https://ibm.box.com/shared/static/vvm1b63uvuxq88vbw9znpwu5ol380mco.jpg\n",
      "Resolving ibm.box.com (ibm.box.com)... 74.112.186.144\n",
      "Connecting to ibm.box.com (ibm.box.com)|74.112.186.144|:443... connected.\n",
      "HTTP request sent, awaiting response... 301 Moved Permanently\n",
      "Location: /public/static/vvm1b63uvuxq88vbw9znpwu5ol380mco.jpg [following]\n",
      "--2023-08-23 09:12:59--  https://ibm.box.com/public/static/vvm1b63uvuxq88vbw9znpwu5ol380mco.jpg\n",
      "Reusing existing connection to ibm.box.com:443.\n",
      "HTTP request sent, awaiting response... 301 Moved Permanently\n",
      "Location: https://ibm.ent.box.com/public/static/vvm1b63uvuxq88vbw9znpwu5ol380mco.jpg [following]\n",
      "--2023-08-23 09:12:59--  https://ibm.ent.box.com/public/static/vvm1b63uvuxq88vbw9znpwu5ol380mco.jpg\n",
      "Resolving ibm.ent.box.com (ibm.ent.box.com)... 74.112.186.144\n",
      "Connecting to ibm.ent.box.com (ibm.ent.box.com)|74.112.186.144|:443... connected.\n",
      "HTTP request sent, awaiting response... 302 Found\n",
      "Location: https://public.boxcloud.com/d/1/b1!q6Hc511xbrTjjN49QQFp5VYC5JGwmvcW5GHIQhhhZw52OX6jVBhfC4s6UIiwJc0XVvirk0mEbPgYDhh72bcqxMcA-dmWoD6-vL9gj1a8DB6N7fJHXliQWhA7XrTnOj7XpFoHNrOwFzVy-A1X6fnosf6oTSAi7NhQXWB927FuZ-PP1_2r1k8WyXuCsqLM5JLQTdIS7wsYGGcaRgA1QtFt-A6v5VsiCNOksQhpem9WzG8r-UlNwSsF1LMY2o7F9xS1GJ2xNpH1UKb8D8ufskD4sToG8dXmmr3jMdr4zQFpukFDCBEkylt15BJ5uthZSmfPEY_PbYA0_r1mtb6Cw_6_mNfFhBP4m3Ar5V5czehj_WXn9onrB1MFnXsDBKLtvZtqiZ-Ty1xGMcT8yzcEphyfW46hlg8pp39W7KrnbzRiDf82jrECh8PRg34r0HKfnwjFFbpksTzdGoXVVL9MIuIlCOQ90u7PDTEgkICOxIE1aj-BvM80skf2xYll6Z0h3dNaxgtWhhK69gWOlHFytdCRVckA2x6be8XvWZHEKTcTYvyZiHOMJTVp4IkMg-0MLQ-BbK5ZZFbFc1A410yGN8qWjX60MV91WZ3JffXRn7eAN23BOpaX_zTOdp2pgxh-dXNmNxF6qSm-uy3iiUQmpXu3aTSKE25emfsQwqaNEKun7r_PGSlKRgYXa-OYuXPBtVUowKKHG7i0pFQiXzU3cdWrhg3E_5kcv02Lra5Up1-oWLhbgWzrq1-s_xas1zIP3QNERmNHHKt3HRNRXiHGXpexzmUuZo9-TYc9D-dXs9e00PP8p1AFBBUlfFzajps5WJ28BtxbIxgg-z3CfigeLU8LAHFLGwJ9oTxSTmfk0LZhftJdDAjFA3s9yG3ew6wCj-K91N9JI7TvGLHACIaIvWELMKMzxyedUteO79coHbEe-h1YVNKr0eKEBsMYcyQ5mZLjleDepZsDOJa6yJfrnOxTsTLXqE35X0r49sQnRJ6UBp_IzO0cOzBAccBMVw98JMQUykEjAqrg1ctJHMAJjszElap8ohvEMREExj4dYeWDKrbXYljpAXoAax8q2ArFtdUo-3zSElPQmtSbymA_uDopQa390akDD8dltLXZhi6TmwtBo1X4DQiXHc0qbfMk0FtCsmA34Av8k57jjfIDwuJR1Y2Zhjj_ujU3yQRBhb1r2B2NcHJgkC9uBw2OaZqoFCBCyhHbsuQtvVzEl9qfp8mVcbHxdZ86Ty8a4tBBgLrtEnU88Pk7XlFM-yt9oQIvxD-twcle5ColsIAD536BbJgOuPhLwSqs5EAF1BE870a3VfZLel9EsXvNEKShFGIG4YLPI1Qh6MgLfy7Im4EhY3lywp9SEH4EEg774O5zqo8lO9hgExgmVPaK5tsER_MbQWt9Sm9pi6Z6WqmlVJOTnFjxGq-2/download [following]\n",
      "--2023-08-23 09:13:00--  https://public.boxcloud.com/d/1/b1!q6Hc511xbrTjjN49QQFp5VYC5JGwmvcW5GHIQhhhZw52OX6jVBhfC4s6UIiwJc0XVvirk0mEbPgYDhh72bcqxMcA-dmWoD6-vL9gj1a8DB6N7fJHXliQWhA7XrTnOj7XpFoHNrOwFzVy-A1X6fnosf6oTSAi7NhQXWB927FuZ-PP1_2r1k8WyXuCsqLM5JLQTdIS7wsYGGcaRgA1QtFt-A6v5VsiCNOksQhpem9WzG8r-UlNwSsF1LMY2o7F9xS1GJ2xNpH1UKb8D8ufskD4sToG8dXmmr3jMdr4zQFpukFDCBEkylt15BJ5uthZSmfPEY_PbYA0_r1mtb6Cw_6_mNfFhBP4m3Ar5V5czehj_WXn9onrB1MFnXsDBKLtvZtqiZ-Ty1xGMcT8yzcEphyfW46hlg8pp39W7KrnbzRiDf82jrECh8PRg34r0HKfnwjFFbpksTzdGoXVVL9MIuIlCOQ90u7PDTEgkICOxIE1aj-BvM80skf2xYll6Z0h3dNaxgtWhhK69gWOlHFytdCRVckA2x6be8XvWZHEKTcTYvyZiHOMJTVp4IkMg-0MLQ-BbK5ZZFbFc1A410yGN8qWjX60MV91WZ3JffXRn7eAN23BOpaX_zTOdp2pgxh-dXNmNxF6qSm-uy3iiUQmpXu3aTSKE25emfsQwqaNEKun7r_PGSlKRgYXa-OYuXPBtVUowKKHG7i0pFQiXzU3cdWrhg3E_5kcv02Lra5Up1-oWLhbgWzrq1-s_xas1zIP3QNERmNHHKt3HRNRXiHGXpexzmUuZo9-TYc9D-dXs9e00PP8p1AFBBUlfFzajps5WJ28BtxbIxgg-z3CfigeLU8LAHFLGwJ9oTxSTmfk0LZhftJdDAjFA3s9yG3ew6wCj-K91N9JI7TvGLHACIaIvWELMKMzxyedUteO79coHbEe-h1YVNKr0eKEBsMYcyQ5mZLjleDepZsDOJa6yJfrnOxTsTLXqE35X0r49sQnRJ6UBp_IzO0cOzBAccBMVw98JMQUykEjAqrg1ctJHMAJjszElap8ohvEMREExj4dYeWDKrbXYljpAXoAax8q2ArFtdUo-3zSElPQmtSbymA_uDopQa390akDD8dltLXZhi6TmwtBo1X4DQiXHc0qbfMk0FtCsmA34Av8k57jjfIDwuJR1Y2Zhjj_ujU3yQRBhb1r2B2NcHJgkC9uBw2OaZqoFCBCyhHbsuQtvVzEl9qfp8mVcbHxdZ86Ty8a4tBBgLrtEnU88Pk7XlFM-yt9oQIvxD-twcle5ColsIAD536BbJgOuPhLwSqs5EAF1BE870a3VfZLel9EsXvNEKShFGIG4YLPI1Qh6MgLfy7Im4EhY3lywp9SEH4EEg774O5zqo8lO9hgExgmVPaK5tsER_MbQWt9Sm9pi6Z6WqmlVJOTnFjxGq-2/download\n",
      "Resolving public.boxcloud.com (public.boxcloud.com)... 74.112.186.128\n",
      "Connecting to public.boxcloud.com (public.boxcloud.com)|74.112.186.128|:443... connected.\n",
      "HTTP request sent, awaiting response... 200 OK\n",
      "Length: 24383 (24K) [image/jpeg]\n",
      "Saving to: ‘destructed3.jpg’\n",
      "\n",
      "destructed3.jpg     100%[===================>]  23.81K  --.-KB/s    in 0.03s   \n",
      "\n",
      "2023-08-23 09:13:01 (798 KB/s) - ‘destructed3.jpg’ saved [24383/24383]\n",
      "\n"
     ]
    },
    {
     "data": {
      "image/png": "[encoded data removed]",
      "text/plain": [
       "<PIL.JpegImagePlugin.JpegImageFile image mode=RGB size=181x181 at 0x7F94340E2290>"
      ]
     },
     "execution_count": 26,
     "metadata": {},
     "output_type": "execute_result"
    }
   ],
   "source": [
    "!wget -O destructed3.jpg  https://ibm.box.com/shared/static/vvm1b63uvuxq88vbw9znpwu5ol380mco.jpg\n",
    "img = Image.open('destructed3.jpg')\n",
    "img"
   ]
  },
  {
   "cell_type": "markdown",
   "metadata": {},
   "source": [
    "Now let's pass this image through the neural net:\n"
   ]
  },
  {
   "cell_type": "code",
   "execution_count": 27,
   "metadata": {},
   "outputs": [],
   "source": [
    "# convert the image to a 1d numpy array\n",
    "sample_case = np.array(img.convert('I').resize((28,28))).ravel().reshape((1, -1))/255.0\n",
    "\n",
    "sample_case = tf.cast(sample_case, dtype=tf.float32)"
   ]
  },
  {
   "cell_type": "markdown",
   "metadata": {},
   "source": [
    "Feed the sample case into the network and reconstruct the output:\n"
   ]
  },
  {
   "cell_type": "code",
   "execution_count": 28,
   "metadata": {
    "scrolled": true,
    "tags": []
   },
   "outputs": [
    {
     "name": "stdout",
     "output_type": "stream",
     "text": [
      "Probability nodes in hidden layer: tf.Tensor(\n",
      "[[3.6710940e-04 9.1517472e-01 2.2106978e-15 3.1530973e-09 4.5823166e-05\n",
      "  1.2033139e-08 3.3420813e-01 3.0602308e-03 1.0000000e+00 3.3739767e-13\n",
      "  9.9415934e-01 7.3711690e-03 2.4280216e-06 3.1545363e-12 2.3806207e-03\n",
      "  5.1830223e-10 9.9922282e-01 5.9791234e-09 8.2248484e-09 9.9995226e-01\n",
      "  9.7339815e-01 1.5111803e-02 1.0000000e+00 9.9998754e-01 1.0597753e-13\n",
      "  9.9974412e-01 9.9782479e-01 9.5577812e-01 9.9992329e-01 3.0334456e-07\n",
      "  1.0000000e+00 9.9883723e-01 9.2320201e-10 4.7981639e-06 2.5946209e-01\n",
      "  9.7870022e-01 9.0990383e-03 9.9999672e-01 1.8450556e-10 6.2289397e-12\n",
      "  9.9997735e-01 6.6051931e-10 3.9582993e-03 1.1961779e-05 1.4924587e-15\n",
      "  1.4664808e-12 9.9999988e-01 1.0452166e-05 5.3215246e-09 2.8794706e-02]], shape=(1, 50), dtype=float32)\n",
      "activated nodes in hidden layer: tf.Tensor(\n",
      "[[0. 1. 0. 0. 0. 0. 0. 0. 1. 0. 1. 0. 0. 0. 0. 0. 1. 0. 0. 1. 1. 0. 1. 1.\n",
      "  0. 1. 1. 1. 1. 0. 1. 1. 0. 0. 0. 1. 0. 1. 0. 0. 1. 0. 0. 0. 0. 0. 1. 0.\n",
      "  0. 0.]], shape=(1, 50), dtype=float32)\n",
      "tf.Tensor(\n",
      "[[1.57432660e-04 1.96165638e-04 1.90369217e-04 2.30194652e-04\n",
      "  1.31502442e-04 1.63856705e-04 1.73987180e-04 2.32507649e-04\n",
      "  1.63856705e-04 2.39587040e-04 1.51260727e-04 3.13827011e-04\n",
      "  1.82985139e-04 2.07779463e-04 1.37935174e-04 1.42856094e-04\n",
      "  1.02417282e-04 1.75735709e-04 1.28898799e-04 1.48265943e-04\n",
      "  1.36868417e-04 1.84744044e-04 2.25637414e-04 1.84744044e-04\n",
      "  2.08293393e-04 6.66257329e-05 1.86600446e-04 1.79284893e-04\n",
      "  1.34158530e-04 2.06221419e-04 1.09842411e-04 1.68845989e-04\n",
      "  2.04939861e-04 1.20463868e-04 1.48289269e-04 1.22042315e-04\n",
      "  1.35124646e-04 2.28173158e-04 1.91050029e-04 2.72871723e-04\n",
      "  3.06340022e-04 1.41008743e-04 1.51546294e-04 1.60285781e-04\n",
      "  3.32809490e-04 4.53919230e-04 3.94827570e-04 2.12001338e-04\n",
      "  2.76305946e-04 1.38950054e-04 1.65594203e-04 1.76273898e-04\n",
      "  1.65503254e-04 2.54398561e-04 1.82906282e-04 2.44425697e-04\n",
      "  1.35506707e-04 1.51260596e-04 1.97168119e-04 9.76216179e-05\n",
      "  1.54861540e-04 1.71952808e-04 3.69938469e-04 2.22057628e-04\n",
      "  2.54319049e-04 1.83466982e-04 1.31822962e-04 7.02593024e-05\n",
      "  5.49250326e-05 5.83646324e-05 1.03082457e-04 1.85537545e-04\n",
      "  2.51356658e-04 1.16250994e-04 7.70444385e-05 3.56726086e-05\n",
      "  1.03381819e-04 1.30936736e-04 1.63132572e-04 3.07144859e-04\n",
      "  2.18019733e-04 1.38835894e-04 1.59014671e-04 1.12061185e-04\n",
      "  2.37203611e-04 1.55866539e-04 2.52045895e-04 1.07667780e-04\n",
      "  1.29121458e-04 1.96373920e-04 4.00627323e-04 1.61509917e-04\n",
      "  8.53771053e-05 1.06238651e-04 6.14251476e-05 6.21445433e-05\n",
      "  8.86467169e-05 4.18813433e-04 7.16025883e-04 1.96623476e-03\n",
      "  1.67193648e-03 9.79508855e-04 4.09110362e-04 2.67736672e-04\n",
      "  2.34056148e-04 3.98999488e-04 1.34375296e-04 2.25505573e-04\n",
      "  3.50800430e-04 1.92093925e-04 1.41901270e-04 1.60612719e-04\n",
      "  1.77501424e-04 1.55305315e-04 2.04410419e-04 1.44110832e-04\n",
      "  1.70823594e-04 3.12024495e-04 4.95072803e-04 2.06838580e-04\n",
      "  2.70192308e-04 2.41232105e-04 4.63952485e-04 7.99943693e-04\n",
      "  2.83630355e-03 1.61986072e-02 1.89734381e-02 7.31115192e-02\n",
      "  8.55370238e-02 9.96096730e-02 4.65796441e-02 2.56204847e-02\n",
      "  8.76984745e-03 3.61687061e-03 5.27589349e-03 4.01631277e-03\n",
      "  9.36018419e-04 4.37738985e-04 1.35921990e-04 1.77606053e-04\n",
      "  2.23392955e-04 9.84017388e-05 1.13222828e-04 2.40254740e-04\n",
      "  5.31156431e-04 8.51813878e-04 1.07417267e-03 1.39936444e-03\n",
      "  3.69759812e-03 5.52101387e-03 5.45307016e-03 2.11052485e-02\n",
      "  1.32295966e-01 4.78227139e-01 7.47123778e-01 7.94031441e-01\n",
      "  8.89756560e-01 8.31453800e-01 6.30094051e-01 3.22034717e-01\n",
      "  1.91371650e-01 7.42678866e-02 3.15502547e-02 1.09400926e-02\n",
      "  3.03525128e-03 7.12009554e-04 6.76089607e-04 1.55317612e-04\n",
      "  1.68846163e-04 2.88436742e-04 2.72775214e-04 4.90397157e-04\n",
      "  1.02291128e-03 1.65180978e-03 2.06900458e-03 5.34303067e-03\n",
      "  5.34315500e-03 2.10267249e-02 2.52805427e-02 1.74408436e-01\n",
      "  6.48972273e-01 8.89095843e-01 9.57926810e-01 9.43827152e-01\n",
      "  8.80112827e-01 8.51702213e-01 8.77089858e-01 6.60887659e-01\n",
      "  4.40987408e-01 2.25251257e-01 5.12675717e-02 2.13166326e-02\n",
      "  7.02578621e-03 1.64219737e-03 8.30749632e-04 2.68352072e-04\n",
      "  1.55335831e-04 1.96751382e-04 3.26246605e-04 8.47449410e-04\n",
      "  2.03758059e-03 2.09616893e-03 5.28815202e-03 9.40931775e-03\n",
      "  4.19527069e-02 1.03332296e-01 1.24673538e-01 6.81569874e-01\n",
      "  9.53910828e-01 9.60995555e-01 9.16043282e-01 7.92679906e-01\n",
      "  7.46860266e-01 7.09669292e-01 7.08402336e-01 6.93764329e-01\n",
      "  7.04150677e-01 2.14410931e-01 6.16849884e-02 1.37745040e-02\n",
      "  4.19580983e-03 1.07287487e-03 8.56464379e-04 1.70162093e-04\n",
      "  1.55262809e-04 1.45918777e-04 9.46637767e-04 1.09914830e-03\n",
      "  1.47838355e-03 1.88367546e-03 4.49862750e-03 1.81153379e-02\n",
      "  5.96021414e-02 1.29084185e-01 5.74791849e-01 8.79954219e-01\n",
      "  9.50105667e-01 8.55398476e-01 4.71965373e-01 1.85944855e-01\n",
      "  3.14201623e-01 3.59928548e-01 7.51316547e-01 7.84375966e-01\n",
      "  7.88915038e-01 5.07222116e-01 1.16204642e-01 1.96154285e-02\n",
      "  4.48164204e-03 7.66093144e-04 3.98889242e-04 1.56718539e-04\n",
      "  1.79834125e-04 2.17260647e-04 6.61361089e-04 8.42815381e-04\n",
      "  8.14538624e-04 2.41225469e-03 7.84147438e-03 1.52649917e-02\n",
      "  6.40128404e-02 2.76110590e-01 5.85995138e-01 8.50167990e-01\n",
      "  8.05896223e-01 3.51071835e-01 1.28641263e-01 1.44391924e-01\n",
      "  1.47370905e-01 5.39847553e-01 7.76479840e-01 9.19282198e-01\n",
      "  7.91087449e-01 6.33377552e-01 9.46256444e-02 1.14431139e-02\n",
      "  3.26546538e-03 9.62841150e-04 4.28840576e-04 2.26817487e-04\n",
      "  1.26500512e-04 4.35752474e-04 4.55863308e-04 8.76284787e-04\n",
      "  7.70511222e-04 3.98244988e-03 2.38800095e-03 7.23332493e-03\n",
      "  2.08232142e-02 9.47172344e-02 3.71533036e-01 6.43959761e-01\n",
      "  2.27353230e-01 4.63932939e-02 6.36293590e-02 1.23073995e-01\n",
      "  3.35488349e-01 6.49698496e-01 9.48715866e-01 8.68357122e-01\n",
      "  7.12700009e-01 2.27863520e-01 6.93748966e-02 6.76028663e-03\n",
      "  2.83693988e-03 5.35738363e-04 4.47647297e-04 1.42604316e-04\n",
      "  1.97454443e-04 3.34627402e-04 6.25047542e-04 6.39065693e-04\n",
      "  1.18668075e-03 3.91548732e-03 1.45360059e-03 6.14123140e-03\n",
      "  8.12402088e-03 4.05192934e-02 1.32345840e-01 1.34381354e-01\n",
      "  6.82374239e-02 9.69680548e-02 2.01397553e-01 4.81440097e-01\n",
      "  6.87663376e-01 8.85772884e-01 8.76628041e-01 8.02241504e-01\n",
      "  3.78386199e-01 4.98941876e-02 8.56478233e-03 4.47014300e-03\n",
      "  2.01521581e-03 6.12319622e-04 3.33763339e-04 1.84831093e-04\n",
      "  1.25016188e-04 2.44617549e-04 4.40079282e-04 8.03189585e-04\n",
      "  8.72180914e-04 3.59134097e-03 6.38298132e-03 4.55875276e-03\n",
      "  8.15165602e-03 3.54777277e-02 5.14793210e-02 5.50354123e-02\n",
      "  1.89848050e-01 3.72400910e-01 6.92365050e-01 9.01916802e-01\n",
      "  7.54605412e-01 8.06006730e-01 7.37545907e-01 3.42018157e-01\n",
      "  6.49266466e-02 1.13120908e-02 8.25773086e-03 2.36323779e-03\n",
      "  1.34856638e-03 4.34389425e-04 2.79465545e-04 1.89371684e-04\n",
      "  1.29227745e-04 2.24948963e-04 2.53851002e-04 6.05158799e-04\n",
      "  1.23316713e-03 3.72641138e-03 3.26307002e-03 7.09881447e-03\n",
      "  2.32961830e-02 3.32094133e-02 4.31202129e-02 1.67337134e-01\n",
      "  5.42240858e-01 7.84847260e-01 9.14431155e-01 8.13321829e-01\n",
      "  7.30379164e-01 6.50704026e-01 4.92016703e-01 1.22818828e-01\n",
      "  2.10487619e-02 8.95878579e-03 3.44848237e-03 1.41182868e-03\n",
      "  6.51517475e-04 3.65356769e-04 1.75873633e-04 1.69356659e-04\n",
      "  1.54806912e-04 2.24860589e-04 3.13814788e-04 6.80288766e-04\n",
      "  3.00394744e-03 4.70713712e-03 8.10349826e-03 1.25255203e-02\n",
      "  2.40282919e-02 6.44478351e-02 7.44344443e-02 3.67232472e-01\n",
      "  7.75871098e-01 7.69161463e-01 8.59002054e-01 7.12274790e-01\n",
      "  6.59488559e-01 7.96602428e-01 4.35358673e-01 4.81758527e-02\n",
      "  1.11830179e-02 6.69489615e-03 3.12392623e-03 2.04603048e-03\n",
      "  4.34685819e-04 2.89764721e-04 1.74356363e-04 1.58759402e-04\n",
      "  2.75851053e-04 2.03673859e-04 4.15518123e-04 1.20631210e-03\n",
      "  3.73820192e-03 5.19962329e-03 9.06093977e-03 1.94233265e-02\n",
      "  1.96034014e-02 5.84450774e-02 7.89928660e-02 3.64371330e-01\n",
      "  4.73517686e-01 2.73950249e-01 1.82927221e-01 2.28951722e-01\n",
      "  4.56618428e-01 7.90332198e-01 4.23692197e-01 4.63060029e-02\n",
      "  5.48280682e-03 2.35123653e-03 3.54866427e-03 1.51590246e-03\n",
      "  1.15586678e-03 3.49649548e-04 3.10462492e-04 1.16127456e-04\n",
      "  1.92357693e-04 2.71388708e-04 4.25907521e-04 2.59835646e-03\n",
      "  1.08810756e-02 9.92137659e-03 2.72804704e-02 5.19889332e-02\n",
      "  2.55626570e-02 2.49960385e-02 2.80403811e-02 6.15442023e-02\n",
      "  1.65042952e-01 3.23758125e-02 1.10452510e-02 3.75915170e-02\n",
      "  5.57315171e-01 7.92524576e-01 4.89851743e-01 9.46716145e-02\n",
      "  5.87305333e-03 3.08967009e-03 3.29669542e-03 1.97278429e-03\n",
      "  8.55806458e-04 2.02894284e-04 4.01429395e-04 1.55281028e-04\n",
      "  1.20185527e-04 2.02996453e-04 5.25750918e-04 2.93244561e-03\n",
      "  1.74891260e-02 4.17039916e-02 7.51753971e-02 9.20003429e-02\n",
      "  6.26630709e-02 2.19383426e-02 1.09524922e-02 1.73241552e-02\n",
      "  1.38585847e-02 1.69542711e-03 3.46414302e-03 5.00904433e-02\n",
      "  4.32618797e-01 7.43431807e-01 5.89234352e-01 1.32508576e-01\n",
      "  2.13467963e-02 1.44400327e-02 1.14662824e-02 1.43101637e-03\n",
      "  1.73202599e-03 4.78886941e-04 2.35158019e-04 1.66766928e-04\n",
      "  1.61522243e-04 3.05607566e-04 8.41891102e-04 7.34308362e-03\n",
      "  6.56928867e-02 1.01087429e-01 2.20346212e-01 1.74870551e-01\n",
      "  9.16840658e-02 3.25040445e-02 1.26039898e-02 1.19726220e-02\n",
      "  1.51704706e-03 8.29746190e-04 3.07195075e-03 3.02574970e-02\n",
      "  3.58834058e-01 8.26242924e-01 7.37375200e-01 4.49613243e-01\n",
      "  6.75438941e-02 1.24356626e-02 6.42917491e-03 2.46922416e-03\n",
      "  1.88277359e-03 3.57983838e-04 2.93536257e-04 1.22800877e-04\n",
      "  1.44478341e-04 1.66257727e-04 2.06598593e-03 4.08601463e-02\n",
      "  1.54200375e-01 4.51995850e-01 6.14006400e-01 4.43255514e-01\n",
      "  2.20849454e-01 1.24407873e-01 1.07324841e-02 9.23012942e-03\n",
      "  2.69875349e-03 3.85530875e-03 9.71509796e-03 8.99268314e-02\n",
      "  5.02405286e-01 9.01537120e-01 9.05485451e-01 4.74740565e-01\n",
      "  7.12388083e-02 1.05488170e-02 3.31549696e-03 1.97626115e-03\n",
      "  1.63009937e-03 8.79246742e-04 4.37223760e-04 1.64448982e-04\n",
      "  7.51195912e-05 3.06964503e-04 4.50892141e-03 3.54759209e-02\n",
      "  4.71406102e-01 6.08610868e-01 8.17013443e-01 7.83804357e-01\n",
      "  6.21157646e-01 1.33767560e-01 4.89663705e-02 1.58389453e-02\n",
      "  6.21683663e-03 3.90281389e-03 1.83108747e-02 2.26685375e-01\n",
      "  8.18881571e-01 9.35240448e-01 8.62301528e-01 3.63755316e-01\n",
      "  3.34973112e-02 6.24813000e-03 1.52641197e-03 1.42582203e-03\n",
      "  1.15337386e-03 5.58835105e-04 3.19037790e-04 1.69782215e-04\n",
      "  1.62436729e-04 2.83937785e-04 3.25547019e-03 8.89479816e-02\n",
      "  3.67288351e-01 6.59783185e-01 8.56408656e-01 8.80588770e-01\n",
      "  8.67289603e-01 2.75899023e-01 1.00866646e-01 3.89587581e-02\n",
      "  2.97780391e-02 4.17646542e-02 2.02013478e-01 5.71998537e-01\n",
      "  9.02458549e-01 9.08514559e-01 6.98468626e-01 1.62764385e-01\n",
      "  2.74518896e-02 3.77727021e-03 5.69146592e-04 9.79361357e-04\n",
      "  1.05800736e-03 7.30666274e-04 1.82069329e-04 1.67146602e-04\n",
      "  1.13293790e-04 1.54019785e-04 1.72610895e-03 2.94733196e-02\n",
      "  2.25060359e-01 6.62606657e-01 9.34347987e-01 9.32636857e-01\n",
      "  9.40911353e-01 7.08922625e-01 6.42436862e-01 3.74829173e-01\n",
      "  2.13393137e-01 2.71353900e-01 5.61725616e-01 7.06021488e-01\n",
      "  7.69190788e-01 6.05870962e-01 2.50545293e-01 4.50243168e-02\n",
      "  6.14382233e-03 8.95702280e-04 1.14594831e-03 8.09548481e-04\n",
      "  9.82692000e-04 3.66431806e-04 1.58026582e-04 2.24895746e-04\n",
      "  1.31502442e-04 1.27616353e-04 4.70661093e-04 6.36925036e-03\n",
      "  7.38650039e-02 5.12324333e-01 7.11191952e-01 8.91980112e-01\n",
      "  9.21938062e-01 9.73498642e-01 9.12513614e-01 6.90331340e-01\n",
      "  4.93903250e-01 4.33297575e-01 2.02980116e-01 2.84008473e-01\n",
      "  2.29571864e-01 2.09778637e-01 3.67595032e-02 8.44268501e-03\n",
      "  5.22752479e-03 7.04084523e-04 5.66781964e-04 1.13463530e-03\n",
      "  7.28951243e-04 2.56270665e-04 1.40467659e-04 1.07667576e-04\n",
      "  1.32823800e-04 1.65503108e-04 1.94237233e-04 6.81515259e-04\n",
      "  7.63660017e-03 3.64727490e-02 1.92009449e-01 3.49993974e-01\n",
      "  4.38087612e-01 7.09217250e-01 4.98138279e-01 2.36560971e-01\n",
      "  2.72042871e-01 1.14007168e-01 6.74481764e-02 2.68680695e-02\n",
      "  2.24552583e-02 3.46914306e-02 1.83882751e-02 3.16343410e-03\n",
      "  1.74208300e-03 6.57770957e-04 7.37771334e-04 4.29176347e-04\n",
      "  2.58298329e-04 3.04459129e-04 1.04691033e-04 1.68845989e-04\n",
      "  2.46881653e-04 1.18989883e-04 1.36696908e-04 2.32016449e-04\n",
      "  2.65537237e-04 8.87831207e-04 2.11524125e-03 5.96657209e-03\n",
      "  8.84647761e-03 8.71611293e-03 3.09178885e-03 1.62582682e-03\n",
      "  8.90914933e-04 8.54834565e-04 9.13202239e-04 7.98900495e-04\n",
      "  3.07120057e-03 7.25670857e-03 4.51300759e-03 2.99396436e-03\n",
      "  6.07372203e-04 3.78268131e-04 2.57015257e-04 2.21284063e-04\n",
      "  1.17083022e-04 1.18268865e-04 2.00284674e-04 1.46790990e-04\n",
      "  1.46790844e-04 1.16633943e-04 1.63856705e-04 1.05581486e-04\n",
      "  1.89408893e-04 6.80207799e-04 6.63463667e-04 2.11081409e-04\n",
      "  2.18003319e-04 1.69086212e-04 1.52656939e-04 1.28748434e-04\n",
      "  9.73288188e-05 1.87401936e-04 4.98854322e-04 1.59656059e-03\n",
      "  1.77527149e-03 1.93846889e-03 1.09997217e-03 1.03609974e-03\n",
      "  6.08322036e-04 3.56484874e-04 1.92667343e-04 1.24429396e-04\n",
      "  1.01171900e-04 1.66917584e-04 1.51260596e-04 2.21170572e-04\n",
      "  2.98526022e-04 1.41035925e-04 1.88475344e-04 9.36030701e-05\n",
      "  2.10254453e-04 2.01142597e-04 1.63145174e-04 3.93190247e-04\n",
      "  4.35052498e-04 4.18296375e-04 5.37293730e-04 5.42435155e-04\n",
      "  4.38908115e-04 4.27430321e-04 6.89440058e-04 6.59473473e-04\n",
      "  7.34283822e-04 7.71900988e-04 5.72760822e-04 2.62823538e-04\n",
      "  2.09809878e-04 9.16671779e-05 1.96512337e-04 1.42872843e-04\n",
      "  2.06221419e-04 1.46790990e-04 1.49755855e-04 1.14324655e-04]], shape=(1, 784), dtype=float32)\n"
     ]
    }
   ],
   "source": [
    "hh0_p = tf.nn.sigmoid(tf.matmul(sample_case, W) + hb)\n",
    "hh0_s = tf.round(hh0_p)\n",
    "\n",
    "print(\"Probability nodes in hidden layer:\" ,hh0_p)\n",
    "print(\"activated nodes in hidden layer:\" ,hh0_s)\n",
    "\n",
    "# reconstruct\n",
    "vv1_p = tf.nn.sigmoid(tf.matmul(hh0_s, tf.transpose(W)) + vb)\n",
    "\n",
    "print(vv1_p)\n",
    "#rec_prob = sess.run(vv1_p, feed_dict={ hh0_s: hh0_s_val, W: prv_w, vb: prv_vb})"
   ]
  },
  {
   "cell_type": "markdown",
   "metadata": {},
   "source": [
    "Here we plot the reconstructed image:\n"
   ]
  },
  {
   "cell_type": "code",
   "execution_count": 29,
   "metadata": {},
   "outputs": [
    {
     "data": {
      "image/png": "[encoded data removed]",
      "text/plain": [
       "<Figure size 400x400 with 1 Axes>"
      ]
     },
     "metadata": {},
     "output_type": "display_data"
    }
   ],
   "source": [
    "img = Image.fromarray(tile_raster_images(X=vv1_p.numpy(), img_shape=(28, 28),tile_shape=(1, 1), tile_spacing=(1, 1)))\n",
    "plt.rcParams['figure.figsize'] = (4.0, 4.0)\n",
    "imgplot = plt.imshow(img)\n",
    "imgplot.set_cmap('gray') "
   ]
  },
  {
   "cell_type": "markdown",
   "metadata": {},
   "source": [
    "<hr>\n",
    "\n",
    "## Want to learn more?\n",
    "\n",
    "Also, you can use __Watson Studio__ to run these notebooks faster with bigger datasets.__Watson Studio__ is IBM’s leading cloud solution for data scientists, built by data scientists. With Jupyter notebooks, RStudio, Apache Spark and popular libraries pre-packaged in the cloud, __Watson Studio__ enables data scientists to collaborate on their projects without having to install anything. Join the fast-growing community of __Watson Studio__ users today with a free account at [Watson Studio](https://cocl.us/ML0120EN_DSX).This is the end of this lesson. Thank you for reading this notebook, and good luck on your studies.\n"
   ]
  },
  {
   "cell_type": "markdown",
   "metadata": {},
   "source": [
    "### Thanks for completing this lesson!\n",
    "\n",
    "Notebook created by: <a href = \"https://ca.linkedin.com/in/saeedaghabozorgi\">Saeed Aghabozorgi</a>\n",
    "\n",
    "Updated to TF 2.X by  <a href=\"https://ca.linkedin.com/in/nilmeier?utm_medium=Exinfluencer&utm_source=Exinfluencer&utm_content=000026UJ&utm_term=10006555&utm_id=NA-SkillsNetwork-Channel-SkillsNetworkCoursesIBMDeveloperSkillsNetworkDL0120ENSkillsNetwork954-2023-01-01\"> Jerome Nilmeier</a><br />\n"
   ]
  },
  {
   "cell_type": "markdown",
   "metadata": {},
   "source": [
    "### References:\n",
    "https://en.wikipedia.org/wiki/Restricted_Boltzmann_machine  \n",
    "http://deeplearning.net/tutorial/rbm.html  \n",
    "http://www.cs.utoronto.ca/~hinton/absps/netflixICML.pdf<br>\n",
    "http://imonad.com/rbm/restricted-boltzmann-machine/  \n"
   ]
  },
  {
   "cell_type": "markdown",
   "metadata": {},
   "source": [
    "<hr>\n",
    "\n",
    "Copyright &copy; 2018 [Cognitive Class](https://cocl.us/DX0108EN_CC). This notebook and its source code are released under the terms of the [MIT License](https://bigdatauniversity.com/mit-license/?utm_medium=Exinfluencer&utm_source=Exinfluencer&utm_content=000026UJ&utm_term=10006555&utm_id=NA-SkillsNetwork-Channel-SkillsNetworkCoursesIBMDeveloperSkillsNetworkDL0120ENSkillsNetwork954-2023-01-01).\n"
   ]
  }
 ],
 "metadata": {
  "kernelspec": {
   "display_name": "Python",
   "language": "python",
   "name": "conda-env-python-py"
  },
  "language_info": {
   "codemirror_mode": {
    "name": "ipython",
    "version": 3
   },
   "file_extension": ".py",
   "mimetype": "text/x-python",
   "name": "python",
   "nbconvert_exporter": "python",
   "pygments_lexer": "ipython3",
   "version": "3.7.12"
  }
 },
 "nbformat": 4,
 "nbformat_minor": 4
}
