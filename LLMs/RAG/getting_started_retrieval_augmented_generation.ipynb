{
 "cells": [
  {
   "cell_type": "markdown",
   "metadata": {},
   "source": [
    "We are going to explore retrieval augmented generation from start to finish."
   ]
  },
  {
   "cell_type": "code",
   "execution_count": null,
   "metadata": {},
   "outputs": [],
   "source": [
    "from tqdm.auto import tqdm\n",
    "from time import sleep"
   ]
  },
  {
   "cell_type": "code",
   "execution_count": 54,
   "metadata": {},
   "outputs": [],
   "source": [
    "import json\n",
    "import pandas as pd\n",
    "\n",
    "import google.generativeai as palm\n",
    "from langchain.text_splitter import RecursiveCharacterTextSplitter\n",
    "from IPython.display import display, Markdown"
   ]
  },
  {
   "cell_type": "code",
   "execution_count": null,
   "metadata": {},
   "outputs": [],
   "source": [
    "from uuid import uuid4"
   ]
  },
  {
   "cell_type": "code",
   "execution_count": null,
   "metadata": {},
   "outputs": [],
   "source": [
    "# Custom modules\n",
    "from chunker import get_chunks\n",
    "from embeddings_palm import get_palm_embeddings"
   ]
  },
  {
   "cell_type": "markdown",
   "metadata": {},
   "source": [
    "### Data Preprocessing"
   ]
  },
  {
   "cell_type": "code",
   "execution_count": 20,
   "metadata": {},
   "outputs": [],
   "source": [
    "df = pd.read_csv(\"data/Why Revolutions Fail.csv\")\n",
    "data = list(df.text)"
   ]
  },
  {
   "cell_type": "markdown",
   "metadata": {},
   "source": [
    "### Embeddings"
   ]
  },
  {
   "cell_type": "code",
   "execution_count": 23,
   "metadata": {},
   "outputs": [],
   "source": [
    "texts = get_chunks(data)"
   ]
  },
  {
   "cell_type": "code",
   "execution_count": null,
   "metadata": {},
   "outputs": [],
   "source": [
    "chunks = []\n",
    "for text in tqdm(texts):\n",
    "    \n",
    "    chunks.append(\n",
    "        {\n",
    "            'id': str(uuid4()),\n",
    "            'values': get_palm_embeddings(text),\n",
    "            'metadata': {\n",
    "                'text': text\n",
    "                }\n",
    "        }\n",
    "    )"
   ]
  },
  {
   "cell_type": "markdown",
   "metadata": {},
   "source": [
    "#### Saving Embeddings"
   ]
  },
  {
   "cell_type": "code",
   "execution_count": 44,
   "metadata": {},
   "outputs": [],
   "source": [
    "with open(\"data/text_embeddings_101.json\", \"w\", encoding='utf-8') as f:\n",
    "    json.dump(chunks, f, indent=2)"
   ]
  },
  {
   "cell_type": "markdown",
   "metadata": {},
   "source": [
    "#### Loading Embeddings"
   ]
  },
  {
   "cell_type": "code",
   "execution_count": 5,
   "metadata": {},
   "outputs": [],
   "source": [
    "# # Reading from JSON\n",
    "# with open(\"data/text_embeddings_101.json\") as json_file:\n",
    "#     chunks = json.load(json_file)"
   ]
  },
  {
   "cell_type": "markdown",
   "metadata": {},
   "source": [
    "## Pinecone"
   ]
  },
  {
   "cell_type": "code",
   "execution_count": 26,
   "metadata": {},
   "outputs": [],
   "source": [
    "import os\n",
    "import pinecone"
   ]
  },
  {
   "cell_type": "markdown",
   "metadata": {},
   "source": [
    "### Credentials"
   ]
  },
  {
   "cell_type": "code",
   "execution_count": 27,
   "metadata": {},
   "outputs": [],
   "source": [
    "pinecone_api_key = os.getenv('PINECONE_API_KEY')"
   ]
  },
  {
   "cell_type": "markdown",
   "metadata": {},
   "source": [
    "### Creating an Index"
   ]
  },
  {
   "cell_type": "code",
   "execution_count": 45,
   "metadata": {},
   "outputs": [],
   "source": [
    "\n",
    "index_name = 'general-rag-idx'\n",
    "\n",
    "# initialize connection to pinecone\n",
    "pinecone.init(\n",
    "    api_key= pinecone_api_key,\n",
    "    environment=\"gcp-starter\"  # next to API key in console\n",
    ")"
   ]
  },
  {
   "cell_type": "code",
   "execution_count": 46,
   "metadata": {},
   "outputs": [
    {
     "data": {
      "text/plain": [
       "{'dimension': 768,\n",
       " 'index_fullness': 0.0,\n",
       " 'namespaces': {'': {'vector_count': 0}},\n",
       " 'total_vector_count': 0}"
      ]
     },
     "execution_count": 46,
     "metadata": {},
     "output_type": "execute_result"
    }
   ],
   "source": [
    "# check if index already exists (it shouldn't if this is first time)\n",
    "if index_name not in pinecone.list_indexes():\n",
    "    # if does not exist, create index\n",
    "    pinecone.create_index(\n",
    "        index_name,\n",
    "        dimension=len(chunks[0]['values']),\n",
    "        metric='dotproduct'\n",
    "    )\n",
    "# connect to index\n",
    "index = pinecone.GRPCIndex(index_name)\n",
    "# view index stats\n",
    "index.describe_index_stats()"
   ]
  },
  {
   "cell_type": "markdown",
   "metadata": {},
   "source": [
    "### Populating the Index"
   ]
  },
  {
   "cell_type": "code",
   "execution_count": 47,
   "metadata": {},
   "outputs": [
    {
     "data": {
      "text/plain": [
       "upserted_count: 101"
      ]
     },
     "execution_count": 47,
     "metadata": {},
     "output_type": "execute_result"
    }
   ],
   "source": [
    "index.upsert(vectors=chunks)"
   ]
  },
  {
   "cell_type": "markdown",
   "metadata": {},
   "source": [
    "### Retrieval"
   ]
  },
  {
   "cell_type": "markdown",
   "metadata": {},
   "source": [
    "#### Create an Embedding for the Query\n",
    "This comes in the form of a query vector we will name `xq`."
   ]
  },
  {
   "cell_type": "code",
   "execution_count": 48,
   "metadata": {},
   "outputs": [],
   "source": [
    "query = \"How do revolutions generally unfold?\"\n",
    "\n",
    "xq = get_palm_embeddings(query)\n"
   ]
  },
  {
   "cell_type": "markdown",
   "metadata": {},
   "source": [
    "#### Query Vector Database"
   ]
  },
  {
   "cell_type": "code",
   "execution_count": 50,
   "metadata": {},
   "outputs": [
    {
     "data": {
      "text/plain": [
       "{'matches': [{'id': 'd91ba5c7-9762-4c3b-9736-23af509fa137',\n",
       "              'metadata': {'chunk': 61.0,\n",
       "                           'text': 'And if you’re not careful, it can become a '\n",
       "                                   'raging inferno that destroys everything in '\n",
       "                                   'its path.You will act upon the throne, but '\n",
       "                                   'the throne will act upon you. But... '\n",
       "                                   \"you'll be different this time. 😈Those who \"\n",
       "                                   'start revolutions rarely end up in power.\\n'\n",
       "                                   \"It's always those who bring the revolution \"\n",
       "                                   \"to a conclusion.You need to read Lenin's \"\n",
       "                                   'Notes of a publicist.I’m so glad you made '\n",
       "                                   'these videos on revolution. I’ve been '\n",
       "                                   'working on this story set during the '\n",
       "                                   'Russian Revolution for years now and the '\n",
       "                                   'hardest part for me has been trying '\n",
       "                                   'chronicle how the revolution evolved from '\n",
       "                                   'starting with more noble intentions and '\n",
       "                                   'then became authoritarian. These videos '\n",
       "                                   'helped so much.I feel like every time '\n",
       "                                   'people talk about revolutions failing, the '\n",
       "                                   'forget most African states fought for '\n",
       "                                   'independence and won. Most of them without '\n",
       "                                   'international support.\\n'\n",
       "                                   'I wonld say most revolutions achieve their '\n",
       "                                   \"goals, they just don't last because most \"\n",
       "                                   'are never built to. Especially in the '\n",
       "                                   'examples given. I feel these are '\n",
       "                                   'reactionary revolutions, where people are '\n",
       "                                   'forced ro edge and just snap back. There '\n",
       "                                   'Other revolutions which are quiet, and '\n",
       "                                   'those go further because their goal and '\n",
       "                                   'process is always long term.21,606th '\n",
       "                                   'viewer of this video!Within 7 hours!Okay, '\n",
       "                                   'how do we write a revolution that '\n",
       "                                   'works?14:24 It might be depressing, but '\n",
       "                                   'one argues that there are no peacetime '\n",
       "                                   'leaders, since the international community '\n",
       "                                   'is mostly concerned with siege warfare and '\n",
       "                                   'resource extraction on a very large scale. '\n",
       "                                   'It might be better to say that some people '\n",
       "                                   'can secure territory, some public support, '\n",
       "                                   'and others trade.Follow us into darkness, '\n",
       "                                   'only then can we find light.I have not '\n",
       "                                   \"watched Mando, so I'm sitting here \"\n",
       "                                   'listening to you describe scientists being '\n",
       "                                   'rolled into powerful systems during a '\n",
       "                                   \"postwar period and all I'm hearing is a \"\n",
       "                                   'fictionalized description of Operation '\n",
       "                                   'PaperclipIf your ideology relies on '\n",
       "                                   'everyone being nice to everyone then it is '\n",
       "                                   'doomed to fail.'},\n",
       "              'score': 0.73714453,\n",
       "              'sparse_values': {'indices': [], 'values': []},\n",
       "              'values': []},\n",
       "             {'id': '9c947146-593f-4dc9-a939-ddf7180ebc70',\n",
       "              'metadata': {'chunk': 24.0,\n",
       "                           'text': 'Edit 2: I do agree somewhat with the part '\n",
       "                                   'about implementation. But what you kind of '\n",
       "                                   'ignore but what I think is the core of the '\n",
       "                                   'problem is that all those failed examples '\n",
       "                                   \"you named and didn't name have in common - \"\n",
       "                                   'none of them were revolutionary anymore at '\n",
       "                                   'the point of those \"wrong turns\". Mao '\n",
       "                                   'already was a dictator when he started the '\n",
       "                                   'Great Leap Forward. Stalin already was a '\n",
       "                                   'dictator when he started the Great Purge. '\n",
       "                                   'The problem at this point is '\n",
       "                                   'authoritarianism. You cannot rebuild (not '\n",
       "                                   '\"reorganize\", btw) all of society from the '\n",
       "                                   'top down. It needs to be a long, painful, '\n",
       "                                   'but first and foremost _collective_ '\n",
       "                                   'process.A lot of the scenarios mentioned '\n",
       "                                   'could be avoided via anarchist methods of '\n",
       "                                   'organisation. Hell, past societies worked '\n",
       "                                   'pretty well on an internal basis, and only '\n",
       "                                   'collapsed because of external invasion by '\n",
       "                                   'states (Free Territory and Kronstadt taken '\n",
       "                                   'over by the Soviets, Catalonia by Fascist '\n",
       "                                   'Spain, Korean anarchist enclaves by the '\n",
       "                                   'Japanese and Rojava currently facing '\n",
       "                                   'incursions from Turkey). That sounds like '\n",
       "                                   'a condemnation of anarchism, but all it '\n",
       "                                   'really proves is that the point it raises '\n",
       "                                   'about the state and unjust hierarchies are '\n",
       "                                   \"pretty much spot on (also something I'm \"\n",
       "                                   'planning to explore in my book '\n",
       "                                   'series).Alright next I wanna know *how '\n",
       "                                   'revolutions succeed*\\n'\n",
       "                                   '..for non suspicious reasonsThese videos '\n",
       "                                   'are very interesting.  I live in what is '\n",
       "                                   'probably the oldest revolutionary '\n",
       "                                   'government, in continued existence.  Even '\n",
       "                                   'though it was not originally as democratic '\n",
       "                                   'as it has become, the revolution had '\n",
       "                                   'majority support, with local governments '\n",
       "                                   'that were proto-democratic.  After the '\n",
       "                                   'Revolution, the provisional government '\n",
       "                                   'proposed the constitution that still '\n",
       "                                   'exists [though much amended] and with a '\n",
       "                                   'government elected under it, without '\n",
       "                                   'interruption, since 1780.  The government '\n",
       "                                   'and constitution of the Commonwealth of '\n",
       "                                   'Massachusetts are older than those of the '\n",
       "                                   'United States.'},\n",
       "              'score': 0.7285884,\n",
       "              'sparse_values': {'indices': [], 'values': []},\n",
       "              'values': []},\n",
       "             {'id': '66d1ab9c-6e1c-4239-a107-94ea7e8d80cb',\n",
       "              'metadata': {'chunk': 18.0,\n",
       "                           'text': 'where it turns out that the '\n",
       "                                   'revolutionaries are just as corrupt and '\n",
       "                                   'bad as the government they previously '\n",
       "                                   \"overthrew.I'm not sure if you're just \"\n",
       "                                   'making worldbuilding videos or dropping '\n",
       "                                   'hints and preparing us for a real-life '\n",
       "                                   \"revolution... Either way I'm in.Ok but why \"\n",
       "                                   \"don't revolutions fail?Do you need to buy \"\n",
       "                                   'both world building books, or just the '\n",
       "                                   'most recent?A great taste of the '\n",
       "                                   \"complexity of revolutions. It's not a \"\n",
       "                                   'subject I want to tackle in my own '\n",
       "                                   'writing, just because of the sheer level '\n",
       "                                   'of complexity, but I did like how a '\n",
       "                                   'previous video mentioned it can just be a '\n",
       "                                   'sort of set piece or trope, depending on '\n",
       "                                   'the tone and focus of the story. Thanks '\n",
       "                                   'for using a variety of real life and '\n",
       "                                   'fictional examples! That helps a lot!Build '\n",
       "                                   'your new and better nation under the noses '\n",
       "                                   'of the tyrant. Let it fester and boil. '\n",
       "                                   'Like weeds, love and community will choke '\n",
       "                                   'out the perfectly cultivated nightshades '\n",
       "                                   'of control. Violent force is only useful '\n",
       "                                   'in defense. Conquering others leads to a '\n",
       "                                   'new tyrany.war heroes rarely make great '\n",
       "                                   \"politiciansI would suggest that it's also \"\n",
       "                                   'a question of what people are used to.  If '\n",
       "                                   'your experience governance is that of '\n",
       "                                   \"corruption and brutality, you're going to \"\n",
       "                                   'be less likely to notice when it comes '\n",
       "                                   'back.  Why note when the sun raises?this '\n",
       "                                   'is the logical conclusion of someone whose '\n",
       "                                   'understanding of revolution begins and '\n",
       "                                   'ends in fantasy / YA novels'},\n",
       "              'score': 0.7250346,\n",
       "              'sparse_values': {'indices': [], 'values': []},\n",
       "              'values': []},\n",
       "             {'id': '15b396d4-685b-4e58-9457-1fc574fac54c',\n",
       "              'metadata': {'chunk': 85.0,\n",
       "                           'text': 'One thing I do need to add is that the '\n",
       "                                   \"Prisoner's dilemma is often the sort of \"\n",
       "                                   'issue that causes a lot of infighting. '\n",
       "                                   'Everyone has an incentive to backstab and '\n",
       "                                   'thus its not only beneficial but also '\n",
       "                                   'sometimes an important means for survival. '\n",
       "                                   'Also legitimacy is a big issue and often '\n",
       "                                   'one oppresses others to prevent others '\n",
       "                                   'from siding with them against a '\n",
       "                                   'revolution. Also societies are complex '\n",
       "                                   'systems that can have lots of problems '\n",
       "                                   'when instability is present. A revolution '\n",
       "                                   'aimed at overthrowing the bourgeois may '\n",
       "                                   'find itself enriching that same class and '\n",
       "                                   'only destroying part of it. Or a '\n",
       "                                   'revolution can destroy part of one '\n",
       "                                   'class(like the aristocracy during the '\n",
       "                                   'French Revolution) only to build up an '\n",
       "                                   'even more oppressive class(such as the '\n",
       "                                   'bourgeois in that same revolution).*Arab '\n",
       "                                   'Spring was a CIA Op*Also they killed '\n",
       "                                   'sparrows...sparrows that eat '\n",
       "                                   'grasshoppers...grasshoppers that without '\n",
       "                                   'natural predators reproduce and become '\n",
       "                                   'locust... 14:11thats why i like to write '\n",
       "                                   'utopiasNgl I was part way into the video '\n",
       "                                   'and you were like \"when you\\'re writing a '\n",
       "                                   'revolution\" and I was like \"oh yea, this '\n",
       "                                   'video is about writing, not doing\"You have '\n",
       "                                   'a paper thin understanding of leftist '\n",
       "                                   'politics and you just cater to online '\n",
       "                                   'fascistsRevolutions fail because CIA '\n",
       "                                   'founds narco cartels(or mafia) and ultra '\n",
       "                                   'right wingers to destabilize country, '\n",
       "                                   'create the state of violance and ethnic '\n",
       "                                   'violance to then create economic '\n",
       "                                   'unstability, blame it all on socialism and '\n",
       "                                   'Jews and then proudly talk how life is now '\n",
       "                                   'better while you see your countryman '\n",
       "                                   'picking food from trash to eat it.Oh yes '\n",
       "                                   \"I'm familiar with this map, I'm from the \"\n",
       "                                   'Grand Duchy of the Dom ;)The biggest flaw '\n",
       "                                   'with revolutions, is that common people '\n",
       "                                   'sometimes do not understand the sacrifices '\n",
       "                                   'that must be made to survive as a '\n",
       "                                   'nationGreat video. People (myself very '\n",
       "                                   'much included) often underestimate the '\n",
       "                                   'complexity of revolutions. A good '\n",
       "                                   'follow-up explaining the dynamics among '\n",
       "                                   'the'},\n",
       "              'score': 0.7195341,\n",
       "              'sparse_values': {'indices': [], 'values': []},\n",
       "              'values': []},\n",
       "             {'id': 'c0d5fcc4-084b-4302-b9cc-bff353315215',\n",
       "              'metadata': {'chunk': 48.0,\n",
       "                           'text': 'Elite fragmentation: Political '\n",
       "                                   'polarization\\n'\n",
       "                                   '\\n'\n",
       "                                   'Popular well being is important because '\n",
       "                                   'people want to thrive. When that is not '\n",
       "                                   'the case, people look for answers to their '\n",
       "                                   'problems. When people do not thrive, '\n",
       "                                   'revolution does. The people leading the '\n",
       "                                   'revolution are disgruntled elites who are '\n",
       "                                   'looking for a way to seize power and use a '\n",
       "                                   'revolution to do so. Increasing income '\n",
       "                                   'inequality does both. It decreases popular '\n",
       "                                   'well being as some fall from the middle '\n",
       "                                   'class into the lower class. On the other '\n",
       "                                   'hand, some rise into the upper class, '\n",
       "                                   'leading to elite overproduction. In a '\n",
       "                                   'democratic society, it results in the cost '\n",
       "                                   'of winning elections rising as more people '\n",
       "                                   'vye for positions and as the amount of '\n",
       "                                   'money which can be spent on elections '\n",
       "                                   \"increases.Brilliant video. I don't think \"\n",
       "                                   'that necessarily revolutions are that '\n",
       "                                   \"impossible, but they're certainly much \"\n",
       "                                   'more complicated than people thinkJust a '\n",
       "                                   'little nitpick. Any pretense of democracy '\n",
       "                                   'in USSR was already gone by the time Lenin '\n",
       "                                   \"took power. It's situation was not very \"\n",
       "                                   'different from what happened in Egypt post '\n",
       "                                   \"revolution. Stalin was just the dictator's \"\n",
       "                                   'henchman killing all the other henchmen '\n",
       "                                   'after the first dictator died.Terry '\n",
       "                                   'Pratchett put it best. When '\n",
       "                                   'revolutionaries do things for the people '\n",
       "                                   \"they quickly find that they've got the \"\n",
       "                                   'wrong type of people.'},\n",
       "              'score': 0.7174154,\n",
       "              'sparse_values': {'indices': [], 'values': []},\n",
       "              'values': []}],\n",
       " 'namespace': ''}"
      ]
     },
     "execution_count": 50,
     "metadata": {},
     "output_type": "execute_result"
    }
   ],
   "source": [
    "res = index.query(xq, top_k=5, include_metadata=True)\n",
    "res"
   ]
  },
  {
   "cell_type": "markdown",
   "metadata": {},
   "source": [
    "## Retreival Augmented Generation"
   ]
  },
  {
   "cell_type": "markdown",
   "metadata": {},
   "source": [
    "### Augmentation"
   ]
  },
  {
   "cell_type": "code",
   "execution_count": 51,
   "metadata": {},
   "outputs": [],
   "source": [
    "# get list of retrieved text\n",
    "contexts = [item['metadata']['text'] for item in res['matches']]\n",
    "\n",
    "augmented_query = \"\\n\\n---\\n\\n\".join(contexts)+\"\\n\\n-----\\n\\n\"+query"
   ]
  },
  {
   "cell_type": "markdown",
   "metadata": {},
   "source": [
    "### Primer Template"
   ]
  },
  {
   "cell_type": "code",
   "execution_count": 53,
   "metadata": {},
   "outputs": [],
   "source": [
    "# system message to 'prime' the model\n",
    "primer = f\"\"\"You are Q&A bot. A highly intelligent system that answers\n",
    "user questions based on the information provided by the user above\n",
    "each question. If the information can not be found in the information\n",
    "provided by the user you truthfully say \"I don't know\".\n",
    "\"\"\""
   ]
  },
  {
   "cell_type": "code",
   "execution_count": 56,
   "metadata": {},
   "outputs": [],
   "source": [
    "res = palm.chat(context=primer, messages=augmented_query)"
   ]
  },
  {
   "cell_type": "code",
   "execution_count": 58,
   "metadata": {},
   "outputs": [
    {
     "data": {
      "text/plain": [
       "'Revolutions are complex events that can unfold in many different ways. However, there are some general patterns that can be observed.\\n\\nFirst, revolutions often begin with a period of social unrest. This can be caused by a number of factors, such as economic inequality, political oppression, or ethnic conflict. When people feel that they are being denied their basic rights or that their government is not representing their interests, they may become more likely to support a revolution.\\n\\nSecond, revolutions often require a charismatic leader to emerge. This leader can provide a vision for the future and inspire people to take action. The leader must also be able to build a coalition of supporters and organize them to achieve their goals.\\n\\nThird, revolutions often require the use of violence. This is because the government will not simply give up power without a fight. The revolutionaries must be willing to use force to overthrow the government and establish a new order.\\n\\nFourth, revolutions often lead to chaos and instability. This is because the old order has been overthrown, but the new order has not yet been established. There may be a power vacuum, and different groups may compete for control. This can lead to violence and instability.\\n\\nFifth, revolutions often result in the establishment of a new government. This new government may be based on the principles of democracy, equality, or justice. However, it is also possible that the new government will be just as oppressive as the old one.\\n\\nRevolutions are complex events with no easy answers. They can lead to both positive and negative outcomes. It is important to study revolutions carefully in order to understand their causes and consequences.'"
      ]
     },
     "execution_count": 58,
     "metadata": {},
     "output_type": "execute_result"
    }
   ],
   "source": [
    "display(Markdown(res.last))"
   ]
  },
  {
   "cell_type": "code",
   "execution_count": null,
   "metadata": {},
   "outputs": [],
   "source": []
  }
 ],
 "metadata": {
  "kernelspec": {
   "display_name": "Python 3",
   "language": "python",
   "name": "python3"
  },
  "language_info": {
   "codemirror_mode": {
    "name": "ipython",
    "version": 3
   },
   "file_extension": ".py",
   "mimetype": "text/x-python",
   "name": "python",
   "nbconvert_exporter": "python",
   "pygments_lexer": "ipython3",
   "version": "3.10.4"
  }
 },
 "nbformat": 4,
 "nbformat_minor": 2
}
