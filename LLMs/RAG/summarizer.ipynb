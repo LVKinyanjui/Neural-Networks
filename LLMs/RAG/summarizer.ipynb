{
 "cells": [
  {
   "cell_type": "markdown",
   "metadata": {},
   "source": [
    "In this notebook we will consume a large text, chunk it and produce a summary that is representative of that text."
   ]
  },
  {
   "cell_type": "code",
   "execution_count": 25,
   "metadata": {},
   "outputs": [],
   "source": [
    "import os\n",
    "import pandas as pd\n",
    "from tqdm import tqdm\n",
    "import google.generativeai as palm\n",
    "from IPython.display import Markdown, display"
   ]
  },
  {
   "cell_type": "markdown",
   "metadata": {},
   "source": [
    "### Configuration"
   ]
  },
  {
   "cell_type": "code",
   "execution_count": 18,
   "metadata": {},
   "outputs": [],
   "source": [
    "api_key =  os.getenv(\"PALM_API_KEY\")\n",
    "\n",
    "palm.configure(api_key=api_key)"
   ]
  },
  {
   "cell_type": "markdown",
   "metadata": {},
   "source": [
    "### Chunking"
   ]
  },
  {
   "cell_type": "code",
   "execution_count": 6,
   "metadata": {},
   "outputs": [],
   "source": [
    "# Custom modules\n",
    "from chunker import get_chunks"
   ]
  },
  {
   "cell_type": "code",
   "execution_count": 58,
   "metadata": {},
   "outputs": [],
   "source": [
    "path = \"data/transcript.txt\"\n",
    "with open(path, encoding='utf-8') as f:\n",
    "    data = f.read()\n"
   ]
  },
  {
   "cell_type": "code",
   "execution_count": 59,
   "metadata": {},
   "outputs": [],
   "source": [
    "# path = \"F:/Jupyter/APIs/YouTube/data/Escaping_Rape_and_Murder_in_Ethiopias_Civil_War.csv\"\n",
    "# data = pd.read_csv(path)"
   ]
  },
  {
   "cell_type": "code",
   "execution_count": 63,
   "metadata": {},
   "outputs": [],
   "source": [
    "text = list(data)"
   ]
  },
  {
   "cell_type": "code",
   "execution_count": 64,
   "metadata": {},
   "outputs": [],
   "source": [
    "chunks = get_chunks(text, tokens=4800)"
   ]
  },
  {
   "cell_type": "markdown",
   "metadata": {},
   "source": [
    "### Templates"
   ]
  },
  {
   "cell_type": "code",
   "execution_count": 53,
   "metadata": {},
   "outputs": [],
   "source": [
    "template_documentary = f\"\"\"\n",
    "You are a reporter working for some news agency \\\n",
    "In this particular instance, you are covering a conflict in ethiopia \\\n",
    "The dynamics of the conflict are multifaceted and complex \\\n",
    "Your job is to assess text from various people regarding the conflict \\\n",
    "Some may have actually gone through the conflict, others may only be observing the situation from afar \\\n",
    "You will create an article piece or text that could read like the transcript of a documentary \\\n",
    "You will quote individuals often and verbatim whenever you need to make a point more emphasized \\\n",
    "Use block quotes or quotation marks to represent individual voices \\\n",
    "You will then make commentary about each direct quotation \\\n",
    "You will be provided with the text to analyse in the message \\\n",
    "\n",
    "----------------------------------------------------------------------------------------------------------------\n",
    "\"\"\""
   ]
  },
  {
   "cell_type": "code",
   "execution_count": 57,
   "metadata": {},
   "outputs": [],
   "source": [
    "template_transcript = f\"\"\"\n",
    "I will provide you with a text transcript from a video recording \\\n",
    "You will help me answer some text questions regarding the text in follow up messages \\\n",
    "\"\"\""
   ]
  },
  {
   "cell_type": "markdown",
   "metadata": {},
   "source": [
    "### Querying"
   ]
  },
  {
   "cell_type": "code",
   "execution_count": 60,
   "metadata": {},
   "outputs": [],
   "source": []
  },
  {
   "cell_type": "code",
   "execution_count": 52,
   "metadata": {},
   "outputs": [
    {
     "data": {
      "text/markdown": [
       "The conflict in Ethiopia is a complex and multifaceted one, with a long history and many different actors involved. It is difficult to say who the aggressors are in this conflict, as both sides have committed atrocities. However, it is clear that the conflict has had a devastating impact on the people of Ethiopia, and that there is a need for a peaceful resolution.\n",
       "\n",
       "The conflict began in November 2020, when the Ethiopian government launched a military offensive against the Tigray People's Liberation Front (TPLF), a former ruling party in Ethiopia. The TPLF had been accused of human rights abuses and of trying to undermine the central government. The government's offensive quickly escalated into a full-scale war, with both sides committing atrocities.\n",
       "\n",
       "The war has had a devastating impact on the people of Ethiopia. Thousands of people have been killed, and millions have been displaced. The war has also caused a humanitarian crisis, with millions of people in need of food, water, and medical care.\n",
       "\n",
       "The conflict has also had a negative impact on Ethiopia's economy. The war has disrupted trade and investment, and has caused the value of the Ethiopian currency to plummet. The war has also led to a brain drain, as many skilled Ethiopians have fled the country.\n",
       "\n",
       "The conflict in Ethiopia is a complex and tragic one. There is no easy solution, and it is likely to continue for some time. However, it is important to remember that the people of Ethiopia are the ones who are suffering the most. There is a need for a peaceful resolution to this conflict, and for the international community to do more to help the people of Ethiopia."
      ],
      "text/plain": [
       "<IPython.core.display.Markdown object>"
      ]
     },
     "metadata": {},
     "output_type": "display_data"
    }
   ],
   "source": [
    "for chunk in tqdm(chunks):\n",
    "    # Template\n",
    "    message = f\"\"\"\n",
    "\n",
    "    The text transcript is an exchange between 3 or 4 individuals \\\n",
    "    They ware talking about a recent debate one of the interviewees had in the recent past \\\n",
    "\n",
    "    What are the main points advanced in the transcript? \\\n",
    "    please provide direct quotations whenever possible\n",
    "\n",
    "    Here is the text transcript \\\n",
    "    ---------------------------------------------------------------------------------------------------------------------\n",
    "\n",
    "    {chunks[0]}\n",
    "    \"\"\"\n",
    "    \n",
    "    # Display\n",
    "    res = palm.chat(context=template_transcript, messages=message, temperature=0.0)\n",
    "    response = res.last\n",
    "\n",
    "    display(Markdown(response))\n",
    "\n",
    "    # Save\n",
    "    with open(\"data/transcript_summary.txt\", encoding='utf-8') as f:\n",
    "        f.write(response)\n",
    "        f.write('-' * 150)"
   ]
  },
  {
   "cell_type": "code",
   "execution_count": null,
   "metadata": {},
   "outputs": [],
   "source": []
  }
 ],
 "metadata": {
  "kernelspec": {
   "display_name": "Python 3",
   "language": "python",
   "name": "python3"
  },
  "language_info": {
   "codemirror_mode": {
    "name": "ipython",
    "version": 3
   },
   "file_extension": ".py",
   "mimetype": "text/x-python",
   "name": "python",
   "nbconvert_exporter": "python",
   "pygments_lexer": "ipython3",
   "version": "3.10.4"
  }
 },
 "nbformat": 4,
 "nbformat_minor": 2
}
