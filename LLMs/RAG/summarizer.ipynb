{
 "cells": [
  {
   "cell_type": "markdown",
   "metadata": {},
   "source": [
    "In this notebook we will consume a large text, chunk it and produce a summary that is representative of that text."
   ]
  },
  {
   "cell_type": "code",
   "execution_count": 74,
   "metadata": {},
   "outputs": [],
   "source": [
    "import os\n",
    "import time\n",
    "import pandas as pd\n",
    "from tqdm import tqdm\n",
    "import google.generativeai as palm\n",
    "from IPython.display import Markdown, display"
   ]
  },
  {
   "cell_type": "markdown",
   "metadata": {},
   "source": [
    "### Configuration"
   ]
  },
  {
   "cell_type": "code",
   "execution_count": 18,
   "metadata": {},
   "outputs": [],
   "source": [
    "api_key =  os.getenv(\"PALM_API_KEY\")\n",
    "\n",
    "palm.configure(api_key=api_key)"
   ]
  },
  {
   "cell_type": "markdown",
   "metadata": {},
   "source": [
    "### Chunking"
   ]
  },
  {
   "cell_type": "code",
   "execution_count": 6,
   "metadata": {},
   "outputs": [],
   "source": [
    "# Custom modules\n",
    "from chunker import get_chunks"
   ]
  },
  {
   "cell_type": "code",
   "execution_count": 58,
   "metadata": {},
   "outputs": [],
   "source": [
    "path = \"data/transcript.txt\"\n",
    "with open(path, encoding='utf-8') as f:\n",
    "    data = f.read()\n"
   ]
  },
  {
   "cell_type": "code",
   "execution_count": 59,
   "metadata": {},
   "outputs": [],
   "source": [
    "# path = \"F:/Jupyter/APIs/YouTube/data/Escaping_Rape_and_Murder_in_Ethiopias_Civil_War.csv\"\n",
    "# data = pd.read_csv(path)"
   ]
  },
  {
   "cell_type": "code",
   "execution_count": 63,
   "metadata": {},
   "outputs": [],
   "source": [
    "text = list(data)"
   ]
  },
  {
   "cell_type": "code",
   "execution_count": 75,
   "metadata": {},
   "outputs": [],
   "source": [
    "chunks = get_chunks(text, tokens=2400)"
   ]
  },
  {
   "cell_type": "markdown",
   "metadata": {},
   "source": [
    "### Templates"
   ]
  },
  {
   "cell_type": "code",
   "execution_count": 53,
   "metadata": {},
   "outputs": [],
   "source": [
    "template_documentary = f\"\"\"\n",
    "You are a reporter working for some news agency \\\n",
    "In this particular instance, you are covering a conflict in ethiopia \\\n",
    "The dynamics of the conflict are multifaceted and complex \\\n",
    "Your job is to assess text from various people regarding the conflict \\\n",
    "Some may have actually gone through the conflict, others may only be observing the situation from afar \\\n",
    "You will create an article piece or text that could read like the transcript of a documentary \\\n",
    "You will quote individuals often and verbatim whenever you need to make a point more emphasized \\\n",
    "Use block quotes or quotation marks to represent individual voices \\\n",
    "You will then make commentary about each direct quotation \\\n",
    "You will be provided with the text to analyse in the message \\\n",
    "\n",
    "----------------------------------------------------------------------------------------------------------------\n",
    "\"\"\""
   ]
  },
  {
   "cell_type": "code",
   "execution_count": 57,
   "metadata": {},
   "outputs": [],
   "source": [
    "template_transcript = f\"\"\"\n",
    "I will provide you with a text transcript from a video recording \\\n",
    "You will help me answer some text questions regarding the text in follow up messages \\\n",
    "Limit your responses to 150 words\n",
    "\"\"\""
   ]
  },
  {
   "cell_type": "markdown",
   "metadata": {},
   "source": [
    "### Querying"
   ]
  },
  {
   "cell_type": "code",
   "execution_count": 77,
   "metadata": {},
   "outputs": [
    {
     "name": "stderr",
     "output_type": "stream",
     "text": [
      "  0%|          | 0/19 [00:00<?, ?it/s]"
     ]
    },
    {
     "data": {
      "text/markdown": [
       "The main points advanced in the transcript are:\n",
       "\n",
       "* The debate between Rabbi Shmuely Boteach and Muhammad Hijab was a \"comedy show\" that was \"very entertaining\" but also \"very difficult to watch.\"\n",
       "* One of the main arguments that Hijab made was that Israel is killing people with a 100 to 1 ratio, but this was based on a misunderstanding of a Guardian article.\n",
       "* The hosts of the podcast believe that Hijab and other Muslim apologists often cite sources without understanding them, and that this makes it difficult to take them seriously.\n",
       "* They also believe that the debate moderator, Piers Morgan, did not do a good job of controlling the discussion and keeping the two participants on track.\n",
       "\n",
       "The transcript also includes some personal anecdotes from the hosts, such as their experiences with other Muslim apologists and their thoughts on the debate between Dave Rubin and James Tour."
      ],
      "text/plain": [
       "<IPython.core.display.Markdown object>"
      ]
     },
     "metadata": {},
     "output_type": "display_data"
    },
    {
     "name": "stderr",
     "output_type": "stream",
     "text": [
      "  5%|▌         | 1/19 [00:11<03:22, 11.27s/it]"
     ]
    },
    {
     "data": {
      "text/markdown": [
       "The main points advanced in the transcript are:\n",
       "\n",
       "* Pierce Morgan was a poor moderator in the debate between Muhammad Hijab and Rabbi Schmuley Boteach. He allowed Hijab to interrupt and control the conversation, and he did not do enough to keep the two men on track.\n",
       "* Hijab was aggressive and disrespectful in the debate, and he often resorted to personal attacks. Boteach was more measured in his responses, but he did become frustrated with Hijab's tactics.\n",
       "* The debate was largely unproductive, as the two men were unable to have a constructive conversation. Hijab was more interested in scoring points than in engaging in a meaningful discussion.\n",
       "* The transcript provides a glimpse into the current state of discourse on the Israeli-Palestinian conflict. It is clear that there is a great deal of anger and frustration on both sides, and that it is difficult to have a civil conversation about the issue.\n",
       "\n",
       "Here are some specific quotes from the transcript that support these points:\n",
       "\n",
       "* \"Bad yeah that was bad moderating and I mean on the one hand he's just probably not used to someone jumping in uh at that level and and trying to cut people off and uh trying to derail the entire discussion uh to that extent part of it is you know for drama purposes I mean if this is it's a it's a YouTube channel so for drama purposes probably want to give some people some leeway to start the back and forth because notice he could have come in there and said guys we're going two and two no interruptions the entire time he wants more interaction than this wants some some degree of arguing but yeah that's a that's a problem in he just seemed to have no clue how to uh how to make hijab uh listen to him and actually follow rules it wouldn't have been that it wouldn't have been that difficult he could have just said look anytime you're it's okay you jumping in when I tell you hang on let him speak if you interrupt him when I say either one of you if you interrupt when I say hey let this let this guy his point then I'm gonna cut your mic and I'm gonna give this person five minutes uninterrupted do you want that and no it it would have that's how that's how you do it.\"\n",
       "* \"um in like he's been covering the the Israel Hamas stuff for weeks and he's seen like so like his views I don't think have ever been higher I I could just be unfamiliar with his uh his views in the past but every single thing that he puts out on the Israel Hamas stuff and and he he'll even like interview someone else on a completely different topic and then just start talking about Israel and Hamas with them yeah uh but what I was going to say is that he in this debate I think what he's like and this is kind of getting into like psychological speculation land but I think he's kind of looking for approval from like he he wants to to to seem impartial and so he's looking for approval from the the pro Palestinian side or like the you know whatever side his job is on and so he's I like I could tell he was like ready to answer anything that that Muhammad wanted to ask him and he was just falling into like every every trap that he was being set.\"\n",
       "* \"after after a point he started um at first he allowed Muhammad hijab to basically take over and lead the conversation uh instead of uh you know just moderating a debate with between these two people he actually allowed himself to be questioned by Muhammad while uh Rabbi schmi was just being ignored and he was he was saying what is going on this is supposed to be a debate between us not a debate between between you two and he's pointing that out and everyone can see it and Pierce was like okay hold on hold on Rabbi hold on RAB I'll get back to you hold on RAB yeah that was very bizarre and he kept doing that later later on it was like uh the rabbi was an easy easier Target for him because he's easier to interrupt he's he has much bigger difficulties with Muhammad so I I don't know that was a big failure on Pierce Morgan's part and even on that even on the like Muhammad H job turning it into like he's he's the moderator of this discussion and he's in control it's not I mean it's a little difficult if you're not used to it but if you just sit back and and think I mean all Pierce has well you answer my question I'm here to interview you and he actually said it in the first one at some point but uh he could just lay it down Muhammad hij I'm not answering your questions here I'm not answer your questions you guys are debating I'm I'm not here I'm not part of this interview except as moderator of the discussion but no he just jumped into it every time because uh you know hijabs points are the hijabs claims and questions"
      ],
      "text/plain": [
       "<IPython.core.display.Markdown object>"
      ]
     },
     "metadata": {},
     "output_type": "display_data"
    },
    {
     "name": "stderr",
     "output_type": "stream",
     "text": [
      " 11%|█         | 2/19 [00:35<05:16, 18.61s/it]"
     ]
    },
    {
     "data": {
      "text/markdown": [
       "The main points advanced in the transcript are:\n",
       "\n",
       "* Rabbi Shmuley Boteach agreed to debate Muhammad Hijab on Piers Morgan's show because he felt it was important to stand up to Hijab's lies and defamation about Jews.\n",
       "* Boteach felt that Hijab was a bully and a street thug who was not interested in a fair debate.\n",
       "* Boteach said that he was shocked that Piers Morgan allowed Hijab to walk all over him in their first debate.\n",
       "* Boteach said that he was not intimidated by Hijab's insults and that he was proud of how he handled himself in the debate.\n",
       "* Boteach said that he thought the debate started to derail when Hijab asked Piers Morgan a question instead of addressing Boteach's points.\n",
       "* Boteach said that he thought Pierce Morgan should have been more assertive in moderating the debate and that he should have stopped Hijab from interrupting Boteach.\n",
       "\n",
       "Overall, Boteach felt that the debate was a success because he was able to stand up to Hijab and his lies about Jews. He also felt that the debate showed the world that there are still people who are willing to stand up to bullies and intimidation."
      ],
      "text/plain": [
       "<IPython.core.display.Markdown object>"
      ]
     },
     "metadata": {},
     "output_type": "display_data"
    },
    {
     "name": "stderr",
     "output_type": "stream",
     "text": [
      " 16%|█▌        | 3/19 [00:45<04:00, 15.02s/it]"
     ]
    },
    {
     "data": {
      "text/markdown": [
       "The main points advanced in the transcript are:\n",
       "\n",
       "* The interviewee, Rabbi Shmuley Boteach, believes that he won a debate against Muhammad Hijab, a Muslim activist.\n",
       "* Boteach accuses Hijab of being a fraud and a terrorist.\n",
       "* Boteach claims that Hijab threatened his family.\n",
       "* Boteach compares Hijab to Michael Dukakis and Nikki Haley, two politicians who lost debates after being asked difficult questions.\n",
       "* Boteach says that he was prepared to \"get dirty\" in the debate with Hijab, and that he is not afraid of him.\n",
       "\n",
       "Boteach's comments are inflammatory and offensive. He makes unsubstantiated accusations against Hijab, and he compares him to terrorists. Boteach's comments are likely to further inflame tensions between Muslims and Jews.\n",
       "\n",
       "It is important to note that Boteach is a controversial figure. He has been accused of anti-Semitism and of promoting hate speech. His comments about Hijab should be viewed in this context.\n",
       "\n",
       "Hijab has not responded to Boteach's comments. It is unclear whether he will do so."
      ],
      "text/plain": [
       "<IPython.core.display.Markdown object>"
      ]
     },
     "metadata": {},
     "output_type": "display_data"
    },
    {
     "name": "stderr",
     "output_type": "stream",
     "text": [
      " 21%|██        | 4/19 [00:56<03:18, 13.23s/it]"
     ]
    },
    {
     "data": {
      "text/plain": [
       "<IPython.core.display.Markdown object>"
      ]
     },
     "metadata": {},
     "output_type": "display_data"
    },
    {
     "name": "stderr",
     "output_type": "stream",
     "text": [
      " 26%|██▋       | 5/19 [01:10<03:08, 13.47s/it]"
     ]
    },
    {
     "data": {
      "text/markdown": [
       "The main points advanced in the transcript are:\n",
       "\n",
       "* Muhammad Hijab is a popular Muslim apologist who has a large following.\n",
       "* Hijab has been accused of making threats and harassing people, including his opponents in debates.\n",
       "* Some people believe that Hijab is a dangerous figure who could incite violence.\n",
       "* Others believe that Hijab is simply a provocative figure who should be ignored.\n",
       "\n",
       "The transcript is from a video recording of a discussion between three people: David Pakman, AP, and Rabbi Shmuley Boteach. Pakman is a political commentator, AP is a journalist, and Boteach is a rabbi and author. The discussion is about a recent debate that Pakman had with Hijab.\n",
       "\n",
       "Pakman and Boteach are both critical of Hijab. Pakman says that Hijab is a \"buffoon\" and a \"street thug.\" Boteach says that Hijab is a \"dangerous\" figure who could incite violence. AP is more sympathetic to Hijab. He says that Hijab is simply a \"provocative\" figure who should be ignored.\n",
       "\n",
       "The transcript provides a glimpse into the debate about Hijab. It shows that there are strong opinions on both sides of the issue. Some people believe that Hijab is a dangerous figure who should be taken seriously. Others believe that he is simply a provocative figure who should be ignored.\n",
       "\n",
       "The transcript also raises some important questions about the role of social media in the spread of ideas. Hijab has a large following on social media, and his videos have been viewed millions of times. This raises the question of whether social media platforms should be more responsible for the content that they host.\n",
       "\n",
       "Overall, the transcript provides a valuable insight into the debate about Muhammad Hijab. It shows that there are strong opinions on both sides of the issue, and it raises some important questions about the role of social media in the spread of ideas."
      ],
      "text/plain": [
       "<IPython.core.display.Markdown object>"
      ]
     },
     "metadata": {},
     "output_type": "display_data"
    },
    {
     "name": "stderr",
     "output_type": "stream",
     "text": [
      " 32%|███▏      | 6/19 [01:23<02:53, 13.34s/it]"
     ]
    },
    {
     "data": {
      "text/markdown": [
       "The main points advanced in the transcript are:\n",
       "\n",
       "* Muhammad Hijab made a claim that there is a 100 to 1 ratio of civilian to combatant deaths in the Israel-Gaza conflict.\n",
       "* The hosts of the podcast argue that this claim is false and that Hijab is either lying or misinterpreting the data.\n",
       "* They point out that the Guardian article that Hijab cites does not support his claim.\n",
       "* They also argue that the Guardian is a biased source and that its reporting on Israel is often inaccurate.\n",
       "* The hosts conclude that Hijab's claim is not credible and that he is not a reliable source of information.\n",
       "\n",
       "In addition to these main points, the podcast also discusses the following:\n",
       "\n",
       "* The role of Hamas in the Israel-Gaza conflict.\n",
       "* The difficulty of accurately counting civilian casualties in war.\n",
       "* The ethics of using military force to protect civilians.\n",
       "\n",
       "Overall, the podcast is a critical analysis of Muhammad Hijab's claims about the Israel-Gaza conflict. The hosts argue that his claims are false and that he is not a reliable source of information. They also discuss the role of Hamas in the conflict and the difficulty of accurately counting civilian casualties in war."
      ],
      "text/plain": [
       "<IPython.core.display.Markdown object>"
      ]
     },
     "metadata": {},
     "output_type": "display_data"
    },
    {
     "name": "stderr",
     "output_type": "stream",
     "text": [
      " 37%|███▋      | 7/19 [01:34<02:30, 12.56s/it]"
     ]
    },
    {
     "data": {
      "text/markdown": [
       "The main points advanced in the transcript are:\n",
       "\n",
       "* Rabbi Shmuley Boteach believes that Israel does not kill too many civilians in its military operations. He argues that Israel takes great care to avoid civilian casualties, and that the number of civilian deaths in Israeli military operations is far lower than the number of civilian deaths in other conflicts.\n",
       "* Rabbi Boteach also believes that Israel is justified in its military actions against Hamas. He argues that Hamas is a terrorist organization that is committed to the destruction of Israel, and that Israel has a right to defend itself against Hamas's attacks.\n",
       "* The hosts of the podcast, however, disagree with Rabbi Boteach's assessment of the situation. They argue that Israel does kill too many civilians in its military operations, and that Israel's military actions are often disproportionate to the threat posed by Hamas.\n",
       "* The hosts also argue that Israel's occupation of the West Bank is illegal and unjust. They argue that the occupation is a major source of tension and violence in the region, and that it is time for Israel to end the occupation.\n",
       "\n",
       "The transcript is an interesting and thought-provoking discussion of the Israeli-Palestinian conflict. It is clear that the hosts and Rabbi Boteach have very different views on the situation, but they all seem to be passionate about their beliefs. It is a reminder that there are no easy answers to the Israeli-Palestinian conflict, and that it is a complex and difficult issue."
      ],
      "text/plain": [
       "<IPython.core.display.Markdown object>"
      ]
     },
     "metadata": {},
     "output_type": "display_data"
    },
    {
     "name": "stderr",
     "output_type": "stream",
     "text": [
      " 42%|████▏     | 8/19 [01:46<02:15, 12.32s/it]"
     ]
    },
    {
     "data": {
      "text/plain": [
       "<IPython.core.display.Markdown object>"
      ]
     },
     "metadata": {},
     "output_type": "display_data"
    },
    {
     "name": "stderr",
     "output_type": "stream",
     "text": [
      " 47%|████▋     | 9/19 [01:57<02:01, 12.16s/it]"
     ]
    },
    {
     "data": {
      "text/markdown": [
       "The main points advanced in the transcript are:\n",
       "\n",
       "* The speaker is discussing a recent debate they had with someone named Muhammad Hijab.\n",
       "* The speaker is critical of Hijab's claim that the ratio of civilian to combatant deaths in the recent conflict between Israel and Hamas was 100 to 1.\n",
       "* The speaker argues that this claim is unrealistic and that the actual ratio is closer to 1 to 1.\n",
       "* The speaker also argues that the goal of war is not to kill civilians, but to destroy the enemy's ability to wage war.\n",
       "* The speaker concludes by arguing that Israel has made substantial efforts to minimize civilian casualties in the recent conflict.\n",
       "\n",
       "The speaker's arguments are based on the following evidence:\n",
       "\n",
       "* A study from 2021 that found that the ratio of civilian to combatant deaths in the 2021 Gaza War was about 1 to 1.\n",
       "* The speaker's own experience in the military, which has taught them that the goal of war is not to kill civilians.\n",
       "* The speaker's belief that Israel has made substantial efforts to minimize civilian casualties in the recent conflict.\n",
       "\n",
       "The speaker's arguments are persuasive because they are based on evidence and logic. The speaker's evidence is credible and relevant to the topic at hand. The speaker's logic is sound and well-reasoned. The speaker's arguments are also persuasive because they are delivered in a clear and concise manner. The speaker's tone is respectful and professional. The speaker's language is clear and easy to understand."
      ],
      "text/plain": [
       "<IPython.core.display.Markdown object>"
      ]
     },
     "metadata": {},
     "output_type": "display_data"
    },
    {
     "name": "stderr",
     "output_type": "stream",
     "text": [
      " 53%|█████▎    | 10/19 [02:10<01:50, 12.23s/it]"
     ]
    },
    {
     "data": {
      "text/markdown": [
       "The main points advanced in the transcript are:\n",
       "\n",
       "* Israel has a responsibility to protect its citizens from Hamas.\n",
       "* Hamas is using civilians as human shields.\n",
       "* Israel has made substantial efforts to minimize civilian casualties.\n",
       "* The situation in Gaza is a nightmare.\n",
       "* There are no good options in the Israel-Palestine conflict.\n",
       "\n",
       "The transcript is from a live stream by the YouTube channel \"The Rubin Report.\" The hosts, Dave Rubin and Andrew Tate, are discussing a recent debate that Rubin had with Andrew Anglin, the founder of the white supremacist website The Daily Stormer. Anglin had accused Rubin of being a \"Zionist shill\" and of being paid by Israel. Rubin and Tate are defending Rubin against these accusations.\n",
       "\n",
       "Rubin argues that Israel has a right to defend itself from Hamas, which is a terrorist organization that has fired thousands of rockets into Israel. He also argues that Hamas is using civilians as human shields, which makes it difficult for Israel to target Hamas without also harming civilians. Tate agrees with Rubin, and he adds that the situation in Gaza is a \"nightmare\" because there are no good options.\n",
       "\n",
       "Rubin and Tate conclude by saying that there are no easy answers to the Israel-Palestine conflict, but that it is important to have honest conversations about it."
      ],
      "text/plain": [
       "<IPython.core.display.Markdown object>"
      ]
     },
     "metadata": {},
     "output_type": "display_data"
    },
    {
     "name": "stderr",
     "output_type": "stream",
     "text": [
      " 58%|█████▊    | 11/19 [02:21<01:35, 11.97s/it]"
     ]
    },
    {
     "data": {
      "text/plain": [
       "<IPython.core.display.Markdown object>"
      ]
     },
     "metadata": {},
     "output_type": "display_data"
    },
    {
     "name": "stderr",
     "output_type": "stream",
     "text": [
      " 63%|██████▎   | 12/19 [02:34<01:24, 12.14s/it]"
     ]
    },
    {
     "data": {
      "text/plain": [
       "<IPython.core.display.Markdown object>"
      ]
     },
     "metadata": {},
     "output_type": "display_data"
    },
    {
     "name": "stderr",
     "output_type": "stream",
     "text": [
      " 68%|██████▊   | 13/19 [02:45<01:11, 11.95s/it]"
     ]
    },
    {
     "data": {
      "text/plain": [
       "<IPython.core.display.Markdown object>"
      ]
     },
     "metadata": {},
     "output_type": "display_data"
    },
    {
     "name": "stderr",
     "output_type": "stream",
     "text": [
      " 74%|███████▎  | 14/19 [02:59<01:02, 12.45s/it]"
     ]
    },
    {
     "data": {
      "text/plain": [
       "<IPython.core.display.Markdown object>"
      ]
     },
     "metadata": {},
     "output_type": "display_data"
    },
    {
     "name": "stderr",
     "output_type": "stream",
     "text": [
      " 79%|███████▉  | 15/19 [03:10<00:48, 12.05s/it]"
     ]
    },
    {
     "data": {
      "text/plain": [
       "<IPython.core.display.Markdown object>"
      ]
     },
     "metadata": {},
     "output_type": "display_data"
    },
    {
     "name": "stderr",
     "output_type": "stream",
     "text": [
      " 84%|████████▍ | 16/19 [03:22<00:35, 11.97s/it]"
     ]
    },
    {
     "data": {
      "text/plain": [
       "<IPython.core.display.Markdown object>"
      ]
     },
     "metadata": {},
     "output_type": "display_data"
    },
    {
     "name": "stderr",
     "output_type": "stream",
     "text": [
      " 89%|████████▉ | 17/19 [03:34<00:24, 12.19s/it]"
     ]
    },
    {
     "data": {
      "text/markdown": [
       "The main points advanced in the transcript are:\n",
       "\n",
       "* The debate was about the nature of God and the existence of evil.\n",
       "* The two debaters had different views on these topics.\n",
       "* The debaters used evidence from the Bible and other sources to support their views.\n",
       "* The debate was lively and engaging.\n",
       "* The audience was divided in their opinions about who won the debate.\n",
       "\n",
       "Here are some specific quotes from the transcript that support these points:\n",
       "\n",
       "* \"The Bible says that God is love. But if God is love, then why does he allow evil to exist?\"\n",
       "* \"The existence of evil is a problem for all religions, not just Christianity.\"\n",
       "* \"The Bible says that God is all-powerful. But if God is all-powerful, then why doesn't he stop evil from happening?\"\n",
       "* \"The Bible says that God is all-knowing. But if God is all-knowing, then why did he create a world where evil exists?\"\n",
       "* \"The Bible says that God is just. But if God is just, then why does he allow innocent people to suffer?\"\n",
       "\n",
       "These quotes show that the two debaters had different views on the nature of God and the existence of evil. The first debater argued that God is love and that he does not allow evil to exist. The second debater argued that the existence of evil is a problem for all religions, not just Christianity. The third debater argued that God is all-powerful and that he could stop evil from happening if he wanted to. The fourth debater argued that God is all-knowing and that he knew that evil would exist when he created the world. The fifth debater argued that God is just and that he will eventually punish evildoers.\n",
       "\n",
       "The debaters used evidence from the Bible and other sources to support their views. The first debater quoted the Bible to support his claim that God is love. The second debater did not cite any specific evidence to support his claim that the existence of evil is a problem for all religions. The third debater quoted the Bible to support his claim that God is all-powerful. The fourth debater did not cite any specific evidence to support his claim that God is all-knowing. The fifth debater quoted the Bible to support his claim that God is just.\n",
       "\n",
       "The debate was lively and engaging. The two debaters were passionate about their beliefs and they were able to articulate their arguments clearly. The audience was also engaged in the debate and they asked questions and made comments throughout the discussion.\n",
       "\n",
       "The audience was divided in their opinions about who won the debate. Some people thought that the first debater won because he was able to provide evidence from the Bible to support his claims. Others thought that the second debater won because he was able to raise important questions about the nature of God and the existence of evil. Still others thought that the debate was a draw because neither debater was able to convince the other of their point of view."
      ],
      "text/plain": [
       "<IPython.core.display.Markdown object>"
      ]
     },
     "metadata": {},
     "output_type": "display_data"
    },
    {
     "name": "stderr",
     "output_type": "stream",
     "text": [
      " 95%|█████████▍| 18/19 [03:51<00:13, 13.53s/it]"
     ]
    },
    {
     "data": {
      "text/plain": [
       "<IPython.core.display.Markdown object>"
      ]
     },
     "metadata": {},
     "output_type": "display_data"
    },
    {
     "name": "stderr",
     "output_type": "stream",
     "text": [
      "100%|██████████| 19/19 [04:07<00:00, 13.04s/it]\n"
     ]
    }
   ],
   "source": [
    "for chunk in tqdm(chunks):\n",
    "    # Template\n",
    "    message = f\"\"\"\n",
    "\n",
    "    The text transcript is an exchange between 3 or 4 individuals \\\n",
    "    They ware talking about a recent debate one of the interviewees had in the recent past \\\n",
    "\n",
    "    What are the main points advanced in the transcript? \\\n",
    "    please provide direct quotations whenever possible\n",
    "\n",
    "    Here is the text transcript \\\n",
    "    ---------------------------------------------------------------------------------------------------------------------\n",
    "\n",
    "    {chunk}\n",
    "    \"\"\"\n",
    "\n",
    "    # Query\n",
    "    res = palm.chat(context=template_transcript, messages=message, temperature=0.0)\n",
    "    response = res.last\n",
    "\n",
    "    # Display\n",
    "    display(Markdown(response))\n",
    "\n",
    "    # Save\n",
    "    with open(\"data/transcript_summary.txt\", \"w\", encoding='utf-8') as f:\n",
    "        if response is not None:\n",
    "            f.write(response)\n",
    "            f.write('-' * 150)\n",
    "\n",
    "    time.sleep(5)"
   ]
  },
  {
   "cell_type": "code",
   "execution_count": null,
   "metadata": {},
   "outputs": [],
   "source": []
  }
 ],
 "metadata": {
  "kernelspec": {
   "display_name": "Python 3",
   "language": "python",
   "name": "python3"
  },
  "language_info": {
   "codemirror_mode": {
    "name": "ipython",
    "version": 3
   },
   "file_extension": ".py",
   "mimetype": "text/x-python",
   "name": "python",
   "nbconvert_exporter": "python",
   "pygments_lexer": "ipython3",
   "version": "3.10.4"
  }
 },
 "nbformat": 4,
 "nbformat_minor": 2
}
