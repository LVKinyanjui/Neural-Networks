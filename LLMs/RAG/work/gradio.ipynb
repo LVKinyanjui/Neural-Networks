{
 "cells": [
  {
   "cell_type": "markdown",
   "metadata": {},
   "source": [
    "## Gradio\n",
    "This is a tool that allows us to create nice user interfaces for our LLMs. It simplifies the task of deploying them by removing the need to understand web development in depth."
   ]
  },
  {
   "cell_type": "code",
   "execution_count": 1,
   "metadata": {},
   "outputs": [],
   "source": [
    "import os\n",
    "import gradio as gr\n",
    "import google.generativeai as palm\n",
    "from IPython.display import Markdown\n",
    "\n",
    "# Custom modules\n",
    "from embeddings_palm import get_palm_embeddings"
   ]
  },
  {
   "cell_type": "code",
   "execution_count": 2,
   "metadata": {},
   "outputs": [],
   "source": [
    "api_key = os.getenv(\"PALM_API_KEY\")\n",
    "palm.configure(api_key=api_key)"
   ]
  },
  {
   "cell_type": "markdown",
   "metadata": {},
   "source": [
    "## Pinecone"
   ]
  },
  {
   "cell_type": "code",
   "execution_count": 3,
   "metadata": {},
   "outputs": [],
   "source": [
    "import pinecone"
   ]
  },
  {
   "cell_type": "markdown",
   "metadata": {},
   "source": [
    "### Credentials"
   ]
  },
  {
   "cell_type": "code",
   "execution_count": 4,
   "metadata": {},
   "outputs": [],
   "source": [
    "pinecone_api_key = os.getenv('PINECONE_API_KEY')"
   ]
  },
  {
   "cell_type": "markdown",
   "metadata": {},
   "source": [
    "### Connecting to Pinecone Index"
   ]
  },
  {
   "cell_type": "code",
   "execution_count": 5,
   "metadata": {},
   "outputs": [],
   "source": [
    "\n",
    "index_name = 'work-documents'\n",
    "\n",
    "# initialize connection to pinecone\n",
    "pinecone.init(\n",
    "    api_key= pinecone_api_key,\n",
    "    environment=\"gcp-starter\"  # next to API key in console\n",
    ")"
   ]
  },
  {
   "cell_type": "code",
   "execution_count": 6,
   "metadata": {},
   "outputs": [
    {
     "data": {
      "text/plain": [
       "{'dimension': 768,\n",
       " 'index_fullness': 0.00046,\n",
       " 'namespaces': {'': {'vector_count': 46}},\n",
       " 'total_vector_count': 46}"
      ]
     },
     "execution_count": 6,
     "metadata": {},
     "output_type": "execute_result"
    }
   ],
   "source": [
    "# connect to index\n",
    "index = pinecone.GRPCIndex(index_name)\n",
    "# view index stats\n",
    "index.describe_index_stats()"
   ]
  },
  {
   "cell_type": "code",
   "execution_count": 13,
   "metadata": {},
   "outputs": [],
   "source": [
    "def make_query(query):\n",
    "    # Get query vector embeddings\n",
    "    xq = get_palm_embeddings(query)\n",
    "    res = index.query(xq, top_k=5, include_metadata=True)\n",
    "\n",
    "    # get list of retrieved text\n",
    "    contexts = [item['metadata']['text'] for item in res['matches']]\n",
    "\n",
    "    # Concatenate retrieved texts from vector database with the query\n",
    "    ## May exceed context length if too many\n",
    "    augmented_query = \"\\n\\n---\\n\\n\".join(contexts)+\"\\n\\n-----\\n\\n\"+query \n",
    "    \n",
    "    # system message to 'prime' the model\n",
    "    primer = f\"\"\"\n",
    "    You are a tasker working on a labelling project on an online site called Remotasks \\\n",
    "    These task types are categorized under 3D and are lidar labelling tasks \\\n",
    "    You will be provided with parts of the guidelines describing how to label various objects in the task \\\n",
    "    You MUST be detail-oriented because slight the smallest misreadings of the instructions could lead to very wrong labelling \\\n",
    "    If for some reason you cannot find text relevant to this kind of task labelling say 'I DONT KNOW' \\\n",
    "    Do not make guesses or speculate, only say things that have factual basis in the guidelines \\\n",
    "    Please quote snippets from the guidelines to support your points in each of your responses \\\n",
    "    The response should look as follows, whenever possible: \\\n",
    "\n",
    "    `\n",
    "    Your summary of the response\n",
    "    \"<Quote from the guidelines in double quotation marks>\"\n",
    "    `\n",
    "\n",
    "    A query will be provided after the task guidelines for you to answer \\\n",
    "    \"\"\"\n",
    "    res = palm.chat(context=primer, messages=augmented_query, temperature=0.0)\n",
    "    return res.last\n"
   ]
  },
  {
   "cell_type": "code",
   "execution_count": null,
   "metadata": {},
   "outputs": [],
   "source": [
    "gr.Marown()kd"
   ]
  },
  {
   "cell_type": "code",
   "execution_count": 16,
   "metadata": {},
   "outputs": [
    {
     "name": "stdout",
     "output_type": "stream",
     "text": [
      "Running on local URL:  http://127.0.0.1:7863\n",
      "Running on public URL: https://69de3f5720883a2031.gradio.live\n",
      "\n",
      "This share link expires in 72 hours. For free permanent hosting and GPU upgrades, run `gradio deploy` from Terminal to deploy to Spaces (https://huggingface.co/spaces)\n"
     ]
    },
    {
     "data": {
      "text/html": [
       "<div><iframe src=\"https://69de3f5720883a2031.gradio.live\" width=\"100%\" height=\"500\" allow=\"autoplay; camera; microphone; clipboard-read; clipboard-write;\" frameborder=\"0\" allowfullscreen></iframe></div>"
      ],
      "text/plain": [
       "<IPython.core.display.HTML object>"
      ]
     },
     "metadata": {},
     "output_type": "display_data"
    },
    {
     "data": {
      "text/plain": []
     },
     "execution_count": 16,
     "metadata": {},
     "output_type": "execute_result"
    }
   ],
   "source": [
    "demo = gr.Interface(fn=make_query, \n",
    "                    inputs=[gr.Textbox(label=\"Query to make\", lines=6)],\n",
    "                    outputs=[gr.Textbox(label=\"Result\", lines=3)],\n",
    "                    title=\"RAG for Work Documents\",\n",
    "                    description=\"Query documents stored in a vector database and have them summarized\"\n",
    "                   )\n",
    "demo.launch(share=True)"
   ]
  },
  {
   "cell_type": "code",
   "execution_count": 9,
   "metadata": {},
   "outputs": [
    {
     "name": "stdout",
     "output_type": "stream",
     "text": [
      "Closing server running on port: 7860\n"
     ]
    }
   ],
   "source": [
    "gr.close_all()"
   ]
  },
  {
   "cell_type": "code",
   "execution_count": null,
   "metadata": {},
   "outputs": [],
   "source": []
  }
 ],
 "metadata": {
  "kernelspec": {
   "display_name": "Python 3",
   "language": "python",
   "name": "python3"
  },
  "language_info": {
   "codemirror_mode": {
    "name": "ipython",
    "version": 3
   },
   "file_extension": ".py",
   "mimetype": "text/x-python",
   "name": "python",
   "nbconvert_exporter": "python",
   "pygments_lexer": "ipython3",
   "version": "3.10.4"
  }
 },
 "nbformat": 4,
 "nbformat_minor": 2
}
