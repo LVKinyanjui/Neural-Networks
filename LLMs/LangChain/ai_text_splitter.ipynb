{
 "cells": [
  {
   "cell_type": "markdown",
   "metadata": {},
   "source": [
    "Here we investigate how to make a model that splits text based on some semantic meaning. It may be by:\n",
    "- Paragraph\n",
    "- Sentence"
   ]
  },
  {
   "cell_type": "markdown",
   "metadata": {},
   "source": [
    "The `NLTKTextSplitter` is one of the splitters provided to us by `langchain` for use with text splitting. It is ML based as it incorporates learned features ofthetarget language to do the splitting."
   ]
  },
  {
   "cell_type": "code",
   "execution_count": 2,
   "metadata": {},
   "outputs": [],
   "source": [
    "from langchain.document_loaders import TextLoader\n",
    "from langchain.text_splitter import NLTKTextSplitter"
   ]
  },
  {
   "cell_type": "markdown",
   "metadata": {},
   "source": [
    "### Dataset\n"
   ]
  },
  {
   "cell_type": "code",
   "execution_count": 12,
   "metadata": {},
   "outputs": [],
   "source": [
    "with open(\"data/sample.txt\", encoding='utf-8') as f:\n",
    "    text = f.read()"
   ]
  },
  {
   "cell_type": "markdown",
   "metadata": {},
   "source": [
    "### Split Docs\n",
    "We will set the default separator as the period (.). Although other separators may mark the end of sentences this is the most common. We will also set an experimental chunk size (< 100 ) with no overlap. Some sentences will exceed the default chunk size but there will be a warning for that."
   ]
  },
  {
   "cell_type": "code",
   "execution_count": 17,
   "metadata": {},
   "outputs": [],
   "source": [
    "text_splitter = NLTKTextSplitter(separator='.', chunk_size=64, chunk_overlap=0)"
   ]
  },
  {
   "cell_type": "code",
   "execution_count": 18,
   "metadata": {},
   "outputs": [
    {
     "name": "stderr",
     "output_type": "stream",
     "text": [
      "Created a chunk of size 91, which is longer than the specified 64\n",
      "Created a chunk of size 100, which is longer than the specified 64\n",
      "Created a chunk of size 101, which is longer than the specified 64\n",
      "Created a chunk of size 126, which is longer than the specified 64\n",
      "Created a chunk of size 126, which is longer than the specified 64\n",
      "Created a chunk of size 153, which is longer than the specified 64\n",
      "Created a chunk of size 97, which is longer than the specified 64\n"
     ]
    }
   ],
   "source": [
    "docs = text_splitter.split_text(text)"
   ]
  },
  {
   "cell_type": "markdown",
   "metadata": {},
   "source": [
    "### Evaluation"
   ]
  },
  {
   "cell_type": "markdown",
   "metadata": {},
   "source": [
    "From initial visual inspection, the text was split into intact sentences even when the separators were different from the default period."
   ]
  },
  {
   "cell_type": "code",
   "execution_count": 20,
   "metadata": {},
   "outputs": [
    {
     "data": {
      "text/plain": [
       "[\"\\ufeffUnfortunately, Hansel and Gretel overheard their stepmother's words, making them very sad.\",\n",
       " 'Hansel decided to creep outside and found some white pebbles, which shone brightly in the moonlight.',\n",
       " 'Hansel filled his pockets with as many of the white pebbles as he could manage and crept back inside.',\n",
       " 'The very next morning the family went out for a walk in the woods, as they walked Hansel dropped the white pebbles behind him.',\n",
       " 'Further and further they walked into the forest, Hansel and Gretel grew tired, their father made a fire and told them to rest.',\n",
       " 'When Hansel and Gretel awoke they were all alone, fortunately, Hansel’s plan had been a success, and they could follow the white stones all the way home!',\n",
       " 'When they arrived back home their father was overjoyed, however, their stepmother was very cross.',\n",
       " 'Later that night she told Hansel and Gretel’s father that he must get rid of them again!']"
      ]
     },
     "execution_count": 20,
     "metadata": {},
     "output_type": "execute_result"
    }
   ],
   "source": [
    "docs"
   ]
  },
  {
   "cell_type": "markdown",
   "metadata": {},
   "source": [
    "### LLM evaluation"
   ]
  },
  {
   "cell_type": "code",
   "execution_count": 25,
   "metadata": {},
   "outputs": [],
   "source": [
    "import os\n",
    "import google.generativeai as palm"
   ]
  },
  {
   "cell_type": "code",
   "execution_count": 34,
   "metadata": {},
   "outputs": [],
   "source": [
    "context = \"\"\"\n",
    "Does this text segment constitute a complete sentence? \\\n",
    "Ude the presence of separators . ! or ? to make your judgemnt \\\n",
    "Return `True` if is a complete sentence or `False` otherwise \\\n",
    "\"\"\""
   ]
  },
  {
   "cell_type": "code",
   "execution_count": 35,
   "metadata": {},
   "outputs": [
    {
     "name": "stdout",
     "output_type": "stream",
     "text": [
      "Yes, this is a complete sentence. It has a subject (Hansel and Gretel), a verb (overheard), and an object (their stepmother's words). It also has a complete thought.\n",
      "Yes, this is a complete sentence. It has a subject (Hansel and Gretel), a verb (overheard), and an object (their stepmother's words). It also has a complete thought.\n",
      "Yes, the text segment \"Unfortunately, Hansel and Gretel overheard their stepmother's words, making them very sad.\" constitutes a complete sentence. It has a subject (\"Hansel and Gretel\"), a verb (\"overheard\"), and an object (\"their stepmother's words\"). It also has a complete thought, which is that Hansel and Gretel were sad when they overheard their stepmother's words.\n",
      "\n",
      "The sentence is also grammatically correct. It has a subject-verb agreement, and the verb is in the past tense. The sentence also has a correct punctuation, with a comma after \"unfortunately\" and a period at the end.\n",
      "Yes, this is a complete sentence. It has a subject (Hansel and Gretel), a verb (overheard), and an object (their stepmother's words). It also has a complete thought.\n",
      "Yes, this is a complete sentence. It has a subject (Hansel and Gretel), a verb (overheard), and an object (their stepmother's words). It also ends with a period, which is a punctuation mark that indicates the end of a sentence.\n",
      "\n",
      "The sentence is also grammatically correct. The subject and verb agree in number, and the object is in the correct case. The sentence also makes sense, and it is not contradicted by any other information in the story.\n",
      "\n",
      "Therefore, I can confidently say that this is a complete sentence.\n",
      "Yes, this is a complete sentence. It has a subject (Hansel and Gretel), a verb (overheard), and an object (their stepmother's words). It also has a complete thought.\n",
      "\n",
      "The sentence is also grammatically correct. It follows the rules of English grammar, and it is easy to understand.\n",
      "\n",
      "The sentence is also relevant to the topic at hand, which is the story of Hansel and Gretel. It provides information about the characters and their emotions.\n",
      "\n",
      "Overall, this is a well-written sentence that meets all of the criteria for a complete sentence.\n",
      "Yes, this is a complete sentence. It has a subject (Hansel and Gretel), a verb (overheard), and an object (their stepmother's words). It also has a complete thought.\n",
      "Yes, the text segment \"Unfortunately, Hansel and Gretel overheard their stepmother's words, making them very sad.\" constitutes a complete sentence. It has a subject (\"Hansel and Gretel\"), a verb (\"overheard\"), and an object (\"their stepmother's words\"). It also has a complete thought, which is that Hansel and Gretel were sad when they overheard their stepmother's words.\n"
     ]
    }
   ],
   "source": [
    "for doc in docs:\n",
    "    res = palm.chat(\n",
    "        context=context,\n",
    "        messages=docs[0]\n",
    "    )\n",
    "    \n",
    "    print(res.last)"
   ]
  },
  {
   "cell_type": "code",
   "execution_count": null,
   "metadata": {},
   "outputs": [],
   "source": []
  }
 ],
 "metadata": {
  "kernelspec": {
   "display_name": "Python 3",
   "language": "python",
   "name": "python3"
  },
  "language_info": {
   "codemirror_mode": {
    "name": "ipython",
    "version": 3
   },
   "file_extension": ".py",
   "mimetype": "text/x-python",
   "name": "python",
   "nbconvert_exporter": "python",
   "pygments_lexer": "ipython3",
   "version": "3.10.4"
  }
 },
 "nbformat": 4,
 "nbformat_minor": 2
}
