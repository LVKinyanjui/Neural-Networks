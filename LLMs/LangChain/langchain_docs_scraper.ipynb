{
 "cells": [
  {
   "cell_type": "code",
   "execution_count": 20,
   "metadata": {},
   "outputs": [],
   "source": [
    "import time\n",
    "import selenium\n",
    "from selenium import webdriver\n",
    "from selenium.webdriver.common.by import By\n",
    "from selenium.webdriver.common.keys import Keys"
   ]
  },
  {
   "cell_type": "code",
   "execution_count": 2,
   "metadata": {},
   "outputs": [],
   "source": [
    "driver = webdriver.Chrome()\n",
    "driver.get(\"https://python.langchain.com/docs/get_started\")"
   ]
  },
  {
   "cell_type": "code",
   "execution_count": 23,
   "metadata": {},
   "outputs": [],
   "source": [
    "count = 0\n",
    "while isinstance(next_page, selenium.webdriver.remote.webelement.WebElement):\n",
    "    count += 1\n",
    "    if count > 26:\n",
    "        break\n",
    "\n",
    "    # title = driver.title.replace(' ', '')\n",
    "    html = driver.page_source\n",
    "\n",
    "    with open(f\"data/docs{count}.html\", \"w\", encoding='utf-8') as f:\n",
    "        f.write(html)\n",
    "\n",
    "    next_page = driver.find_element(By.XPATH, \"//a[@class='pagination-nav__link pagination-nav__link--next']\")\n",
    "    next_page.click()\n",
    "\n",
    "    time.sleep(3)"
   ]
  },
  {
   "cell_type": "code",
   "execution_count": null,
   "metadata": {},
   "outputs": [],
   "source": []
  }
 ],
 "metadata": {
  "kernelspec": {
   "display_name": "Python 3",
   "language": "python",
   "name": "python3"
  },
  "language_info": {
   "codemirror_mode": {
    "name": "ipython",
    "version": 3
   },
   "file_extension": ".py",
   "mimetype": "text/x-python",
   "name": "python",
   "nbconvert_exporter": "python",
   "pygments_lexer": "ipython3",
   "version": "3.10.4"
  }
 },
 "nbformat": 4,
 "nbformat_minor": 2
}
