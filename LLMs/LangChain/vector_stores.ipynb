{
 "cells": [
  {
   "cell_type": "markdown",
   "metadata": {},
   "source": [
    "### Credentials"
   ]
  },
  {
   "cell_type": "code",
   "execution_count": 24,
   "metadata": {},
   "outputs": [],
   "source": [
    "import os\n",
    "api_key = os.getenv(\"PALM_API_KEY\")\n",
    "pinecone_api_key = os.getenv(\"PINECONE_API_KEY\")"
   ]
  },
  {
   "cell_type": "markdown",
   "metadata": {},
   "source": [
    "### Document Loaders"
   ]
  },
  {
   "cell_type": "code",
   "execution_count": 1,
   "metadata": {},
   "outputs": [],
   "source": [
    "from langchain.document_loaders import CSVLoader"
   ]
  },
  {
   "cell_type": "code",
   "execution_count": 4,
   "metadata": {},
   "outputs": [],
   "source": [
    "loader = CSVLoader(\"data/sample.csv\")\n",
    "docs = loader.load()"
   ]
  },
  {
   "cell_type": "markdown",
   "metadata": {},
   "source": [
    "### Embeddings"
   ]
  },
  {
   "cell_type": "code",
   "execution_count": 6,
   "metadata": {},
   "outputs": [],
   "source": [
    "from langchain.embeddings import GooglePalmEmbeddings"
   ]
  },
  {
   "cell_type": "code",
   "execution_count": 8,
   "metadata": {},
   "outputs": [],
   "source": [
    "embeddings = GooglePalmEmbeddings(google_api_key=api_key)"
   ]
  },
  {
   "cell_type": "code",
   "execution_count": 27,
   "metadata": {},
   "outputs": [],
   "source": [
    "embed = embeddings.embed_query(\"Hi my name is Harrison\")"
   ]
  },
  {
   "cell_type": "markdown",
   "metadata": {},
   "source": [
    "### LLM"
   ]
  },
  {
   "cell_type": "code",
   "execution_count": 31,
   "metadata": {},
   "outputs": [],
   "source": [
    "from langchain.chat_models.google_palm import ChatGooglePalm"
   ]
  },
  {
   "cell_type": "code",
   "execution_count": 32,
   "metadata": {},
   "outputs": [],
   "source": [
    "llm = ChatGooglePalm(google_api_key=api_key)"
   ]
  },
  {
   "cell_type": "markdown",
   "metadata": {},
   "source": [
    "### Vector Store"
   ]
  },
  {
   "cell_type": "code",
   "execution_count": 17,
   "metadata": {},
   "outputs": [],
   "source": [
    "import pinecone\n",
    "from langchain.vectorstores.pinecone import Pinecone"
   ]
  },
  {
   "cell_type": "code",
   "execution_count": 11,
   "metadata": {},
   "outputs": [],
   "source": [
    "query = \"What is the median age?\""
   ]
  },
  {
   "cell_type": "code",
   "execution_count": 29,
   "metadata": {},
   "outputs": [
    {
     "data": {
      "text/plain": [
       "'Name: John Doe\\nAge: 28\\nEmail: john.doe@email.com\\nPhone: 555-1234\\nCity: New YorkName: Jane Smith\\nAge: 35\\nEmail: jane.smith@email.com\\nPhone: 555-5678\\nCity: Los AngelesName: Bob Johnson\\nAge: 42\\nEmail: bob.johnson@email.com\\nPhone: 555-9876\\nCity: ChicagoName: Alice Williams\\nAge: 30\\nEmail: alice.williams@email.com\\nPhone: 555-4321\\nCity: San FranciscoName: Charlie Brown\\nAge: 25\\nEmail: charlie.brown@email.com\\nPhone: 555-8765\\nCity: SeattleName: Emily Davis\\nAge: 38\\nEmail: emily.davis@email.com\\nPhone: 555-2345\\nCity: MiamiName: David Miller\\nAge: 45\\nEmail: david.miller@email.com\\nPhone: 555-8765\\nCity: BostonName: Eva Jones\\nAge: 32\\nEmail: eva.jones@email.com\\nPhone: 555-3456\\nCity: DallasName: Frank White\\nAge: 29\\nEmail: frank.white@email.com\\nPhone: 555-6543\\nCity: HoustonName: Grace Taylor\\nAge: 34\\nEmail: grace.taylor@email.com\\nPhone: 555-7890\\nCity: AtlantaName: Henry Clark\\nAge: 41\\nEmail: henry.clark@email.com\\nPhone: 555-2345\\nCity: DenverName: Isabel Lee\\nAge: 27\\nEmail: isabel.lee@email.com\\nPhone: 555-8901\\nCity: PhoenixName: James Brown\\nAge: 36\\nEmail: james.brown@email.com\\nPhone: 555-3456\\nCity: Las VegasName: Karen Wilson\\nAge: 33\\nEmail: karen.wilson@email.com\\nPhone: 555-6789\\nCity: PortlandName: Larry Green\\nAge: 40\\nEmail: larry.green@email.com\\nPhone: 555-1234\\nCity: San DiegoName: Megan Carter\\nAge: 26\\nEmail: megan.carter@email.com\\nPhone: 555-9876\\nCity: AustinName: Nathan Hall\\nAge: 39\\nEmail: nathan.hall@email.com\\nPhone: 555-4321\\nCity: PhiladelphiaName: Olivia Turner\\nAge: 31\\nEmail: olivia.turner@email.com\\nPhone: 555-8765\\nCity: MinneapolisName: Paul Harris\\nAge: 37\\nEmail: paul.harris@email.com\\nPhone: 555-2345\\nCity: DetroitName: Quincy Adams\\nAge: 28\\nEmail: quincy.adams@email.com\\nPhone: 555-7890\\nCity: Charlotte'"
      ]
     },
     "execution_count": 29,
     "metadata": {},
     "output_type": "execute_result"
    }
   ],
   "source": [
    "qdocs = \"\".join([docs[i].page_content for i in range(len(docs))])"
   ]
  },
  {
   "cell_type": "code",
   "execution_count": 25,
   "metadata": {},
   "outputs": [],
   "source": [
    "pinecone.init(api_key=pinecone_api_key, environment=\"gcp-starter\")\n",
    "index = pinecone.Index(\"langchain-demo\")\n",
    "\n",
    "Pinecone(index=index, embedding=embeddings, text_key=qdocs)"
   ]
  },
  {
   "cell_type": "markdown",
   "metadata": {},
   "source": [
    "### Retrieval"
   ]
  },
  {
   "cell_type": "code",
   "execution_count": null,
   "metadata": {},
   "outputs": [],
   "source": [
    "from langchain.chains import RetrievalQA"
   ]
  }
 ],
 "metadata": {
  "kernelspec": {
   "display_name": "Python 3",
   "language": "python",
   "name": "python3"
  },
  "language_info": {
   "codemirror_mode": {
    "name": "ipython",
    "version": 3
   },
   "file_extension": ".py",
   "mimetype": "text/x-python",
   "name": "python",
   "nbconvert_exporter": "python",
   "pygments_lexer": "ipython3",
   "version": "3.10.4"
  }
 },
 "nbformat": 4,
 "nbformat_minor": 2
}
