{
 "cells": [
  {
   "cell_type": "markdown",
   "id": "bc64a664-743d-408e-845b-bc2205f7e8ff",
   "metadata": {},
   "source": [
    "<h1 align=center> Regression with Pytorch </h1>"
   ]
  },
  {
   "cell_type": "markdown",
   "id": "446c7457-f34b-4c50-9943-0c492f6e8c2d",
   "metadata": {},
   "source": [
    "<h2 align=center> Spceship Titanic </h2>\n",
    "A beginners' dataset. There is no better place to start."
   ]
  },
  {
   "cell_type": "code",
   "execution_count": null,
   "id": "34b1b3db-9376-4fbf-8d7c-99ce472936f2",
   "metadata": {},
   "outputs": [],
   "source": []
  }
 ],
 "metadata": {
  "kernelspec": {
   "display_name": "Python 3 (ipykernel)",
   "language": "python",
   "name": "python3"
  },
  "language_info": {
   "codemirror_mode": {
    "name": "ipython",
    "version": 3
   },
   "file_extension": ".py",
   "mimetype": "text/x-python",
   "name": "python",
   "nbconvert_exporter": "python",
   "pygments_lexer": "ipython3",
   "version": "3.10.4"
  }
 },
 "nbformat": 4,
 "nbformat_minor": 5
}
