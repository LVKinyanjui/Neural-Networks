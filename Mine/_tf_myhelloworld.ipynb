{
 "cells": [
  {
   "cell_type": "markdown",
   "id": "70809121-a3fb-49d4-a5d1-3273bf98383e",
   "metadata": {},
   "source": [
    "This is meant to be my sandbox for messing around with the `tensorflow` library."
   ]
  },
  {
   "cell_type": "code",
   "execution_count": null,
   "id": "27462509-ff5b-494e-a606-5b8afde58d9a",
   "metadata": {
    "tags": []
   },
   "outputs": [],
   "source": [
    "import tensorflow as tf"
   ]
  },
  {
   "cell_type": "code",
   "execution_count": null,
   "id": "89f4044d-ac7d-45cd-89c4-8f8226b5df4c",
   "metadata": {},
   "outputs": [],
   "source": [
    "tf."
   ]
  }
 ],
 "metadata": {
  "kernelspec": {
   "display_name": "DeepLearning",
   "language": "python",
   "name": "deeplearning"
  },
  "language_info": {
   "codemirror_mode": {
    "name": "ipython",
    "version": 3
   },
   "file_extension": ".py",
   "mimetype": "text/x-python",
   "name": "python",
   "nbconvert_exporter": "python",
   "pygments_lexer": "ipython3",
   "version": "3.10.4"
  }
 },
 "nbformat": 4,
 "nbformat_minor": 5
}
